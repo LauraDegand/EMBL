{
 "cells": [
  {
   "cell_type": "code",
   "execution_count": 1,
   "id": "b612a593",
   "metadata": {},
   "outputs": [],
   "source": [
    "%matplotlib inline\n",
    "%load_ext tensorboard\n",
    "import os\n",
    "import imageio\n",
    "import matplotlib.pyplot as plt\n",
    "import numpy as np\n",
    "from PIL import Image\n",
    "from scipy.ndimage import binary_erosion\n",
    "import torch\n",
    "from torch.utils.data import Dataset, DataLoader\n",
    "from torch.utils.tensorboard import SummaryWriter\n",
    "import torch.nn as nn\n",
    "from torch.nn import functional as F\n",
    "from torchvision import transforms"
   ]
  },
  {
   "cell_type": "code",
   "execution_count": 2,
   "id": "30a4ab39",
   "metadata": {},
   "outputs": [
    {
     "name": "stdout",
     "output_type": "stream",
     "text": [
      "--2022-01-21 11:29:39--  https://docs.google.com/uc?export=download&confirm=n8Yl&id=1EbvS10-83JGNE2nlBxIV42izY1TOr115\n",
      "Resolving docs.google.com (docs.google.com)... 2a00:1450:4007:805::200e, 216.58.213.142\n",
      "Connecting to docs.google.com (docs.google.com)|2a00:1450:4007:805::200e|:443... connected.\n",
      "HTTP request sent, awaiting response... 302 Moved Temporarily\n",
      "Location: https://doc-0k-84-docs.googleusercontent.com/docs/securesc/ojge6k3leqkrnfrsim107inrgeqdoj2g/vls6kvbrfq7bmp42a3e4km94ajglahoo/1642760925000/17999766797462482814/18078763677743949630Z/1EbvS10-83JGNE2nlBxIV42izY1TOr115?e=download [following]\n",
      "--2022-01-21 11:29:39--  https://doc-0k-84-docs.googleusercontent.com/docs/securesc/ojge6k3leqkrnfrsim107inrgeqdoj2g/vls6kvbrfq7bmp42a3e4km94ajglahoo/1642760925000/17999766797462482814/18078763677743949630Z/1EbvS10-83JGNE2nlBxIV42izY1TOr115?e=download\n",
      "Resolving doc-0k-84-docs.googleusercontent.com (doc-0k-84-docs.googleusercontent.com)... 2a00:1450:4007:80f::2001, 216.58.213.65\n",
      "Connecting to doc-0k-84-docs.googleusercontent.com (doc-0k-84-docs.googleusercontent.com)|2a00:1450:4007:80f::2001|:443... connected.\n",
      "HTTP request sent, awaiting response... 302 Found\n",
      "Location: https://docs.google.com/nonceSigner?nonce=j1pehqf2ul1lk&continue=https://doc-0k-84-docs.googleusercontent.com/docs/securesc/ojge6k3leqkrnfrsim107inrgeqdoj2g/vls6kvbrfq7bmp42a3e4km94ajglahoo/1642760925000/17999766797462482814/18078763677743949630Z/1EbvS10-83JGNE2nlBxIV42izY1TOr115?e%3Ddownload&hash=q961c1pfh3gd80tgstdq4ca6uefg8nkl [following]\n",
      "--2022-01-21 11:29:39--  https://docs.google.com/nonceSigner?nonce=j1pehqf2ul1lk&continue=https://doc-0k-84-docs.googleusercontent.com/docs/securesc/ojge6k3leqkrnfrsim107inrgeqdoj2g/vls6kvbrfq7bmp42a3e4km94ajglahoo/1642760925000/17999766797462482814/18078763677743949630Z/1EbvS10-83JGNE2nlBxIV42izY1TOr115?e%3Ddownload&hash=q961c1pfh3gd80tgstdq4ca6uefg8nkl\n",
      "Connecting to docs.google.com (docs.google.com)|2a00:1450:4007:805::200e|:443... connected.\n",
      "HTTP request sent, awaiting response... 302 Found\n",
      "Location: https://doc-0k-84-docs.googleusercontent.com/docs/securesc/ojge6k3leqkrnfrsim107inrgeqdoj2g/vls6kvbrfq7bmp42a3e4km94ajglahoo/1642760925000/17999766797462482814/18078763677743949630Z/1EbvS10-83JGNE2nlBxIV42izY1TOr115?e=download&nonce=j1pehqf2ul1lk&user=18078763677743949630Z&hash=e4kc90jvbv9d8513mk4l313q39gaf1g7 [following]\n",
      "--2022-01-21 11:29:40--  https://doc-0k-84-docs.googleusercontent.com/docs/securesc/ojge6k3leqkrnfrsim107inrgeqdoj2g/vls6kvbrfq7bmp42a3e4km94ajglahoo/1642760925000/17999766797462482814/18078763677743949630Z/1EbvS10-83JGNE2nlBxIV42izY1TOr115?e=download&nonce=j1pehqf2ul1lk&user=18078763677743949630Z&hash=e4kc90jvbv9d8513mk4l313q39gaf1g7\n",
      "Connecting to doc-0k-84-docs.googleusercontent.com (doc-0k-84-docs.googleusercontent.com)|2a00:1450:4007:80f::2001|:443... connected.\n",
      "HTTP request sent, awaiting response... 200 OK\n",
      "Length: 86592734 (83M) [application/zip]\n",
      "Saving to: ‘kaggle_data.zip’\n",
      "\n",
      "kaggle_data.zip     100%[===================>]  82,58M   727KB/s    in 3m 1s   \n",
      "\n",
      "2022-01-21 11:32:41 (468 KB/s) - ‘kaggle_data.zip’ saved [86592734/86592734]\n",
      "\n"
     ]
    }
   ],
   "source": [
    "!wget --load-cookies /tmp/cookies.txt \"https://docs.google.com/uc?export=download&confirm=$(wget --quiet --save-cookies /tmp/cookies.txt --keep-session-cookies --no-check-certificate 'https://docs.google.com/uc?export=download&id=1EbvS10-83JGNE2nlBxIV42izY1TOr115' -O- | sed -rn 's/.*confirm=([0-9A-Za-z_]+).*/\\1\\n/p')&id=1EbvS10-83JGNE2nlBxIV42izY1TOr115\" -O kaggle_data.zip && rm -rf /tmp/cookies.txt"
   ]
  },
  {
   "cell_type": "code",
   "execution_count": 3,
   "id": "180e6480",
   "metadata": {},
   "outputs": [],
   "source": [
    "!unzip -qq kaggle_data.zip && rm kaggle_data.zip"
   ]
  },
  {
   "cell_type": "code",
   "execution_count": null,
   "id": "310562dc",
   "metadata": {},
   "outputs": [],
   "source": []
  }
 ],
 "metadata": {
  "kernelspec": {
   "display_name": "Python 3 (ipykernel)",
   "language": "python",
   "name": "python3"
  },
  "language_info": {
   "codemirror_mode": {
    "name": "ipython",
    "version": 3
   },
   "file_extension": ".py",
   "mimetype": "text/x-python",
   "name": "python",
   "nbconvert_exporter": "python",
   "pygments_lexer": "ipython3",
   "version": "3.9.6"
  }
 },
 "nbformat": 4,
 "nbformat_minor": 5
}
