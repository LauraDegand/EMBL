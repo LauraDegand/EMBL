{
 "cells": [
  {
   "cell_type": "code",
   "execution_count": 1,
   "id": "39063123-0614-4d48-a63e-2e25523a2ff0",
   "metadata": {},
   "outputs": [
    {
     "name": "stderr",
     "output_type": "stream",
     "text": [
      "QStandardPaths: XDG_RUNTIME_DIR points to non-existing path '/run/user/1043', please create it with 0700 permissions.\n"
     ]
    }
   ],
   "source": [
    "%gui qt5\n",
    "%load_ext tensorboard\n",
    "\n",
    "from skimage import data\n",
    "import napari\n",
    "import imageio\n",
    "import glob\n",
    "from skimage.transform import rescale\n",
    "import os\n",
    "import matplotlib.pyplot as plt\n",
    "import numpy as np\n",
    "import torch\n",
    "from torch.utils.data import Dataset, DataLoader\n",
    "from torch.utils.tensorboard import SummaryWriter\n",
    "import torch.nn as nn\n",
    "from torchvision import transforms\n",
    "from torch.optim import Adam\n",
    "from tqdm import tqdm, trange"
   ]
  },
  {
   "cell_type": "code",
   "execution_count": 2,
   "id": "1d521c5e-2a3c-40d5-b243-d9d3a6aaf321",
   "metadata": {},
   "outputs": [],
   "source": [
    "# Data augmentation\n",
    "def random_flip(image, target, probability=0.5):\n",
    "    \"\"\" Randomly mirror the image and labels across the horizontal axis.\n",
    "    \"\"\"\n",
    "    if np.random.rand() < probability:\n",
    "        image = torch.flip(image, dims=[-1])\n",
    "        target = torch.flip(target, dims=[-1])\n",
    "    #if np.random.rand() < probability:\n",
    "    #    image = np.array([np.fliplr(im) for im in image])\n",
    "    return image, target\n",
    "\n",
    "def add_saltpepper_noise(img, probability =0.5):\n",
    "    if np.random.rand() < probability:\n",
    "        probs = np.random.random(img.shape)\n",
    "        img[probs < 0.01] = 0\n",
    "        img[probs > 0.99] = 1\n",
    "    return img"
   ]
  },
  {
   "cell_type": "code",
   "execution_count": 3,
   "id": "b73f4fee-a77c-40bf-abbd-94598110fc71",
   "metadata": {},
   "outputs": [],
   "source": [
    "class DrosoMicroCT(Dataset):\n",
    "    '''A dataset to load microCT scans of Drosophila and organ segmentations'''\n",
    "    def __init__(self, root_dir, transform=None):\n",
    "        self.root_dir = root_dir  # the directory with all the training samples\n",
    "        self.samples = os.listdir(os.path.join(root_dir,  'images')) # list the samples\n",
    "        self.transform = transform    # transformations to apply to both inputs and targets\n",
    "        #  transformations to apply just to inputs\n",
    "        #self.inp_transforms = transforms.Compose([transforms.Normalize([0.5], [0.5])])\n",
    "        # self.inp_transforms = transforms.Compose([transforms.ToTensor(),transforms.Normalize([0.5], [0.5])])\n",
    "        # transformations to apply just to targets\n",
    "        #self.mask_transforms = torch.tensor()\n",
    "        \n",
    "        # get the total number of samples\n",
    "    def __len__(self):\n",
    "        return len(self.samples)\n",
    "    \n",
    "    # fetch the training sample given its index\n",
    "    def __getitem__(self, idx):\n",
    "        img_path = os.path.join(self.root_dir,\n",
    "                                'images', self.samples[idx])\n",
    "        image = imageio.volread(img_path)\n",
    "        image = (image-np.mean(image))/np.std(image)\n",
    "        image = torch.tensor(image)\n",
    "        #image = self.inp_transforms(image)\n",
    "        labels_path = os.path.join(self.root_dir, 'labels', self.samples[idx].replace('Rec', 'Rec_labels'))\n",
    "        labels = imageio.volread(labels_path)\n",
    "        labels[labels == 4] = 3 #converts ovaries to same label\n",
    "        \n",
    "        one_hot = np.zeros((4,128,128,128),dtype='float32')\n",
    "        for chan, labelid in enumerate(range(0,4)):\n",
    "            one_hot[chan] = labels == labelid\n",
    "        labels = one_hot\n",
    "        \n",
    "        labels = torch.tensor(labels)\n",
    "        image = torch.unsqueeze(image, dim=0)\n",
    "        labels = torch.unsqueeze(labels, dim=0)\n",
    "        if self.transform is not None:\n",
    "            image, labels = self.transform([image, labels])\n",
    "        return image.type(torch.FloatTensor), labels.type(torch.FloatTensor)\n",
    "        #return image, labels"
   ]
  },
  {
   "cell_type": "code",
   "execution_count": 4,
   "id": "5d5bff88-0fda-4899-bad5-3609db60ed9f",
   "metadata": {},
   "outputs": [],
   "source": [
    "train_dataset = DrosoMicroCT('./Project5_Drosophila_microCT_segmentation/resize2/train')\n",
    "train_loader = DataLoader(train_dataset, batch_size=2, shuffle=True)\n",
    "\n",
    "val_data = DrosoMicroCT('./Project5_Drosophila_microCT_segmentation/resize2/val')\n",
    "val_loader = DataLoader(val_data, batch_size=2)"
   ]
  },
  {
   "cell_type": "code",
   "execution_count": 5,
   "id": "8b7f9e30-a3a5-4099-99e8-e8dc5ffa86df",
   "metadata": {},
   "outputs": [],
   "source": [
    "class UNet(nn.Module):\n",
    "    \"\"\" UNet implementation\n",
    "    Arguments:\n",
    "      in_channels: number of input channels\n",
    "      out_channels: number of output channels\n",
    "      final_activation: activation applied to the network output\n",
    "    \"\"\"\n",
    "    \n",
    "    # _conv_block and _upsampler are just helper functions to\n",
    "    # construct the model.\n",
    "    # encapsulating them like so also makes it easy to re-use\n",
    "    # the model implementation with different architecture elements\n",
    "    \n",
    "    # Convolutional block for single layer of the decoder / encoder\n",
    "    # we apply to 3d convolutions with relu activation\n",
    "    def _conv_block(self, in_channels, out_channels):\n",
    "        return nn.Sequential(nn.Conv3d(in_channels, out_channels, kernel_size=3, padding=1),\n",
    "                             nn.ReLU(),\n",
    "                             nn.Conv3d(out_channels, out_channels, kernel_size=3, padding=1),\n",
    "                             nn.ReLU())       \n",
    "\n",
    "\n",
    "    # upsampling via transposed 3d convolutions\n",
    "    def _upsampler(self, in_channels, out_channels):\n",
    "        return nn.ConvTranspose3d(in_channels, out_channels,\n",
    "                                kernel_size=2, stride=2)\n",
    "    \n",
    "    def __init__(self, in_channels=1, out_channels=1, \n",
    "                 final_activation=None):  #nn.Sigmoid): #None):\n",
    "        super().__init__()\n",
    "        \n",
    "        # the depth (= number of encoder / decoder levels) is\n",
    "        # hard-coded to 4\n",
    "        self.depth = 4\n",
    "\n",
    "        # the final activation must either be None or a Module\n",
    "        if final_activation is not None:\n",
    "            assert isinstance(final_activation, nn.Module), \"Activation must be torch module\"\n",
    "        \n",
    "        # all lists of conv layers (or other nn.Modules with parameters) must be wraped\n",
    "        # itnto a nn.ModuleList\n",
    "        \n",
    "        # modules of the encoder path\n",
    "        self.encoder = nn.ModuleList([self._conv_block(in_channels, 16),\n",
    "                                      self._conv_block(16, 32),\n",
    "                                      self._conv_block(32, 64),\n",
    "                                      self._conv_block(64, 128)])\n",
    "        # the base convolution block\n",
    "        self.base = self._conv_block(128, 256)\n",
    "        # modules of the decoder path\n",
    "        self.decoder = nn.ModuleList([self._conv_block(256, 128),\n",
    "                                      self._conv_block(128, 64),\n",
    "                                      self._conv_block(64, 32),\n",
    "                                      self._conv_block(32, 16)])\n",
    "        \n",
    "        # the pooling layers; we use 2x2 MaxPooling\n",
    "        self.poolers = nn.ModuleList([nn.MaxPool3d(2) for _ in range(self.depth)])\n",
    "        # the upsampling layers\n",
    "        self.upsamplers = nn.ModuleList([self._upsampler(256, 128),\n",
    "                                         self._upsampler(128, 64),\n",
    "                                         self._upsampler(64, 32),\n",
    "                                         self._upsampler(32, 16)])\n",
    "        # output conv and activation\n",
    "        # the output conv is not followed by a non-linearity, because we apply\n",
    "        # activation afterwards\n",
    "        self.out_conv = nn.Conv3d(16, out_channels, 1)\n",
    "        self.activation = final_activation\n",
    "    \n",
    "    def forward(self, input):\n",
    "        x = input\n",
    "        # apply encoder path\n",
    "        encoder_out = []\n",
    "        for level in range(self.depth):\n",
    "            x = self.encoder[level](x)\n",
    "            encoder_out.append(x)\n",
    "            x = self.poolers[level](x)\n",
    "\n",
    "        # apply base\n",
    "        x = self.base(x)\n",
    "        \n",
    "        # apply decoder path\n",
    "        encoder_out = encoder_out[::-1]\n",
    "        for level in range(self.depth):\n",
    "            x = self.upsamplers[level](x)\n",
    "            x = self.decoder[level](torch.cat((x, encoder_out[level]), dim=1))\n",
    "        \n",
    "        # apply output conv and activation (if given)\n",
    "        x = self.out_conv(x)\n",
    "        if self.activation is not None:\n",
    "            x = self.activation(x)\n",
    "        #x = nn.Sigmoid(x)\n",
    "        return x"
   ]
  },
  {
   "cell_type": "code",
   "execution_count": 6,
   "id": "c56c0c90-79c2-4030-a9b7-427a88e49fe6",
   "metadata": {},
   "outputs": [],
   "source": [
    "# sorensen dice coefficient implemented in torch\n",
    "# the coefficient takes values in [0, 1], where 0 is\n",
    "# the worst score, 1 is the best score\n",
    "class DiceCoefficient(nn.Module):\n",
    "    def __init__(self, eps=1e-6):\n",
    "        super().__init__()\n",
    "        self.eps = eps\n",
    "        \n",
    "    # the dice coefficient of two sets represented as vectors a, b ca be \n",
    "    # computed as (2 *|a b| / (a^2 + b^2))\n",
    "    def forward(self, prediction, target):\n",
    "        intersection = (prediction * target).sum()\n",
    "        denominator = (prediction * prediction).sum() + (target * target).sum()\n",
    "        return (2 * intersection / denominator.clamp(min=self.eps))"
   ]
  },
  {
   "cell_type": "code",
   "execution_count": 7,
   "id": "a6fb22bd-d3ac-4758-893d-34bff5815244",
   "metadata": {},
   "outputs": [],
   "source": [
    "def flatten_samples(input_):\n",
    "    \"\"\"\n",
    "    Flattens a tensor or a variable such that the channel axis is first and the sample axis\n",
    "    is second. The shapes are transformed as follows:\n",
    "        (N, C, H, W) --> (C, N * H * W)\n",
    "        (N, C, D, H, W) --> (C, N * D * H * W)\n",
    "        (N, C) --> (C, N)\n",
    "    The input must be atleast 2d.\n",
    "    \"\"\"\n",
    "    # Get number of channels\n",
    "    num_channels = input_.size(1)\n",
    "    # Permute the channel axis to first\n",
    "    permute_axes = list(range(input_.dim()))\n",
    "    permute_axes[0], permute_axes[1] = permute_axes[1], permute_axes[0]\n",
    "    # For input shape (say) NCHW, this should have the shape CNHW\n",
    "    permuted = input_.permute(*permute_axes).contiguous()\n",
    "    # Now flatten out all but the first axis and return\n",
    "    flattened = permuted.view(num_channels, -1)\n",
    "    return flattened\n",
    "\n",
    "\n",
    "def dice_score(input_, target, invert=False, channelwise=True, eps=1e-7):\n",
    "    if channelwise:\n",
    "        # Flatten input and target to have the shape (C, N),\n",
    "        # where N is the number of samples\n",
    "        input_ = flatten_samples(input_)\n",
    "        target = flatten_samples(target)\n",
    "        # Compute numerator and denominator (by summing over samples and\n",
    "        # leaving the channels intact)\n",
    "        numerator = (input_ * target).sum(-1)\n",
    "        denominator = (input_ * input_).sum(-1) + (target * target).sum(-1)\n",
    "        channelwise_score = 2 * (numerator / denominator.clamp(min=eps))\n",
    "        if invert:\n",
    "            channelwise_score = 1. - channelwise_score\n",
    "        # Sum over the channels to compute the total score\n",
    "        score = channelwise_score.sum()\n",
    "    else:\n",
    "        numerator = (input_ * target).sum()\n",
    "        denominator = (input_ * input_).sum() + (target * target).sum()\n",
    "        score = 2. * (numerator / denominator.clamp(min=eps))\n",
    "        if invert:\n",
    "            score = 1. - score\n",
    "    return score\n",
    "\n",
    "\n",
    "class DiceLoss(nn.Module):\n",
    "    def __init__(self, channelwise=True, eps=1e-7):\n",
    "        super().__init__()\n",
    "        self.channelwise = channelwise\n",
    "        self.eps = eps\n",
    "\n",
    "        # all torch_em classes should store init kwargs to easily recreate the init call\n",
    "        self.init_kwargs = {\"channelwise\": channelwise, \"eps\": self.eps}\n",
    "\n",
    "    def forward(self, input_, target):\n",
    "        return dice_score(input_, target,\n",
    "                          invert=True, channelwise=self.channelwise,\n",
    "                          eps=self.eps)"
   ]
  },
  {
   "cell_type": "code",
   "execution_count": 8,
   "id": "69c05879-b5bc-471c-a536-fe5cae497a8a",
   "metadata": {},
   "outputs": [
    {
     "name": "stdout",
     "output_type": "stream",
     "text": [
      "GPU is available\n"
     ]
    }
   ],
   "source": [
    "# check if we have  a gpu\n",
    "if torch.cuda.is_available():\n",
    "    print(\"GPU is available\")\n",
    "    device = torch.device(\"cuda\")\n",
    "else:\n",
    "    print(\"GPU is not available\")\n",
    "    device = torch.device(\"cpu\")"
   ]
  },
  {
   "cell_type": "code",
   "execution_count": 9,
   "id": "69f4d0a6-0fe1-41a8-8a3c-f622f6662164",
   "metadata": {},
   "outputs": [],
   "source": [
    "model = UNet(1, 4, final_activation=nn.Softmax(dim=1)) #second '1' changed to 4\n",
    "model = model.to(device)\n",
    "loss_function = DiceLoss()\n",
    "optimizer = Adam(model.parameters(), lr=1.e-3)\n",
    "metric = DiceCoefficient()"
   ]
  },
  {
   "cell_type": "code",
   "execution_count": 11,
   "id": "dfe06170-791e-44f7-a6c0-14747d3105a2",
   "metadata": {},
   "outputs": [
    {
     "data": {
      "text/plain": [
       "Reusing TensorBoard on port 6556 (pid 49060), started 0:00:00 ago. (Use '!kill 49060' to kill it.)"
      ]
     },
     "metadata": {},
     "output_type": "display_data"
    },
    {
     "data": {
      "text/html": [
       "\n",
       "      <iframe id=\"tensorboard-frame-3dba759d41d6ed2e\" width=\"100%\" height=\"800\" frameborder=\"0\">\n",
       "      </iframe>\n",
       "      <script>\n",
       "        (function() {\n",
       "          const frame = document.getElementById(\"tensorboard-frame-3dba759d41d6ed2e\");\n",
       "          const url = new URL(\"/\", window.location);\n",
       "          const port = 6556;\n",
       "          if (port) {\n",
       "            url.port = port;\n",
       "          }\n",
       "          frame.src = url;\n",
       "        })();\n",
       "      </script>\n",
       "    "
      ],
      "text/plain": [
       "<IPython.core.display.HTML object>"
      ]
     },
     "metadata": {},
     "output_type": "display_data"
    }
   ],
   "source": [
    "# start a tensorboard writer\n",
    "tb_logger = SummaryWriter('runs/Unet')\n",
    "%tensorboard --logdir runs  --port 6556"
   ]
  },
  {
   "cell_type": "code",
   "execution_count": 12,
   "id": "52a50662-4230-49dc-bb63-1efdcafb40fb",
   "metadata": {},
   "outputs": [],
   "source": [
    "# apply training for one epoch\n",
    "def train(model, loader, loss_function, optimizer, device,\n",
    "          epoch, log_interval=100, log_image_interval=20, tb_logger=None):\n",
    "    \"\"\" Train model for one epoch.\n",
    "\n",
    "    Parameters:\n",
    "    model - the model we are training\n",
    "    loader - the data loader that provides the training data\n",
    "        (= pairs of images and labels)\n",
    "    loss_function - the loss function that will be optimized\n",
    "    optimizer - the optimizer that is used to update the network parameters\n",
    "        by backpropagation of the loss\n",
    "    device - the device used for training. this can either be the cpu or gpu\n",
    "    epoch - which trainin eppch are we in? we keep track of this for logging\n",
    "    tb_logger - the tensorboard logger, it is used to communicate with tensorboard\n",
    "    log_image_interval - how often do we send images to tensborboard?\n",
    "    \"\"\"\n",
    "\n",
    "    # set the model to train mode TODO: YOUR CODE HERE\n",
    "    model.train()\n",
    "    #n_batches = len(loader)\n",
    "\n",
    "    # iterate over the batches of this epoch\n",
    "    for batch_id, (x, y) in tqdm(enumerate(loader)):\n",
    "        # move input and target to the active device (either cpu or gpu)\n",
    "        x, y = x.to(device), y.to(device)\n",
    "        \n",
    "        # zero the gradients for this iteration TODO: YOUR CODE HERE\n",
    "        optimizer.zero_grad()\n",
    "        \n",
    "        # apply model, calculate loss and run backwards pass TODO: YOUR CODE HERE\n",
    "        prediction = model(x)\n",
    "        #prediction = torch.argmax(prediction, dim = 1)\n",
    "        #prediction = prediction.float()\n",
    "        #print(prediction.shape)\n",
    "        #print(x.shape)\n",
    "        #print(torch.unique(prediction))\n",
    "        #print(torch.unique(x))\n",
    "        #print(torch.unique(y))\n",
    "        #print(y[:, 0].shape)\n",
    "        #prediction = prediction.long()\n",
    "        y = y.long()\n",
    "        #loss_value = loss_function(prediction, y)\n",
    "        loss_value = loss_function(prediction, y[:, 0])\n",
    "        loss_value.backward()\n",
    "        optimizer.step()\n",
    "        \n",
    "        # log to console\n",
    "        if batch_id % log_interval == 0:\n",
    "            print('Train Epoch: {} [{}/{} ({:.0f}%)]\\tLoss: {:.6f}'.format(\n",
    "                  epoch, batch_id * len(x),\n",
    "                  len(loader.dataset),\n",
    "                  100. * batch_id / len(loader), loss_value.item()))\n",
    "\n",
    "       # log to tensorboard\n",
    "        if tb_logger is not None:\n",
    "            step = epoch * len(loader) + batch_id\n",
    "            tb_logger.add_scalar(tag='train_loss', scalar_value=loss_value.item(), global_step=step)\n",
    "            # check if we log images in this iteration\n",
    "            if step % log_image_interval == 0:\n",
    "                tb_logger.add_images(tag='input', img_tensor=x[:,:,50,:,:].to('cpu'), global_step=step)\n",
    "                tb_logger.add_images(tag='target', img_tensor=y[:,:,1,50,:,:].to('cpu'), global_step=step)\n",
    "                tb_logger.add_images(tag='prediction', img_tensor=prediction[:,0:1,50,:,:].to('cpu').detach(), global_step=step)\n",
    "                tb_logger.add_images(tag='prediction', img_tensor=prediction[:,2:3,50,:,:].to('cpu').detach(), global_step=step)"
   ]
  },
  {
   "cell_type": "code",
   "execution_count": 13,
   "id": "b013f562-64b0-409a-b05f-6e253a9a5506",
   "metadata": {},
   "outputs": [],
   "source": [
    "# run validation after training epoch\n",
    "def validate(model, loader, loss_function, metric, step=None, tb_logger=None):\n",
    "    # set model to eval mode TODO: YOUR CODE HERE\n",
    "    model.eval()\n",
    "    #n_batches = len(loader)\n",
    "    \n",
    "    # running loss and metric values\n",
    "    val_loss = 0\n",
    "    val_metric = 0\n",
    "    \n",
    "    # disable gradients during validation\n",
    "    with torch.no_grad():\n",
    "        \n",
    "        # iterate over validation loader and update loss and metric values\n",
    "        for x, y in loader:\n",
    "            x, y = x.to(device), y.to(device)\n",
    "            #TODO: YOUR CODE HERE\n",
    "            prediction = model(x)\n",
    "            y = y.long()\n",
    "            #mean_loss += loss_function(prediction, y[:, 0]).item()\n",
    "            val_loss += loss_function(prediction, y[:,0]).item()\n",
    "            val_metric += metric(prediction, y).item()\n",
    "            \n",
    "            #prediction = prediction.max(1, keepdim=True)[1]\n",
    "            #predictions.append(prediction[:, 0].to('cpu').numpy())\n",
    "            #labels.append(y[:, 0].to('cpu').numpy())\n",
    "        #predictions = np.concatenate(predictions)\n",
    "        #labels = np.concatenate(labels)\n",
    "        \n",
    "    # normalize loss and metric\n",
    "    val_loss /= len(loader)\n",
    "    val_metric /= len(loader)\n",
    "    \n",
    "    if tb_logger is not None:\n",
    "        assert step is not None, \"Need to know the current step to log validation results\"\n",
    "        tb_logger.add_scalar(tag='val_loss', scalar_value=val_loss, global_step=step)\n",
    "        tb_logger.add_scalar(tag='val_metric', scalar_value=val_metric, global_step=step)\n",
    "        # we always log the last validation images\n",
    "        tb_logger.add_images(tag='val_input', img_tensor=x[:,:,50,:,:].to('cpu'), global_step=step)\n",
    "        tb_logger.add_images(tag='val_target', img_tensor=y[:,:,1,50,:,:].to('cpu'), global_step=step)\n",
    "        tb_logger.add_images(tag='val_prediction', img_tensor=prediction[:,0:1,50,:,:].to('cpu'), global_step=step)\n",
    "        tb_logger.add_images(tag='val_prediction', img_tensor=prediction[:,2:3,50,:,:].to('cpu'), global_step=step)\n",
    "        \n",
    "    print('\\nValidate: Average loss: {:.4f}, Average Metric: {:.4f}\\n'.format(val_loss, val_metric))"
   ]
  },
  {
   "cell_type": "code",
   "execution_count": 14,
   "id": "ceae30a8-1041-4b19-a975-2767d7d324ab",
   "metadata": {},
   "outputs": [
    {
     "name": "stderr",
     "output_type": "stream",
     "text": [
      "  0%|          | 0/100 [00:00<?, ?it/s]\n",
      "0it [00:00, ?it/s]\u001b[A\n",
      "1it [00:01,  1.93s/it]\u001b[A"
     ]
    },
    {
     "name": "stdout",
     "output_type": "stream",
     "text": [
      "Train Epoch: 0 [0/57 (0%)]\tLoss: 3.159917\n"
     ]
    },
    {
     "name": "stderr",
     "output_type": "stream",
     "text": [
      "\n",
      "2it [00:02,  1.26s/it]\u001b[A\n",
      "3it [00:03,  1.01s/it]\u001b[A\n",
      "4it [00:04,  1.12it/s]\u001b[A\n",
      "5it [00:04,  1.20it/s]\u001b[A\n",
      "6it [00:05,  1.26it/s]\u001b[A\n",
      "7it [00:06,  1.29it/s]\u001b[A\n",
      "8it [00:07,  1.32it/s]\u001b[A\n",
      "9it [00:07,  1.33it/s]\u001b[A\n",
      "10it [00:08,  1.36it/s]\u001b[A\n",
      "11it [00:09,  1.32it/s]\u001b[A\n",
      "12it [00:10,  1.33it/s]\u001b[A\n",
      "13it [00:10,  1.34it/s]\u001b[A\n",
      "14it [00:11,  1.36it/s]\u001b[A\n",
      "15it [00:12,  1.37it/s]\u001b[A\n",
      "16it [00:12,  1.35it/s]\u001b[A\n",
      "17it [00:13,  1.37it/s]\u001b[A\n",
      "18it [00:14,  1.38it/s]\u001b[A\n",
      "19it [00:15,  1.39it/s]\u001b[A\n",
      "20it [00:15,  1.39it/s]\u001b[A\n",
      "21it [00:16,  1.37it/s]\u001b[A\n",
      "22it [00:17,  1.38it/s]\u001b[A\n",
      "23it [00:18,  1.37it/s]\u001b[A\n",
      "24it [00:18,  1.38it/s]\u001b[A\n",
      "25it [00:19,  1.38it/s]\u001b[A\n",
      "26it [00:20,  1.38it/s]\u001b[A\n",
      "27it [00:20,  1.37it/s]\u001b[A\n",
      "28it [00:21,  1.37it/s]\u001b[A\n",
      "29it [00:22,  1.31it/s]\u001b[A\n",
      "  1%|          | 1/100 [00:24<40:19, 24.44s/it]"
     ]
    },
    {
     "name": "stdout",
     "output_type": "stream",
     "text": [
      "\n",
      "Validate: Average loss: 2.1005, Average Metric: 1.8318\n",
      "\n"
     ]
    },
    {
     "name": "stderr",
     "output_type": "stream",
     "text": [
      "\n",
      "0it [00:00, ?it/s]\u001b[A\n",
      "1it [00:00,  1.29it/s]\u001b[A"
     ]
    },
    {
     "name": "stdout",
     "output_type": "stream",
     "text": [
      "Train Epoch: 1 [0/57 (0%)]\tLoss: 2.249596\n"
     ]
    },
    {
     "name": "stderr",
     "output_type": "stream",
     "text": [
      "\n",
      "2it [00:01,  1.32it/s]\u001b[A\n",
      "3it [00:02,  1.34it/s]\u001b[A\n",
      "4it [00:02,  1.36it/s]\u001b[A\n",
      "5it [00:03,  1.39it/s]\u001b[A\n",
      "6it [00:04,  1.39it/s]\u001b[A\n",
      "7it [00:05,  1.40it/s]\u001b[A\n",
      "8it [00:05,  1.37it/s]\u001b[A\n",
      "9it [00:06,  1.38it/s]\u001b[A\n",
      "10it [00:07,  1.39it/s]\u001b[A\n",
      "11it [00:07,  1.40it/s]\u001b[A\n",
      "12it [00:08,  1.37it/s]\u001b[A\n",
      "13it [00:09,  1.37it/s]\u001b[A\n",
      "14it [00:10,  1.39it/s]\u001b[A\n",
      "15it [00:10,  1.40it/s]\u001b[A\n",
      "16it [00:11,  1.41it/s]\u001b[A\n",
      "17it [00:12,  1.41it/s]\u001b[A\n",
      "18it [00:12,  1.41it/s]\u001b[A\n",
      "19it [00:13,  1.40it/s]\u001b[A\n",
      "20it [00:14,  1.40it/s]\u001b[A\n",
      "21it [00:15,  1.40it/s]\u001b[A\n",
      "22it [00:15,  1.40it/s]\u001b[A\n",
      "23it [00:16,  1.40it/s]\u001b[A\n",
      "24it [00:17,  1.40it/s]\u001b[A\n",
      "25it [00:18,  1.38it/s]\u001b[A\n",
      "26it [00:18,  1.39it/s]\u001b[A\n",
      "27it [00:19,  1.38it/s]\u001b[A\n",
      "28it [00:20,  1.38it/s]\u001b[A\n",
      "29it [00:20,  1.40it/s]\u001b[A\n",
      "  2%|▏         | 2/100 [00:47<38:10, 23.37s/it]"
     ]
    },
    {
     "name": "stdout",
     "output_type": "stream",
     "text": [
      "\n",
      "Validate: Average loss: 1.9459, Average Metric: 1.8318\n",
      "\n"
     ]
    },
    {
     "name": "stderr",
     "output_type": "stream",
     "text": [
      "\n",
      "0it [00:00, ?it/s]\u001b[A\n",
      "1it [00:00,  1.43it/s]\u001b[A"
     ]
    },
    {
     "name": "stdout",
     "output_type": "stream",
     "text": [
      "Train Epoch: 2 [0/57 (0%)]\tLoss: 1.889503\n"
     ]
    },
    {
     "name": "stderr",
     "output_type": "stream",
     "text": [
      "\n",
      "2it [00:01,  1.42it/s]\u001b[A\n",
      "3it [00:02,  1.36it/s]\u001b[A\n",
      "4it [00:02,  1.38it/s]\u001b[A\n",
      "5it [00:03,  1.36it/s]\u001b[A\n",
      "6it [00:04,  1.38it/s]\u001b[A\n",
      "7it [00:05,  1.39it/s]\u001b[A\n",
      "8it [00:05,  1.40it/s]\u001b[A\n",
      "9it [00:06,  1.39it/s]\u001b[A\n",
      "10it [00:07,  1.39it/s]\u001b[A\n",
      "11it [00:07,  1.40it/s]\u001b[A\n",
      "12it [00:08,  1.40it/s]\u001b[A\n",
      "13it [00:09,  1.40it/s]\u001b[A\n",
      "14it [00:10,  1.39it/s]\u001b[A\n",
      "15it [00:10,  1.36it/s]\u001b[A\n",
      "16it [00:11,  1.38it/s]\u001b[A\n",
      "17it [00:12,  1.39it/s]\u001b[A\n",
      "18it [00:12,  1.40it/s]\u001b[A\n",
      "19it [00:13,  1.41it/s]\u001b[A\n",
      "20it [00:14,  1.42it/s]\u001b[A\n",
      "21it [00:15,  1.41it/s]\u001b[A\n",
      "22it [00:15,  1.40it/s]\u001b[A\n",
      "23it [00:16,  1.33it/s]\u001b[A\n",
      "24it [00:17,  1.35it/s]\u001b[A\n",
      "25it [00:18,  1.37it/s]\u001b[A\n",
      "26it [00:18,  1.38it/s]\u001b[A\n",
      "27it [00:19,  1.39it/s]\u001b[A\n",
      "28it [00:20,  1.40it/s]\u001b[A\n",
      "29it [00:20,  1.41it/s]\u001b[A\n",
      "  3%|▎         | 3/100 [01:09<37:17, 23.07s/it]"
     ]
    },
    {
     "name": "stdout",
     "output_type": "stream",
     "text": [
      "\n",
      "Validate: Average loss: 1.5538, Average Metric: 1.8886\n",
      "\n"
     ]
    },
    {
     "name": "stderr",
     "output_type": "stream",
     "text": [
      "\n",
      "0it [00:00, ?it/s]\u001b[A\n",
      "1it [00:00,  1.18it/s]\u001b[A"
     ]
    },
    {
     "name": "stdout",
     "output_type": "stream",
     "text": [
      "Train Epoch: 3 [0/57 (0%)]\tLoss: 1.458947\n"
     ]
    },
    {
     "name": "stderr",
     "output_type": "stream",
     "text": [
      "\n",
      "2it [00:01,  1.26it/s]\u001b[A\n",
      "3it [00:02,  1.31it/s]\u001b[A\n",
      "4it [00:03,  1.34it/s]\u001b[A\n",
      "5it [00:03,  1.36it/s]\u001b[A\n",
      "6it [00:04,  1.38it/s]\u001b[A\n",
      "7it [00:05,  1.38it/s]\u001b[A\n",
      "8it [00:05,  1.39it/s]\u001b[A\n",
      "9it [00:06,  1.40it/s]\u001b[A\n",
      "10it [00:07,  1.41it/s]\u001b[A\n",
      "11it [00:08,  1.40it/s]\u001b[A\n",
      "12it [00:08,  1.41it/s]\u001b[A\n",
      "13it [00:09,  1.40it/s]\u001b[A\n",
      "14it [00:10,  1.37it/s]\u001b[A\n",
      "15it [00:10,  1.38it/s]\u001b[A\n",
      "16it [00:11,  1.39it/s]\u001b[A\n",
      "17it [00:12,  1.40it/s]\u001b[A\n",
      "18it [00:13,  1.38it/s]\u001b[A\n",
      "19it [00:13,  1.39it/s]\u001b[A\n",
      "20it [00:14,  1.40it/s]\u001b[A\n",
      "21it [00:15,  1.38it/s]\u001b[A\n",
      "22it [00:15,  1.38it/s]\u001b[A\n",
      "23it [00:16,  1.39it/s]\u001b[A\n",
      "24it [00:17,  1.41it/s]\u001b[A\n",
      "25it [00:18,  1.39it/s]\u001b[A\n",
      "26it [00:18,  1.34it/s]\u001b[A\n",
      "27it [00:19,  1.37it/s]\u001b[A\n",
      "28it [00:20,  1.38it/s]\u001b[A\n",
      "29it [00:20,  1.39it/s]\u001b[A\n",
      "  4%|▍         | 4/100 [01:32<36:37, 22.89s/it]"
     ]
    },
    {
     "name": "stdout",
     "output_type": "stream",
     "text": [
      "\n",
      "Validate: Average loss: 1.4572, Average Metric: 1.8915\n",
      "\n"
     ]
    },
    {
     "name": "stderr",
     "output_type": "stream",
     "text": [
      "\n",
      "0it [00:00, ?it/s]\u001b[A\n",
      "1it [00:00,  1.38it/s]\u001b[A"
     ]
    },
    {
     "name": "stdout",
     "output_type": "stream",
     "text": [
      "Train Epoch: 4 [0/57 (0%)]\tLoss: 1.256488\n"
     ]
    },
    {
     "name": "stderr",
     "output_type": "stream",
     "text": [
      "\n",
      "2it [00:01,  1.38it/s]\u001b[A\n",
      "3it [00:02,  1.38it/s]\u001b[A\n",
      "4it [00:02,  1.40it/s]\u001b[A\n",
      "5it [00:03,  1.38it/s]\u001b[A\n",
      "6it [00:04,  1.39it/s]\u001b[A\n",
      "7it [00:05,  1.40it/s]\u001b[A\n",
      "8it [00:05,  1.40it/s]\u001b[A\n",
      "9it [00:06,  1.39it/s]\u001b[A\n",
      "10it [00:07,  1.39it/s]\u001b[A\n",
      "11it [00:07,  1.38it/s]\u001b[A\n",
      "12it [00:08,  1.38it/s]\u001b[A\n",
      "13it [00:09,  1.39it/s]\u001b[A\n",
      "14it [00:10,  1.40it/s]\u001b[A\n",
      "15it [00:10,  1.41it/s]\u001b[A\n",
      "16it [00:11,  1.41it/s]\u001b[A\n",
      "17it [00:12,  1.41it/s]\u001b[A\n",
      "18it [00:12,  1.40it/s]\u001b[A\n",
      "19it [00:13,  1.40it/s]\u001b[A\n",
      "20it [00:14,  1.40it/s]\u001b[A\n",
      "21it [00:15,  1.41it/s]\u001b[A\n",
      "22it [00:15,  1.40it/s]\u001b[A\n",
      "23it [00:16,  1.39it/s]\u001b[A\n",
      "24it [00:17,  1.38it/s]\u001b[A\n",
      "25it [00:18,  1.34it/s]\u001b[A\n",
      "26it [00:18,  1.30it/s]\u001b[A\n",
      "27it [00:19,  1.30it/s]\u001b[A\n",
      "28it [00:20,  1.31it/s]\u001b[A\n",
      "29it [00:20,  1.39it/s]\u001b[A\n",
      "  5%|▌         | 5/100 [01:55<36:14, 22.88s/it]"
     ]
    },
    {
     "name": "stdout",
     "output_type": "stream",
     "text": [
      "\n",
      "Validate: Average loss: 1.2490, Average Metric: 1.8805\n",
      "\n"
     ]
    },
    {
     "name": "stderr",
     "output_type": "stream",
     "text": [
      "\n",
      "0it [00:00, ?it/s]\u001b[A\n",
      "1it [00:00,  1.34it/s]\u001b[A"
     ]
    },
    {
     "name": "stdout",
     "output_type": "stream",
     "text": [
      "Train Epoch: 5 [0/57 (0%)]\tLoss: 1.402331\n"
     ]
    },
    {
     "name": "stderr",
     "output_type": "stream",
     "text": [
      "\n",
      "2it [00:01,  1.30it/s]\u001b[A\n",
      "3it [00:02,  1.33it/s]\u001b[A\n",
      "4it [00:02,  1.34it/s]\u001b[A\n",
      "5it [00:03,  1.36it/s]\u001b[A\n",
      "6it [00:04,  1.37it/s]\u001b[A\n",
      "7it [00:05,  1.37it/s]\u001b[A\n",
      "8it [00:05,  1.38it/s]\u001b[A\n",
      "9it [00:06,  1.36it/s]\u001b[A\n",
      "10it [00:07,  1.38it/s]\u001b[A\n",
      "11it [00:08,  1.39it/s]\u001b[A\n",
      "12it [00:08,  1.39it/s]\u001b[A\n",
      "13it [00:09,  1.40it/s]\u001b[A\n",
      "14it [00:10,  1.39it/s]\u001b[A\n",
      "15it [00:10,  1.39it/s]\u001b[A\n",
      "16it [00:11,  1.34it/s]\u001b[A\n",
      "17it [00:12,  1.35it/s]\u001b[A\n",
      "18it [00:13,  1.36it/s]\u001b[A\n",
      "19it [00:13,  1.36it/s]\u001b[A\n",
      "20it [00:14,  1.36it/s]\u001b[A\n",
      "21it [00:15,  1.37it/s]\u001b[A\n",
      "22it [00:16,  1.37it/s]\u001b[A\n",
      "23it [00:16,  1.37it/s]\u001b[A\n",
      "24it [00:17,  1.36it/s]\u001b[A\n",
      "25it [00:18,  1.37it/s]\u001b[A\n",
      "26it [00:19,  1.38it/s]\u001b[A\n",
      "27it [00:19,  1.37it/s]\u001b[A\n",
      "28it [00:20,  1.38it/s]\u001b[A\n",
      "29it [00:20,  1.38it/s]\u001b[A\n",
      "  6%|▌         | 6/100 [02:18<35:47, 22.84s/it]"
     ]
    },
    {
     "name": "stdout",
     "output_type": "stream",
     "text": [
      "\n",
      "Validate: Average loss: 1.0671, Average Metric: 1.8899\n",
      "\n"
     ]
    },
    {
     "name": "stderr",
     "output_type": "stream",
     "text": [
      "\n",
      "0it [00:00, ?it/s]\u001b[A\n",
      "1it [00:00,  1.42it/s]\u001b[A"
     ]
    },
    {
     "name": "stdout",
     "output_type": "stream",
     "text": [
      "Train Epoch: 6 [0/57 (0%)]\tLoss: 1.516543\n"
     ]
    },
    {
     "name": "stderr",
     "output_type": "stream",
     "text": [
      "\n",
      "2it [00:01,  1.41it/s]\u001b[A\n",
      "3it [00:02,  1.40it/s]\u001b[A\n",
      "4it [00:02,  1.39it/s]\u001b[A\n",
      "5it [00:03,  1.38it/s]\u001b[A\n",
      "6it [00:04,  1.38it/s]\u001b[A\n",
      "7it [00:05,  1.37it/s]\u001b[A\n",
      "8it [00:05,  1.37it/s]\u001b[A\n",
      "9it [00:06,  1.37it/s]\u001b[A\n",
      "10it [00:07,  1.37it/s]\u001b[A\n",
      "11it [00:07,  1.37it/s]\u001b[A\n",
      "12it [00:08,  1.38it/s]\u001b[A\n",
      "13it [00:09,  1.39it/s]\u001b[A\n",
      "14it [00:10,  1.40it/s]\u001b[A\n",
      "15it [00:10,  1.37it/s]\u001b[A\n",
      "16it [00:11,  1.38it/s]\u001b[A\n",
      "17it [00:12,  1.37it/s]\u001b[A\n",
      "18it [00:13,  1.38it/s]\u001b[A\n",
      "19it [00:13,  1.39it/s]\u001b[A\n",
      "20it [00:14,  1.40it/s]\u001b[A\n",
      "21it [00:15,  1.41it/s]\u001b[A\n",
      "22it [00:15,  1.39it/s]\u001b[A\n",
      "23it [00:16,  1.39it/s]\u001b[A\n",
      "24it [00:17,  1.40it/s]\u001b[A\n",
      "25it [00:18,  1.40it/s]\u001b[A\n",
      "26it [00:18,  1.41it/s]\u001b[A\n",
      "27it [00:19,  1.39it/s]\u001b[A\n",
      "28it [00:20,  1.39it/s]\u001b[A\n",
      "29it [00:20,  1.40it/s]\u001b[A\n",
      "  7%|▋         | 7/100 [02:40<35:14, 22.73s/it]"
     ]
    },
    {
     "name": "stdout",
     "output_type": "stream",
     "text": [
      "\n",
      "Validate: Average loss: 1.1152, Average Metric: 1.8856\n",
      "\n"
     ]
    },
    {
     "name": "stderr",
     "output_type": "stream",
     "text": [
      "\n",
      "0it [00:00, ?it/s]\u001b[A\n",
      "1it [00:00,  1.37it/s]\u001b[A"
     ]
    },
    {
     "name": "stdout",
     "output_type": "stream",
     "text": [
      "Train Epoch: 7 [0/57 (0%)]\tLoss: 1.549348\n"
     ]
    },
    {
     "name": "stderr",
     "output_type": "stream",
     "text": [
      "\n",
      "2it [00:01,  1.40it/s]\u001b[A\n",
      "3it [00:02,  1.42it/s]\u001b[A\n",
      "4it [00:02,  1.41it/s]\u001b[A\n",
      "5it [00:03,  1.41it/s]\u001b[A\n",
      "6it [00:04,  1.40it/s]\u001b[A\n",
      "7it [00:04,  1.40it/s]\u001b[A\n",
      "8it [00:05,  1.41it/s]\u001b[A\n",
      "9it [00:06,  1.41it/s]\u001b[A\n",
      "10it [00:07,  1.41it/s]\u001b[A\n",
      "11it [00:07,  1.40it/s]\u001b[A\n",
      "12it [00:08,  1.41it/s]\u001b[A\n",
      "13it [00:09,  1.38it/s]\u001b[A\n",
      "14it [00:10,  1.39it/s]\u001b[A\n",
      "15it [00:10,  1.40it/s]\u001b[A\n",
      "16it [00:11,  1.39it/s]\u001b[A\n",
      "17it [00:12,  1.39it/s]\u001b[A\n",
      "18it [00:12,  1.38it/s]\u001b[A\n",
      "19it [00:13,  1.39it/s]\u001b[A\n",
      "20it [00:14,  1.39it/s]\u001b[A\n",
      "21it [00:15,  1.39it/s]\u001b[A\n",
      "22it [00:15,  1.39it/s]\u001b[A\n",
      "23it [00:16,  1.40it/s]\u001b[A\n",
      "24it [00:17,  1.40it/s]\u001b[A\n",
      "25it [00:17,  1.40it/s]\u001b[A\n",
      "26it [00:18,  1.40it/s]\u001b[A\n",
      "27it [00:19,  1.39it/s]\u001b[A\n",
      "28it [00:20,  1.39it/s]\u001b[A\n",
      "29it [00:20,  1.41it/s]\u001b[A\n",
      "  8%|▊         | 8/100 [03:02<34:40, 22.61s/it]"
     ]
    },
    {
     "name": "stdout",
     "output_type": "stream",
     "text": [
      "\n",
      "Validate: Average loss: 1.0950, Average Metric: 1.9020\n",
      "\n"
     ]
    },
    {
     "name": "stderr",
     "output_type": "stream",
     "text": [
      "\n",
      "0it [00:00, ?it/s]\u001b[A\n",
      "1it [00:00,  1.41it/s]\u001b[A"
     ]
    },
    {
     "name": "stdout",
     "output_type": "stream",
     "text": [
      "Train Epoch: 8 [0/57 (0%)]\tLoss: 1.123826\n"
     ]
    },
    {
     "name": "stderr",
     "output_type": "stream",
     "text": [
      "\n",
      "2it [00:01,  1.40it/s]\u001b[A\n",
      "3it [00:02,  1.40it/s]\u001b[A\n",
      "4it [00:02,  1.40it/s]\u001b[A\n",
      "5it [00:03,  1.41it/s]\u001b[A\n",
      "6it [00:04,  1.41it/s]\u001b[A\n",
      "7it [00:05,  1.39it/s]\u001b[A\n",
      "8it [00:05,  1.40it/s]\u001b[A\n",
      "9it [00:06,  1.36it/s]\u001b[A\n",
      "10it [00:07,  1.37it/s]\u001b[A\n",
      "11it [00:07,  1.38it/s]\u001b[A\n",
      "12it [00:08,  1.38it/s]\u001b[A\n",
      "13it [00:09,  1.39it/s]\u001b[A\n",
      "14it [00:10,  1.36it/s]\u001b[A\n",
      "15it [00:10,  1.37it/s]\u001b[A\n",
      "16it [00:11,  1.38it/s]\u001b[A\n",
      "17it [00:12,  1.40it/s]\u001b[A\n",
      "18it [00:12,  1.40it/s]\u001b[A\n",
      "19it [00:13,  1.40it/s]\u001b[A\n",
      "20it [00:14,  1.39it/s]\u001b[A\n",
      "21it [00:15,  1.39it/s]\u001b[A\n",
      "22it [00:15,  1.39it/s]\u001b[A\n",
      "23it [00:16,  1.38it/s]\u001b[A\n",
      "24it [00:17,  1.38it/s]\u001b[A\n",
      "25it [00:18,  1.38it/s]\u001b[A\n",
      "26it [00:18,  1.38it/s]\u001b[A\n",
      "27it [00:19,  1.35it/s]\u001b[A\n",
      "28it [00:20,  1.36it/s]\u001b[A\n",
      "29it [00:20,  1.40it/s]\u001b[A\n",
      "  9%|▉         | 9/100 [03:25<34:22, 22.66s/it]"
     ]
    },
    {
     "name": "stdout",
     "output_type": "stream",
     "text": [
      "\n",
      "Validate: Average loss: 0.9646, Average Metric: 1.9022\n",
      "\n"
     ]
    },
    {
     "name": "stderr",
     "output_type": "stream",
     "text": [
      "\n",
      "0it [00:00, ?it/s]\u001b[A\n",
      "1it [00:00,  1.34it/s]\u001b[A"
     ]
    },
    {
     "name": "stdout",
     "output_type": "stream",
     "text": [
      "Train Epoch: 9 [0/57 (0%)]\tLoss: 0.938686\n"
     ]
    },
    {
     "name": "stderr",
     "output_type": "stream",
     "text": [
      "\n",
      "2it [00:01,  1.32it/s]\u001b[A\n",
      "3it [00:02,  1.33it/s]\u001b[A\n",
      "4it [00:02,  1.35it/s]\u001b[A\n",
      "5it [00:03,  1.36it/s]\u001b[A\n",
      "6it [00:04,  1.38it/s]\u001b[A\n",
      "7it [00:05,  1.39it/s]\u001b[A\n",
      "8it [00:05,  1.40it/s]\u001b[A\n",
      "9it [00:06,  1.41it/s]\u001b[A\n",
      "10it [00:07,  1.40it/s]\u001b[A\n",
      "11it [00:07,  1.40it/s]\u001b[A\n",
      "12it [00:08,  1.39it/s]\u001b[A\n",
      "13it [00:09,  1.39it/s]\u001b[A\n",
      "14it [00:10,  1.39it/s]\u001b[A\n",
      "15it [00:10,  1.40it/s]\u001b[A\n",
      "16it [00:11,  1.39it/s]\u001b[A\n",
      "17it [00:12,  1.38it/s]\u001b[A\n",
      "18it [00:12,  1.39it/s]\u001b[A\n",
      "19it [00:13,  1.39it/s]\u001b[A\n",
      "20it [00:14,  1.38it/s]\u001b[A\n",
      "21it [00:15,  1.39it/s]\u001b[A\n",
      "22it [00:15,  1.39it/s]\u001b[A\n",
      "23it [00:16,  1.39it/s]\u001b[A\n",
      "24it [00:17,  1.39it/s]\u001b[A\n",
      "25it [00:18,  1.39it/s]\u001b[A\n",
      "26it [00:18,  1.39it/s]\u001b[A\n",
      "27it [00:19,  1.40it/s]\u001b[A\n",
      "28it [00:20,  1.39it/s]\u001b[A\n",
      "29it [00:20,  1.40it/s]\u001b[A\n",
      " 10%|█         | 10/100 [03:48<33:56, 22.63s/it]"
     ]
    },
    {
     "name": "stdout",
     "output_type": "stream",
     "text": [
      "\n",
      "Validate: Average loss: 0.8876, Average Metric: 1.8975\n",
      "\n"
     ]
    },
    {
     "name": "stderr",
     "output_type": "stream",
     "text": [
      "\n",
      "0it [00:00, ?it/s]\u001b[A\n",
      "1it [00:00,  1.39it/s]\u001b[A"
     ]
    },
    {
     "name": "stdout",
     "output_type": "stream",
     "text": [
      "Train Epoch: 10 [0/57 (0%)]\tLoss: 0.979148\n"
     ]
    },
    {
     "name": "stderr",
     "output_type": "stream",
     "text": [
      "\n",
      "2it [00:01,  1.39it/s]\u001b[A\n",
      "3it [00:02,  1.40it/s]\u001b[A\n",
      "4it [00:02,  1.40it/s]\u001b[A\n",
      "5it [00:03,  1.40it/s]\u001b[A\n",
      "6it [00:04,  1.39it/s]\u001b[A\n",
      "7it [00:05,  1.39it/s]\u001b[A\n",
      "8it [00:05,  1.39it/s]\u001b[A\n",
      "9it [00:06,  1.39it/s]\u001b[A\n",
      "10it [00:07,  1.40it/s]\u001b[A\n",
      "11it [00:07,  1.38it/s]\u001b[A\n",
      "12it [00:08,  1.39it/s]\u001b[A\n",
      "13it [00:09,  1.39it/s]\u001b[A\n",
      "14it [00:10,  1.39it/s]\u001b[A\n",
      "15it [00:10,  1.39it/s]\u001b[A\n",
      "16it [00:11,  1.39it/s]\u001b[A\n",
      "17it [00:12,  1.39it/s]\u001b[A\n",
      "18it [00:12,  1.39it/s]\u001b[A\n",
      "19it [00:13,  1.38it/s]\u001b[A\n",
      "20it [00:14,  1.39it/s]\u001b[A\n",
      "21it [00:15,  1.39it/s]\u001b[A\n",
      "22it [00:15,  1.39it/s]\u001b[A\n",
      "23it [00:16,  1.40it/s]\u001b[A\n",
      "24it [00:17,  1.39it/s]\u001b[A\n",
      "25it [00:17,  1.39it/s]\u001b[A\n",
      "26it [00:18,  1.38it/s]\u001b[A\n",
      "27it [00:19,  1.38it/s]\u001b[A\n",
      "28it [00:20,  1.38it/s]\u001b[A\n",
      "29it [00:20,  1.40it/s]\u001b[A\n",
      " 11%|█         | 11/100 [04:10<33:36, 22.65s/it]"
     ]
    },
    {
     "name": "stdout",
     "output_type": "stream",
     "text": [
      "\n",
      "Validate: Average loss: 0.9782, Average Metric: 1.8839\n",
      "\n"
     ]
    },
    {
     "name": "stderr",
     "output_type": "stream",
     "text": [
      "\n",
      "0it [00:00, ?it/s]\u001b[A\n",
      "1it [00:00,  1.32it/s]\u001b[A"
     ]
    },
    {
     "name": "stdout",
     "output_type": "stream",
     "text": [
      "Train Epoch: 11 [0/57 (0%)]\tLoss: 1.513373\n"
     ]
    },
    {
     "name": "stderr",
     "output_type": "stream",
     "text": [
      "\n",
      "2it [00:01,  1.32it/s]\u001b[A\n",
      "3it [00:02,  1.34it/s]\u001b[A\n",
      "4it [00:02,  1.36it/s]\u001b[A\n",
      "5it [00:03,  1.36it/s]\u001b[A\n",
      "6it [00:04,  1.38it/s]\u001b[A\n",
      "7it [00:05,  1.38it/s]\u001b[A\n",
      "8it [00:05,  1.39it/s]\u001b[A\n",
      "9it [00:06,  1.37it/s]\u001b[A\n",
      "10it [00:07,  1.38it/s]\u001b[A\n",
      "11it [00:08,  1.39it/s]\u001b[A\n",
      "12it [00:08,  1.39it/s]\u001b[A\n",
      "13it [00:09,  1.38it/s]\u001b[A\n",
      "14it [00:10,  1.35it/s]\u001b[A\n",
      "15it [00:10,  1.36it/s]\u001b[A\n",
      "16it [00:11,  1.34it/s]\u001b[A\n",
      "17it [00:12,  1.36it/s]\u001b[A\n",
      "18it [00:13,  1.37it/s]\u001b[A\n",
      "19it [00:13,  1.37it/s]\u001b[A\n",
      "20it [00:14,  1.38it/s]\u001b[A\n",
      "21it [00:15,  1.38it/s]\u001b[A\n",
      "22it [00:16,  1.36it/s]\u001b[A\n",
      "23it [00:16,  1.37it/s]\u001b[A\n",
      "24it [00:17,  1.38it/s]\u001b[A\n",
      "25it [00:18,  1.38it/s]\u001b[A\n",
      "26it [00:18,  1.38it/s]\u001b[A\n",
      "27it [00:19,  1.36it/s]\u001b[A\n",
      "28it [00:20,  1.37it/s]\u001b[A\n",
      "29it [00:20,  1.39it/s]\u001b[A\n",
      " 12%|█▏        | 12/100 [04:33<33:17, 22.70s/it]"
     ]
    },
    {
     "name": "stdout",
     "output_type": "stream",
     "text": [
      "\n",
      "Validate: Average loss: 1.0188, Average Metric: 1.8768\n",
      "\n"
     ]
    },
    {
     "name": "stderr",
     "output_type": "stream",
     "text": [
      "\n",
      "0it [00:00, ?it/s]\u001b[A\n",
      "1it [00:00,  1.33it/s]\u001b[A"
     ]
    },
    {
     "name": "stdout",
     "output_type": "stream",
     "text": [
      "Train Epoch: 12 [0/57 (0%)]\tLoss: 0.700159\n"
     ]
    },
    {
     "name": "stderr",
     "output_type": "stream",
     "text": [
      "\n",
      "2it [00:01,  1.37it/s]\u001b[A\n",
      "3it [00:02,  1.38it/s]\u001b[A\n",
      "4it [00:02,  1.39it/s]\u001b[A\n",
      "5it [00:03,  1.39it/s]\u001b[A\n",
      "6it [00:04,  1.40it/s]\u001b[A\n",
      "7it [00:05,  1.39it/s]\u001b[A\n",
      "8it [00:05,  1.39it/s]\u001b[A\n",
      "9it [00:06,  1.39it/s]\u001b[A\n",
      "10it [00:07,  1.39it/s]\u001b[A\n",
      "11it [00:07,  1.40it/s]\u001b[A\n",
      "12it [00:08,  1.40it/s]\u001b[A\n",
      "13it [00:09,  1.37it/s]\u001b[A\n",
      "14it [00:10,  1.37it/s]\u001b[A\n",
      "15it [00:10,  1.37it/s]\u001b[A\n",
      "16it [00:11,  1.38it/s]\u001b[A\n",
      "17it [00:12,  1.38it/s]\u001b[A\n",
      "18it [00:13,  1.37it/s]\u001b[A\n",
      "19it [00:13,  1.39it/s]\u001b[A\n",
      "20it [00:14,  1.39it/s]\u001b[A\n",
      "21it [00:15,  1.38it/s]\u001b[A\n",
      "22it [00:15,  1.38it/s]\u001b[A\n",
      "23it [00:16,  1.38it/s]\u001b[A\n",
      "24it [00:17,  1.39it/s]\u001b[A\n",
      "25it [00:18,  1.39it/s]\u001b[A\n",
      "26it [00:18,  1.39it/s]\u001b[A\n",
      "27it [00:19,  1.40it/s]\u001b[A\n",
      "28it [00:20,  1.39it/s]\u001b[A\n",
      "29it [00:20,  1.40it/s]\u001b[A\n",
      " 13%|█▎        | 13/100 [04:56<32:49, 22.64s/it]"
     ]
    },
    {
     "name": "stdout",
     "output_type": "stream",
     "text": [
      "\n",
      "Validate: Average loss: 0.8268, Average Metric: 1.8987\n",
      "\n"
     ]
    },
    {
     "name": "stderr",
     "output_type": "stream",
     "text": [
      "\n",
      "0it [00:00, ?it/s]\u001b[A\n",
      "1it [00:00,  1.39it/s]\u001b[A"
     ]
    },
    {
     "name": "stdout",
     "output_type": "stream",
     "text": [
      "Train Epoch: 13 [0/57 (0%)]\tLoss: 0.860555\n"
     ]
    },
    {
     "name": "stderr",
     "output_type": "stream",
     "text": [
      "\n",
      "2it [00:01,  1.39it/s]\u001b[A\n",
      "3it [00:02,  1.39it/s]\u001b[A\n",
      "4it [00:02,  1.38it/s]\u001b[A\n",
      "5it [00:03,  1.37it/s]\u001b[A\n",
      "6it [00:04,  1.39it/s]\u001b[A\n",
      "7it [00:05,  1.38it/s]\u001b[A\n",
      "8it [00:05,  1.39it/s]\u001b[A\n",
      "9it [00:06,  1.38it/s]\u001b[A\n",
      "10it [00:07,  1.38it/s]\u001b[A\n",
      "11it [00:07,  1.39it/s]\u001b[A\n",
      "12it [00:08,  1.38it/s]\u001b[A\n",
      "13it [00:09,  1.39it/s]\u001b[A\n",
      "14it [00:10,  1.39it/s]\u001b[A\n",
      "15it [00:10,  1.40it/s]\u001b[A\n",
      "16it [00:11,  1.41it/s]\u001b[A\n",
      "17it [00:12,  1.40it/s]\u001b[A\n",
      "18it [00:12,  1.39it/s]\u001b[A\n",
      "19it [00:13,  1.39it/s]\u001b[A\n",
      "20it [00:14,  1.40it/s]\u001b[A\n",
      "21it [00:15,  1.40it/s]\u001b[A\n",
      "22it [00:15,  1.40it/s]\u001b[A\n",
      "23it [00:16,  1.41it/s]\u001b[A\n",
      "24it [00:17,  1.39it/s]\u001b[A\n",
      "25it [00:17,  1.40it/s]\u001b[A\n",
      "26it [00:18,  1.40it/s]\u001b[A\n",
      "27it [00:19,  1.40it/s]\u001b[A\n",
      "28it [00:20,  1.40it/s]\u001b[A\n",
      "29it [00:20,  1.41it/s]\u001b[A\n",
      " 14%|█▍        | 14/100 [05:18<32:20, 22.57s/it]"
     ]
    },
    {
     "name": "stdout",
     "output_type": "stream",
     "text": [
      "\n",
      "Validate: Average loss: 0.8482, Average Metric: 1.8927\n",
      "\n"
     ]
    },
    {
     "name": "stderr",
     "output_type": "stream",
     "text": [
      "\n",
      "0it [00:00, ?it/s]\u001b[A\n",
      "1it [00:00,  1.38it/s]\u001b[A"
     ]
    },
    {
     "name": "stdout",
     "output_type": "stream",
     "text": [
      "Train Epoch: 14 [0/57 (0%)]\tLoss: 0.615193\n"
     ]
    },
    {
     "name": "stderr",
     "output_type": "stream",
     "text": [
      "\n",
      "2it [00:01,  1.40it/s]\u001b[A\n",
      "3it [00:02,  1.41it/s]\u001b[A\n",
      "4it [00:02,  1.41it/s]\u001b[A\n",
      "5it [00:03,  1.42it/s]\u001b[A\n",
      "6it [00:04,  1.40it/s]\u001b[A\n",
      "7it [00:04,  1.40it/s]\u001b[A\n",
      "8it [00:05,  1.38it/s]\u001b[A\n",
      "9it [00:06,  1.37it/s]\u001b[A\n",
      "10it [00:07,  1.37it/s]\u001b[A\n",
      "11it [00:07,  1.38it/s]\u001b[A\n",
      "12it [00:08,  1.39it/s]\u001b[A\n",
      "13it [00:09,  1.40it/s]\u001b[A\n",
      "14it [00:10,  1.40it/s]\u001b[A\n",
      "15it [00:10,  1.34it/s]\u001b[A\n",
      "16it [00:11,  1.37it/s]\u001b[A\n",
      "17it [00:12,  1.38it/s]\u001b[A\n",
      "18it [00:12,  1.39it/s]\u001b[A\n",
      "19it [00:13,  1.39it/s]\u001b[A\n",
      "20it [00:14,  1.40it/s]\u001b[A\n",
      "21it [00:15,  1.41it/s]\u001b[A\n",
      "22it [00:15,  1.41it/s]\u001b[A\n",
      "23it [00:16,  1.41it/s]\u001b[A\n",
      "24it [00:17,  1.39it/s]\u001b[A\n",
      "25it [00:17,  1.39it/s]\u001b[A\n",
      "26it [00:18,  1.39it/s]\u001b[A\n",
      "27it [00:19,  1.40it/s]\u001b[A\n",
      "28it [00:20,  1.40it/s]\u001b[A\n",
      "29it [00:20,  1.41it/s]\u001b[A\n",
      " 15%|█▌        | 15/100 [05:41<31:54, 22.52s/it]"
     ]
    },
    {
     "name": "stdout",
     "output_type": "stream",
     "text": [
      "\n",
      "Validate: Average loss: 0.9292, Average Metric: 1.8790\n",
      "\n"
     ]
    },
    {
     "name": "stderr",
     "output_type": "stream",
     "text": [
      "\n",
      "0it [00:00, ?it/s]\u001b[A\n",
      "1it [00:00,  1.39it/s]\u001b[A"
     ]
    },
    {
     "name": "stdout",
     "output_type": "stream",
     "text": [
      "Train Epoch: 15 [0/57 (0%)]\tLoss: 0.533747\n"
     ]
    },
    {
     "name": "stderr",
     "output_type": "stream",
     "text": [
      "\n",
      "2it [00:01,  1.36it/s]\u001b[A\n",
      "3it [00:02,  1.38it/s]\u001b[A\n",
      "4it [00:02,  1.39it/s]\u001b[A\n",
      "5it [00:03,  1.40it/s]\u001b[A\n",
      "6it [00:04,  1.39it/s]\u001b[A\n",
      "7it [00:05,  1.39it/s]\u001b[A\n",
      "8it [00:05,  1.39it/s]\u001b[A\n",
      "9it [00:06,  1.39it/s]\u001b[A\n",
      "10it [00:07,  1.39it/s]\u001b[A\n",
      "11it [00:07,  1.40it/s]\u001b[A\n",
      "12it [00:08,  1.41it/s]\u001b[A\n",
      "13it [00:09,  1.41it/s]\u001b[A\n",
      "14it [00:10,  1.42it/s]\u001b[A\n",
      "15it [00:10,  1.42it/s]\u001b[A\n",
      "16it [00:11,  1.41it/s]\u001b[A\n",
      "17it [00:12,  1.40it/s]\u001b[A\n",
      "18it [00:12,  1.40it/s]\u001b[A\n",
      "19it [00:13,  1.40it/s]\u001b[A\n",
      "20it [00:14,  1.40it/s]\u001b[A\n",
      "21it [00:15,  1.41it/s]\u001b[A\n",
      "22it [00:15,  1.41it/s]\u001b[A\n",
      "23it [00:16,  1.40it/s]\u001b[A\n",
      "24it [00:17,  1.40it/s]\u001b[A\n",
      "25it [00:17,  1.40it/s]\u001b[A\n",
      "26it [00:18,  1.38it/s]\u001b[A\n",
      "27it [00:19,  1.40it/s]\u001b[A\n",
      "28it [00:20,  1.38it/s]\u001b[A\n",
      "29it [00:20,  1.41it/s]\u001b[A\n",
      " 16%|█▌        | 16/100 [06:03<31:28, 22.48s/it]"
     ]
    },
    {
     "name": "stdout",
     "output_type": "stream",
     "text": [
      "\n",
      "Validate: Average loss: 0.8594, Average Metric: 1.8961\n",
      "\n"
     ]
    },
    {
     "name": "stderr",
     "output_type": "stream",
     "text": [
      "\n",
      "0it [00:00, ?it/s]\u001b[A\n",
      "1it [00:00,  1.41it/s]\u001b[A"
     ]
    },
    {
     "name": "stdout",
     "output_type": "stream",
     "text": [
      "Train Epoch: 16 [0/57 (0%)]\tLoss: 0.559423\n"
     ]
    },
    {
     "name": "stderr",
     "output_type": "stream",
     "text": [
      "\n",
      "2it [00:01,  1.37it/s]\u001b[A\n",
      "3it [00:02,  1.39it/s]\u001b[A\n",
      "4it [00:02,  1.40it/s]\u001b[A\n",
      "5it [00:03,  1.41it/s]\u001b[A\n",
      "6it [00:04,  1.40it/s]\u001b[A\n",
      "7it [00:05,  1.40it/s]\u001b[A\n",
      "8it [00:05,  1.39it/s]\u001b[A\n",
      "9it [00:06,  1.39it/s]\u001b[A\n",
      "10it [00:07,  1.39it/s]\u001b[A\n",
      "11it [00:07,  1.39it/s]\u001b[A\n",
      "12it [00:08,  1.40it/s]\u001b[A\n",
      "13it [00:09,  1.41it/s]\u001b[A\n",
      "14it [00:09,  1.42it/s]\u001b[A\n",
      "15it [00:10,  1.41it/s]\u001b[A\n",
      "16it [00:11,  1.41it/s]\u001b[A\n",
      "17it [00:12,  1.38it/s]\u001b[A\n",
      "18it [00:12,  1.39it/s]\u001b[A\n",
      "19it [00:13,  1.39it/s]\u001b[A\n",
      "20it [00:14,  1.40it/s]\u001b[A\n",
      "21it [00:15,  1.40it/s]\u001b[A\n",
      "22it [00:15,  1.41it/s]\u001b[A\n",
      "23it [00:16,  1.40it/s]\u001b[A\n",
      "24it [00:17,  1.40it/s]\u001b[A\n",
      "25it [00:17,  1.41it/s]\u001b[A\n",
      "26it [00:18,  1.40it/s]\u001b[A\n",
      "27it [00:19,  1.40it/s]\u001b[A\n",
      "28it [00:20,  1.40it/s]\u001b[A\n",
      "29it [00:20,  1.42it/s]\u001b[A\n",
      " 17%|█▋        | 17/100 [06:25<31:01, 22.42s/it]"
     ]
    },
    {
     "name": "stdout",
     "output_type": "stream",
     "text": [
      "\n",
      "Validate: Average loss: 0.7501, Average Metric: 1.9015\n",
      "\n"
     ]
    },
    {
     "name": "stderr",
     "output_type": "stream",
     "text": [
      "\n",
      "0it [00:00, ?it/s]\u001b[A\n",
      "1it [00:00,  1.40it/s]\u001b[A"
     ]
    },
    {
     "name": "stdout",
     "output_type": "stream",
     "text": [
      "Train Epoch: 17 [0/57 (0%)]\tLoss: 0.667190\n"
     ]
    },
    {
     "name": "stderr",
     "output_type": "stream",
     "text": [
      "\n",
      "2it [00:01,  1.41it/s]\u001b[A\n",
      "3it [00:02,  1.40it/s]\u001b[A\n",
      "4it [00:02,  1.40it/s]\u001b[A\n",
      "5it [00:03,  1.40it/s]\u001b[A\n",
      "6it [00:04,  1.40it/s]\u001b[A\n",
      "7it [00:05,  1.40it/s]\u001b[A\n",
      "8it [00:05,  1.38it/s]\u001b[A\n",
      "9it [00:06,  1.39it/s]\u001b[A\n",
      "10it [00:07,  1.40it/s]\u001b[A\n",
      "11it [00:07,  1.40it/s]\u001b[A\n",
      "12it [00:08,  1.40it/s]\u001b[A\n",
      "13it [00:09,  1.41it/s]\u001b[A\n",
      "14it [00:10,  1.41it/s]\u001b[A\n",
      "15it [00:10,  1.42it/s]\u001b[A\n",
      "16it [00:11,  1.42it/s]\u001b[A\n",
      "17it [00:12,  1.42it/s]\u001b[A\n",
      "18it [00:12,  1.42it/s]\u001b[A\n",
      "19it [00:13,  1.42it/s]\u001b[A\n",
      "20it [00:14,  1.41it/s]\u001b[A\n",
      "21it [00:14,  1.39it/s]\u001b[A\n",
      "22it [00:15,  1.34it/s]\u001b[A\n",
      "23it [00:16,  1.36it/s]\u001b[A\n",
      "24it [00:17,  1.37it/s]\u001b[A\n",
      "25it [00:17,  1.38it/s]\u001b[A\n",
      "26it [00:18,  1.38it/s]\u001b[A\n",
      "27it [00:19,  1.39it/s]\u001b[A\n",
      "28it [00:20,  1.37it/s]\u001b[A\n",
      "29it [00:20,  1.41it/s]\u001b[A\n",
      " 18%|█▊        | 18/100 [06:48<30:38, 22.42s/it]"
     ]
    },
    {
     "name": "stdout",
     "output_type": "stream",
     "text": [
      "\n",
      "Validate: Average loss: 0.7680, Average Metric: 1.9093\n",
      "\n"
     ]
    },
    {
     "name": "stderr",
     "output_type": "stream",
     "text": [
      "\n",
      "0it [00:00, ?it/s]\u001b[A\n",
      "1it [00:00,  1.37it/s]\u001b[A"
     ]
    },
    {
     "name": "stdout",
     "output_type": "stream",
     "text": [
      "Train Epoch: 18 [0/57 (0%)]\tLoss: 0.536200\n"
     ]
    },
    {
     "name": "stderr",
     "output_type": "stream",
     "text": [
      "\n",
      "2it [00:01,  1.38it/s]\u001b[A\n",
      "3it [00:02,  1.37it/s]\u001b[A\n",
      "4it [00:02,  1.38it/s]\u001b[A\n",
      "5it [00:03,  1.39it/s]\u001b[A\n",
      "6it [00:04,  1.39it/s]\u001b[A\n",
      "7it [00:05,  1.40it/s]\u001b[A\n",
      "8it [00:05,  1.39it/s]\u001b[A\n",
      "9it [00:06,  1.39it/s]\u001b[A\n",
      "10it [00:07,  1.39it/s]\u001b[A\n",
      "11it [00:07,  1.39it/s]\u001b[A\n",
      "12it [00:08,  1.39it/s]\u001b[A\n",
      "13it [00:09,  1.37it/s]\u001b[A\n",
      "14it [00:10,  1.36it/s]\u001b[A\n",
      "15it [00:10,  1.37it/s]\u001b[A\n",
      "16it [00:11,  1.37it/s]\u001b[A\n",
      "17it [00:12,  1.39it/s]\u001b[A\n",
      "18it [00:13,  1.33it/s]\u001b[A\n",
      "19it [00:13,  1.32it/s]\u001b[A\n",
      "20it [00:14,  1.33it/s]\u001b[A\n",
      "21it [00:15,  1.35it/s]\u001b[A\n",
      "22it [00:16,  1.37it/s]\u001b[A\n",
      "23it [00:16,  1.39it/s]\u001b[A\n",
      "24it [00:17,  1.36it/s]\u001b[A\n",
      "25it [00:18,  1.38it/s]\u001b[A\n",
      "26it [00:18,  1.38it/s]\u001b[A\n",
      "27it [00:19,  1.39it/s]\u001b[A\n",
      "28it [00:20,  1.40it/s]\u001b[A\n",
      "29it [00:20,  1.39it/s]\u001b[A\n",
      " 19%|█▉        | 19/100 [07:10<30:20, 22.48s/it]"
     ]
    },
    {
     "name": "stdout",
     "output_type": "stream",
     "text": [
      "\n",
      "Validate: Average loss: 0.6498, Average Metric: 1.9023\n",
      "\n"
     ]
    },
    {
     "name": "stderr",
     "output_type": "stream",
     "text": [
      "\n",
      "0it [00:00, ?it/s]\u001b[A\n",
      "1it [00:00,  1.40it/s]\u001b[A"
     ]
    },
    {
     "name": "stdout",
     "output_type": "stream",
     "text": [
      "Train Epoch: 19 [0/57 (0%)]\tLoss: 0.412148\n"
     ]
    },
    {
     "name": "stderr",
     "output_type": "stream",
     "text": [
      "\n",
      "2it [00:01,  1.36it/s]\u001b[A\n",
      "3it [00:02,  1.39it/s]\u001b[A\n",
      "4it [00:02,  1.37it/s]\u001b[A\n",
      "5it [00:03,  1.37it/s]\u001b[A\n",
      "6it [00:04,  1.38it/s]\u001b[A\n",
      "7it [00:05,  1.37it/s]\u001b[A\n",
      "8it [00:05,  1.39it/s]\u001b[A\n",
      "9it [00:06,  1.39it/s]\u001b[A\n",
      "10it [00:07,  1.37it/s]\u001b[A\n",
      "11it [00:07,  1.38it/s]\u001b[A\n",
      "12it [00:08,  1.38it/s]\u001b[A\n",
      "13it [00:09,  1.38it/s]\u001b[A\n",
      "14it [00:10,  1.37it/s]\u001b[A\n",
      "15it [00:10,  1.36it/s]\u001b[A\n",
      "16it [00:11,  1.37it/s]\u001b[A\n",
      "17it [00:12,  1.38it/s]\u001b[A\n",
      "18it [00:13,  1.39it/s]\u001b[A\n",
      "19it [00:13,  1.39it/s]\u001b[A\n",
      "20it [00:14,  1.40it/s]\u001b[A\n",
      "21it [00:15,  1.41it/s]\u001b[A\n",
      "22it [00:15,  1.41it/s]\u001b[A\n",
      "23it [00:16,  1.41it/s]\u001b[A\n",
      "24it [00:17,  1.41it/s]\u001b[A\n",
      "25it [00:18,  1.38it/s]\u001b[A\n",
      "26it [00:18,  1.39it/s]\u001b[A\n",
      "27it [00:19,  1.40it/s]\u001b[A\n",
      "28it [00:20,  1.39it/s]\u001b[A\n",
      "29it [00:20,  1.40it/s]\u001b[A\n",
      " 20%|██        | 20/100 [07:33<30:04, 22.55s/it]"
     ]
    },
    {
     "name": "stdout",
     "output_type": "stream",
     "text": [
      "\n",
      "Validate: Average loss: 0.6346, Average Metric: 1.9066\n",
      "\n"
     ]
    },
    {
     "name": "stderr",
     "output_type": "stream",
     "text": [
      "\n",
      "0it [00:00, ?it/s]\u001b[A\n",
      "1it [00:00,  1.27it/s]\u001b[A"
     ]
    },
    {
     "name": "stdout",
     "output_type": "stream",
     "text": [
      "Train Epoch: 20 [0/57 (0%)]\tLoss: 1.286604\n"
     ]
    },
    {
     "name": "stderr",
     "output_type": "stream",
     "text": [
      "\n",
      "2it [00:01,  1.32it/s]\u001b[A\n",
      "3it [00:02,  1.33it/s]\u001b[A\n",
      "4it [00:02,  1.35it/s]\u001b[A\n",
      "5it [00:03,  1.37it/s]\u001b[A\n",
      "6it [00:04,  1.39it/s]\u001b[A\n",
      "7it [00:05,  1.40it/s]\u001b[A\n",
      "8it [00:05,  1.39it/s]\u001b[A\n",
      "9it [00:06,  1.39it/s]\u001b[A\n",
      "10it [00:07,  1.40it/s]\u001b[A\n",
      "11it [00:07,  1.40it/s]\u001b[A\n",
      "12it [00:08,  1.41it/s]\u001b[A\n",
      "13it [00:09,  1.40it/s]\u001b[A\n",
      "14it [00:10,  1.41it/s]\u001b[A\n",
      "15it [00:10,  1.41it/s]\u001b[A\n",
      "16it [00:11,  1.41it/s]\u001b[A\n",
      "17it [00:12,  1.41it/s]\u001b[A\n",
      "18it [00:12,  1.42it/s]\u001b[A\n",
      "19it [00:13,  1.42it/s]\u001b[A\n",
      "20it [00:14,  1.41it/s]\u001b[A\n",
      "21it [00:15,  1.39it/s]\u001b[A\n",
      "22it [00:15,  1.40it/s]\u001b[A\n",
      "23it [00:16,  1.40it/s]\u001b[A\n",
      "24it [00:17,  1.41it/s]\u001b[A\n",
      "25it [00:17,  1.41it/s]\u001b[A\n",
      "26it [00:18,  1.42it/s]\u001b[A\n",
      "27it [00:19,  1.40it/s]\u001b[A\n",
      "28it [00:20,  1.39it/s]\u001b[A\n",
      "29it [00:20,  1.41it/s]\u001b[A\n",
      " 21%|██        | 21/100 [07:55<29:38, 22.52s/it]"
     ]
    },
    {
     "name": "stdout",
     "output_type": "stream",
     "text": [
      "\n",
      "Validate: Average loss: 0.6374, Average Metric: 1.9006\n",
      "\n"
     ]
    },
    {
     "name": "stderr",
     "output_type": "stream",
     "text": [
      "\n",
      "0it [00:00, ?it/s]\u001b[A\n",
      "1it [00:00,  1.31it/s]\u001b[A"
     ]
    },
    {
     "name": "stdout",
     "output_type": "stream",
     "text": [
      "Train Epoch: 21 [0/57 (0%)]\tLoss: 0.528637\n"
     ]
    },
    {
     "name": "stderr",
     "output_type": "stream",
     "text": [
      "\n",
      "2it [00:01,  1.35it/s]\u001b[A\n",
      "3it [00:02,  1.35it/s]\u001b[A\n",
      "4it [00:02,  1.36it/s]\u001b[A\n",
      "5it [00:03,  1.38it/s]\u001b[A\n",
      "6it [00:04,  1.39it/s]\u001b[A\n",
      "7it [00:05,  1.39it/s]\u001b[A\n",
      "8it [00:05,  1.39it/s]\u001b[A\n",
      "9it [00:06,  1.38it/s]\u001b[A\n",
      "10it [00:07,  1.40it/s]\u001b[A\n",
      "11it [00:07,  1.39it/s]\u001b[A\n",
      "12it [00:08,  1.38it/s]\u001b[A\n",
      "13it [00:09,  1.39it/s]\u001b[A\n",
      "14it [00:10,  1.40it/s]\u001b[A\n",
      "15it [00:10,  1.41it/s]\u001b[A\n",
      "16it [00:11,  1.41it/s]\u001b[A\n",
      "17it [00:12,  1.41it/s]\u001b[A\n",
      "18it [00:12,  1.40it/s]\u001b[A\n",
      "19it [00:13,  1.40it/s]\u001b[A\n",
      "20it [00:14,  1.40it/s]\u001b[A\n",
      "21it [00:15,  1.41it/s]\u001b[A\n",
      "22it [00:15,  1.41it/s]\u001b[A\n",
      "23it [00:16,  1.40it/s]\u001b[A\n",
      "24it [00:17,  1.40it/s]\u001b[A\n",
      "25it [00:17,  1.40it/s]\u001b[A\n",
      "26it [00:18,  1.38it/s]\u001b[A\n",
      "27it [00:19,  1.38it/s]\u001b[A\n",
      "28it [00:20,  1.39it/s]\u001b[A\n",
      "29it [00:20,  1.41it/s]\u001b[A\n",
      " 22%|██▏       | 22/100 [08:18<29:18, 22.55s/it]"
     ]
    },
    {
     "name": "stdout",
     "output_type": "stream",
     "text": [
      "\n",
      "Validate: Average loss: 0.6589, Average Metric: 1.9057\n",
      "\n"
     ]
    },
    {
     "name": "stderr",
     "output_type": "stream",
     "text": [
      "\n",
      "0it [00:00, ?it/s]\u001b[A\n",
      "1it [00:00,  1.34it/s]\u001b[A"
     ]
    },
    {
     "name": "stdout",
     "output_type": "stream",
     "text": [
      "Train Epoch: 22 [0/57 (0%)]\tLoss: 0.851177\n"
     ]
    },
    {
     "name": "stderr",
     "output_type": "stream",
     "text": [
      "\n",
      "2it [00:01,  1.36it/s]\u001b[A\n",
      "3it [00:02,  1.34it/s]\u001b[A\n",
      "4it [00:02,  1.35it/s]\u001b[A\n",
      "5it [00:03,  1.38it/s]\u001b[A\n",
      "6it [00:04,  1.39it/s]\u001b[A\n",
      "7it [00:05,  1.40it/s]\u001b[A\n",
      "8it [00:05,  1.41it/s]\u001b[A\n",
      "9it [00:06,  1.41it/s]\u001b[A\n",
      "10it [00:07,  1.42it/s]\u001b[A\n",
      "11it [00:07,  1.42it/s]\u001b[A\n",
      "12it [00:08,  1.42it/s]\u001b[A\n",
      "13it [00:09,  1.41it/s]\u001b[A\n",
      "14it [00:10,  1.41it/s]\u001b[A\n",
      "15it [00:10,  1.41it/s]\u001b[A\n",
      "16it [00:11,  1.41it/s]\u001b[A\n",
      "17it [00:12,  1.41it/s]\u001b[A\n",
      "18it [00:12,  1.42it/s]\u001b[A\n",
      "19it [00:13,  1.41it/s]\u001b[A\n",
      "20it [00:14,  1.41it/s]\u001b[A\n",
      "21it [00:14,  1.41it/s]\u001b[A\n",
      "22it [00:15,  1.42it/s]\u001b[A\n",
      "23it [00:16,  1.38it/s]\u001b[A\n",
      "24it [00:17,  1.39it/s]\u001b[A\n",
      "25it [00:17,  1.38it/s]\u001b[A\n",
      "26it [00:18,  1.38it/s]\u001b[A\n",
      "27it [00:19,  1.36it/s]\u001b[A\n",
      "28it [00:20,  1.37it/s]\u001b[A\n",
      "29it [00:20,  1.41it/s]\u001b[A\n",
      " 23%|██▎       | 23/100 [08:40<28:52, 22.51s/it]"
     ]
    },
    {
     "name": "stdout",
     "output_type": "stream",
     "text": [
      "\n",
      "Validate: Average loss: 0.6439, Average Metric: 1.9078\n",
      "\n"
     ]
    },
    {
     "name": "stderr",
     "output_type": "stream",
     "text": [
      "\n",
      "0it [00:00, ?it/s]\u001b[A\n",
      "1it [00:00,  1.37it/s]\u001b[A"
     ]
    },
    {
     "name": "stdout",
     "output_type": "stream",
     "text": [
      "Train Epoch: 23 [0/57 (0%)]\tLoss: 0.881855\n"
     ]
    },
    {
     "name": "stderr",
     "output_type": "stream",
     "text": [
      "\n",
      "2it [00:01,  1.38it/s]\u001b[A\n",
      "3it [00:02,  1.39it/s]\u001b[A\n",
      "4it [00:02,  1.39it/s]\u001b[A\n",
      "5it [00:03,  1.40it/s]\u001b[A\n",
      "6it [00:04,  1.37it/s]\u001b[A\n",
      "7it [00:05,  1.37it/s]\u001b[A\n",
      "8it [00:05,  1.38it/s]\u001b[A\n",
      "9it [00:06,  1.39it/s]\u001b[A\n",
      "10it [00:07,  1.39it/s]\u001b[A\n",
      "11it [00:07,  1.38it/s]\u001b[A\n",
      "12it [00:08,  1.34it/s]\u001b[A\n",
      "13it [00:09,  1.32it/s]\u001b[A\n",
      "14it [00:10,  1.32it/s]\u001b[A\n",
      "15it [00:11,  1.35it/s]\u001b[A\n",
      "16it [00:11,  1.36it/s]\u001b[A\n",
      "17it [00:12,  1.38it/s]\u001b[A\n",
      "18it [00:13,  1.39it/s]\u001b[A\n",
      "19it [00:13,  1.40it/s]\u001b[A\n",
      "20it [00:14,  1.41it/s]\u001b[A\n",
      "21it [00:15,  1.41it/s]\u001b[A\n",
      "22it [00:15,  1.42it/s]\u001b[A\n",
      "23it [00:16,  1.42it/s]\u001b[A\n",
      "24it [00:17,  1.42it/s]\u001b[A\n",
      "25it [00:18,  1.42it/s]\u001b[A\n",
      "26it [00:18,  1.41it/s]\u001b[A\n",
      "27it [00:19,  1.41it/s]\u001b[A\n",
      "28it [00:20,  1.42it/s]\u001b[A\n",
      "29it [00:20,  1.40it/s]\u001b[A\n",
      " 24%|██▍       | 24/100 [09:03<28:31, 22.52s/it]"
     ]
    },
    {
     "name": "stdout",
     "output_type": "stream",
     "text": [
      "\n",
      "Validate: Average loss: 0.5724, Average Metric: 1.9040\n",
      "\n"
     ]
    },
    {
     "name": "stderr",
     "output_type": "stream",
     "text": [
      "\n",
      "0it [00:00, ?it/s]\u001b[A\n",
      "1it [00:00,  1.30it/s]\u001b[A"
     ]
    },
    {
     "name": "stdout",
     "output_type": "stream",
     "text": [
      "Train Epoch: 24 [0/57 (0%)]\tLoss: 0.999444\n"
     ]
    },
    {
     "name": "stderr",
     "output_type": "stream",
     "text": [
      "\n",
      "2it [00:01,  1.28it/s]\u001b[A\n",
      "3it [00:02,  1.29it/s]\u001b[A\n",
      "4it [00:03,  1.33it/s]\u001b[A\n",
      "5it [00:03,  1.34it/s]\u001b[A\n",
      "6it [00:04,  1.36it/s]\u001b[A\n",
      "7it [00:05,  1.38it/s]\u001b[A\n",
      "8it [00:05,  1.38it/s]\u001b[A\n",
      "9it [00:06,  1.39it/s]\u001b[A\n",
      "10it [00:07,  1.38it/s]\u001b[A\n",
      "11it [00:08,  1.38it/s]\u001b[A\n",
      "12it [00:08,  1.38it/s]\u001b[A\n",
      "13it [00:09,  1.39it/s]\u001b[A\n",
      "14it [00:10,  1.40it/s]\u001b[A\n",
      "15it [00:10,  1.40it/s]\u001b[A\n",
      "16it [00:11,  1.38it/s]\u001b[A\n",
      "17it [00:12,  1.39it/s]\u001b[A\n",
      "18it [00:13,  1.40it/s]\u001b[A\n",
      "19it [00:13,  1.41it/s]\u001b[A\n",
      "20it [00:14,  1.41it/s]\u001b[A\n",
      "21it [00:15,  1.41it/s]\u001b[A\n",
      "22it [00:15,  1.41it/s]\u001b[A\n",
      "23it [00:16,  1.41it/s]\u001b[A\n",
      "24it [00:17,  1.41it/s]\u001b[A\n",
      "25it [00:18,  1.39it/s]\u001b[A\n",
      "26it [00:18,  1.40it/s]\u001b[A\n",
      "27it [00:19,  1.40it/s]\u001b[A\n",
      "28it [00:20,  1.40it/s]\u001b[A\n",
      "29it [00:20,  1.40it/s]\u001b[A\n",
      " 25%|██▌       | 25/100 [09:26<28:10, 22.54s/it]"
     ]
    },
    {
     "name": "stdout",
     "output_type": "stream",
     "text": [
      "\n",
      "Validate: Average loss: 0.5382, Average Metric: 1.9098\n",
      "\n"
     ]
    },
    {
     "name": "stderr",
     "output_type": "stream",
     "text": [
      "\n",
      "0it [00:00, ?it/s]\u001b[A\n",
      "1it [00:00,  1.35it/s]\u001b[A"
     ]
    },
    {
     "name": "stdout",
     "output_type": "stream",
     "text": [
      "Train Epoch: 25 [0/57 (0%)]\tLoss: 0.523200\n"
     ]
    },
    {
     "name": "stderr",
     "output_type": "stream",
     "text": [
      "\n",
      "2it [00:01,  1.39it/s]\u001b[A\n",
      "3it [00:02,  1.41it/s]\u001b[A\n",
      "4it [00:02,  1.41it/s]\u001b[A\n",
      "5it [00:03,  1.41it/s]\u001b[A\n",
      "6it [00:04,  1.41it/s]\u001b[A\n",
      "7it [00:04,  1.40it/s]\u001b[A\n",
      "8it [00:05,  1.41it/s]\u001b[A\n",
      "9it [00:06,  1.41it/s]\u001b[A\n",
      "10it [00:07,  1.41it/s]\u001b[A\n",
      "11it [00:07,  1.41it/s]\u001b[A\n",
      "12it [00:08,  1.40it/s]\u001b[A\n",
      "13it [00:09,  1.39it/s]\u001b[A\n",
      "14it [00:09,  1.40it/s]\u001b[A\n",
      "15it [00:10,  1.38it/s]\u001b[A\n",
      "16it [00:11,  1.36it/s]\u001b[A\n",
      "17it [00:12,  1.37it/s]\u001b[A\n",
      "18it [00:12,  1.37it/s]\u001b[A\n",
      "19it [00:13,  1.38it/s]\u001b[A\n",
      "20it [00:14,  1.39it/s]\u001b[A\n",
      "21it [00:15,  1.39it/s]\u001b[A\n",
      "22it [00:15,  1.38it/s]\u001b[A\n",
      "23it [00:16,  1.39it/s]\u001b[A\n",
      "24it [00:17,  1.40it/s]\u001b[A\n",
      "25it [00:17,  1.41it/s]\u001b[A\n",
      "26it [00:18,  1.40it/s]\u001b[A\n",
      "27it [00:19,  1.41it/s]\u001b[A\n",
      "28it [00:20,  1.39it/s]\u001b[A\n",
      "29it [00:20,  1.41it/s]\u001b[A\n",
      " 26%|██▌       | 26/100 [09:48<27:49, 22.56s/it]"
     ]
    },
    {
     "name": "stdout",
     "output_type": "stream",
     "text": [
      "\n",
      "Validate: Average loss: 0.6169, Average Metric: 1.9003\n",
      "\n"
     ]
    },
    {
     "name": "stderr",
     "output_type": "stream",
     "text": [
      "\n",
      "0it [00:00, ?it/s]\u001b[A\n",
      "1it [00:00,  1.31it/s]\u001b[A"
     ]
    },
    {
     "name": "stdout",
     "output_type": "stream",
     "text": [
      "Train Epoch: 26 [0/57 (0%)]\tLoss: 0.740170\n"
     ]
    },
    {
     "name": "stderr",
     "output_type": "stream",
     "text": [
      "\n",
      "2it [00:01,  1.25it/s]\u001b[A\n",
      "3it [00:02,  1.29it/s]\u001b[A\n",
      "4it [00:03,  1.34it/s]\u001b[A\n",
      "5it [00:03,  1.37it/s]\u001b[A\n",
      "6it [00:04,  1.39it/s]\u001b[A\n",
      "7it [00:05,  1.37it/s]\u001b[A\n",
      "8it [00:05,  1.39it/s]\u001b[A\n",
      "9it [00:06,  1.39it/s]\u001b[A\n",
      "10it [00:07,  1.40it/s]\u001b[A\n",
      "11it [00:08,  1.39it/s]\u001b[A\n",
      "12it [00:08,  1.41it/s]\u001b[A\n",
      "13it [00:09,  1.40it/s]\u001b[A\n",
      "14it [00:10,  1.40it/s]\u001b[A\n",
      "15it [00:10,  1.40it/s]\u001b[A\n",
      "16it [00:11,  1.41it/s]\u001b[A\n",
      "17it [00:12,  1.41it/s]\u001b[A\n",
      "18it [00:12,  1.41it/s]\u001b[A\n",
      "19it [00:13,  1.38it/s]\u001b[A\n",
      "20it [00:14,  1.40it/s]\u001b[A\n",
      "21it [00:15,  1.40it/s]\u001b[A\n",
      "22it [00:15,  1.40it/s]\u001b[A\n",
      "23it [00:16,  1.41it/s]\u001b[A\n",
      "24it [00:17,  1.39it/s]\u001b[A\n",
      "25it [00:18,  1.40it/s]\u001b[A\n",
      "26it [00:18,  1.40it/s]\u001b[A\n",
      "27it [00:19,  1.39it/s]\u001b[A\n",
      "28it [00:20,  1.40it/s]\u001b[A\n",
      "29it [00:20,  1.40it/s]\u001b[A\n",
      " 27%|██▋       | 27/100 [10:11<27:29, 22.60s/it]"
     ]
    },
    {
     "name": "stdout",
     "output_type": "stream",
     "text": [
      "\n",
      "Validate: Average loss: 0.5404, Average Metric: 1.9069\n",
      "\n"
     ]
    },
    {
     "name": "stderr",
     "output_type": "stream",
     "text": [
      "\n",
      "0it [00:00, ?it/s]\u001b[A\n",
      "1it [00:00,  1.33it/s]\u001b[A"
     ]
    },
    {
     "name": "stdout",
     "output_type": "stream",
     "text": [
      "Train Epoch: 27 [0/57 (0%)]\tLoss: 0.931197\n"
     ]
    },
    {
     "name": "stderr",
     "output_type": "stream",
     "text": [
      "\n",
      "2it [00:01,  1.30it/s]\u001b[A\n",
      "3it [00:02,  1.32it/s]\u001b[A\n",
      "4it [00:02,  1.36it/s]\u001b[A\n",
      "5it [00:03,  1.38it/s]\u001b[A\n",
      "6it [00:04,  1.36it/s]\u001b[A\n",
      "7it [00:05,  1.36it/s]\u001b[A\n",
      "8it [00:05,  1.37it/s]\u001b[A\n",
      "9it [00:06,  1.38it/s]\u001b[A\n",
      "10it [00:07,  1.38it/s]\u001b[A\n",
      "11it [00:08,  1.39it/s]\u001b[A\n",
      "12it [00:08,  1.40it/s]\u001b[A\n",
      "13it [00:09,  1.39it/s]\u001b[A\n",
      "14it [00:10,  1.39it/s]\u001b[A\n",
      "15it [00:10,  1.40it/s]\u001b[A\n",
      "16it [00:11,  1.40it/s]\u001b[A\n",
      "17it [00:12,  1.38it/s]\u001b[A\n",
      "18it [00:13,  1.38it/s]\u001b[A\n",
      "19it [00:13,  1.39it/s]\u001b[A\n",
      "20it [00:14,  1.40it/s]\u001b[A\n",
      "21it [00:15,  1.40it/s]\u001b[A\n",
      "22it [00:15,  1.38it/s]\u001b[A\n",
      "23it [00:16,  1.39it/s]\u001b[A\n",
      "24it [00:17,  1.40it/s]\u001b[A\n",
      "25it [00:18,  1.40it/s]\u001b[A\n",
      "26it [00:18,  1.41it/s]\u001b[A\n",
      "27it [00:19,  1.41it/s]\u001b[A\n",
      "28it [00:20,  1.41it/s]\u001b[A\n",
      "29it [00:20,  1.40it/s]\u001b[A\n",
      " 28%|██▊       | 28/100 [10:34<27:07, 22.61s/it]"
     ]
    },
    {
     "name": "stdout",
     "output_type": "stream",
     "text": [
      "\n",
      "Validate: Average loss: 0.5781, Average Metric: 1.8983\n",
      "\n"
     ]
    },
    {
     "name": "stderr",
     "output_type": "stream",
     "text": [
      "\n",
      "0it [00:00, ?it/s]\u001b[A\n",
      "1it [00:00,  1.38it/s]\u001b[A"
     ]
    },
    {
     "name": "stdout",
     "output_type": "stream",
     "text": [
      "Train Epoch: 28 [0/57 (0%)]\tLoss: 1.028273\n"
     ]
    },
    {
     "name": "stderr",
     "output_type": "stream",
     "text": [
      "\n",
      "2it [00:01,  1.40it/s]\u001b[A\n",
      "3it [00:02,  1.41it/s]\u001b[A\n",
      "4it [00:02,  1.41it/s]\u001b[A\n",
      "5it [00:03,  1.41it/s]\u001b[A\n",
      "6it [00:04,  1.41it/s]\u001b[A\n",
      "7it [00:04,  1.41it/s]\u001b[A\n",
      "8it [00:05,  1.42it/s]\u001b[A\n",
      "9it [00:06,  1.40it/s]\u001b[A\n",
      "10it [00:07,  1.41it/s]\u001b[A\n",
      "11it [00:07,  1.40it/s]\u001b[A\n",
      "12it [00:08,  1.41it/s]\u001b[A\n",
      "13it [00:09,  1.41it/s]\u001b[A\n",
      "14it [00:09,  1.41it/s]\u001b[A\n",
      "15it [00:10,  1.41it/s]\u001b[A\n",
      "16it [00:11,  1.40it/s]\u001b[A\n",
      "17it [00:12,  1.41it/s]\u001b[A\n",
      "18it [00:12,  1.40it/s]\u001b[A\n",
      "19it [00:13,  1.40it/s]\u001b[A\n",
      "20it [00:14,  1.40it/s]\u001b[A\n",
      "21it [00:14,  1.40it/s]\u001b[A\n",
      "22it [00:15,  1.40it/s]\u001b[A\n",
      "23it [00:16,  1.40it/s]\u001b[A\n",
      "24it [00:17,  1.40it/s]\u001b[A\n",
      "25it [00:17,  1.40it/s]\u001b[A\n",
      "26it [00:18,  1.39it/s]\u001b[A\n",
      "27it [00:19,  1.40it/s]\u001b[A\n",
      "28it [00:19,  1.39it/s]\u001b[A\n",
      "29it [00:20,  1.42it/s]\u001b[A\n",
      " 29%|██▉       | 29/100 [10:56<26:38, 22.52s/it]"
     ]
    },
    {
     "name": "stdout",
     "output_type": "stream",
     "text": [
      "\n",
      "Validate: Average loss: 0.7082, Average Metric: 1.8902\n",
      "\n"
     ]
    },
    {
     "name": "stderr",
     "output_type": "stream",
     "text": [
      "\n",
      "0it [00:00, ?it/s]\u001b[A\n",
      "1it [00:00,  1.30it/s]\u001b[A"
     ]
    },
    {
     "name": "stdout",
     "output_type": "stream",
     "text": [
      "Train Epoch: 29 [0/57 (0%)]\tLoss: 0.534697\n"
     ]
    },
    {
     "name": "stderr",
     "output_type": "stream",
     "text": [
      "\n",
      "2it [00:01,  1.30it/s]\u001b[A\n",
      "3it [00:02,  1.33it/s]\u001b[A\n",
      "4it [00:02,  1.36it/s]\u001b[A\n",
      "5it [00:03,  1.38it/s]\u001b[A\n",
      "6it [00:04,  1.39it/s]\u001b[A\n",
      "7it [00:05,  1.39it/s]\u001b[A\n",
      "8it [00:05,  1.40it/s]\u001b[A\n",
      "9it [00:06,  1.39it/s]\u001b[A\n",
      "10it [00:07,  1.40it/s]\u001b[A\n",
      "11it [00:07,  1.40it/s]\u001b[A\n",
      "12it [00:08,  1.40it/s]\u001b[A\n",
      "13it [00:09,  1.40it/s]\u001b[A\n",
      "14it [00:10,  1.40it/s]\u001b[A\n",
      "15it [00:10,  1.40it/s]\u001b[A\n",
      "16it [00:11,  1.40it/s]\u001b[A\n",
      "17it [00:12,  1.40it/s]\u001b[A\n",
      "18it [00:12,  1.40it/s]\u001b[A\n",
      "19it [00:13,  1.41it/s]\u001b[A\n",
      "20it [00:14,  1.40it/s]\u001b[A\n",
      "21it [00:15,  1.40it/s]\u001b[A\n",
      "22it [00:15,  1.40it/s]\u001b[A\n",
      "23it [00:16,  1.41it/s]\u001b[A\n",
      "24it [00:17,  1.40it/s]\u001b[A\n",
      "25it [00:17,  1.39it/s]\u001b[A\n",
      "26it [00:18,  1.40it/s]\u001b[A\n",
      "27it [00:19,  1.41it/s]\u001b[A\n",
      "28it [00:20,  1.42it/s]\u001b[A\n",
      "29it [00:20,  1.41it/s]\u001b[A\n",
      " 30%|███       | 30/100 [11:18<26:12, 22.47s/it]"
     ]
    },
    {
     "name": "stdout",
     "output_type": "stream",
     "text": [
      "\n",
      "Validate: Average loss: 0.6185, Average Metric: 1.9069\n",
      "\n"
     ]
    },
    {
     "name": "stderr",
     "output_type": "stream",
     "text": [
      "\n",
      "0it [00:00, ?it/s]\u001b[A\n",
      "1it [00:00,  1.38it/s]\u001b[A"
     ]
    },
    {
     "name": "stdout",
     "output_type": "stream",
     "text": [
      "Train Epoch: 30 [0/57 (0%)]\tLoss: 0.403036\n"
     ]
    },
    {
     "name": "stderr",
     "output_type": "stream",
     "text": [
      "\n",
      "2it [00:01,  1.39it/s]\u001b[A\n",
      "3it [00:02,  1.38it/s]\u001b[A\n",
      "4it [00:02,  1.39it/s]\u001b[A\n",
      "5it [00:03,  1.41it/s]\u001b[A\n",
      "6it [00:04,  1.41it/s]\u001b[A\n",
      "7it [00:04,  1.41it/s]\u001b[A\n",
      "8it [00:05,  1.42it/s]\u001b[A\n",
      "9it [00:06,  1.42it/s]\u001b[A\n",
      "10it [00:07,  1.42it/s]\u001b[A\n",
      "11it [00:07,  1.40it/s]\u001b[A\n",
      "12it [00:08,  1.38it/s]\u001b[A\n",
      "13it [00:09,  1.39it/s]\u001b[A\n",
      "14it [00:09,  1.40it/s]\u001b[A\n",
      "15it [00:10,  1.40it/s]\u001b[A\n",
      "16it [00:11,  1.41it/s]\u001b[A\n",
      "17it [00:12,  1.40it/s]\u001b[A\n",
      "18it [00:12,  1.40it/s]\u001b[A\n",
      "19it [00:13,  1.40it/s]\u001b[A\n",
      "20it [00:14,  1.39it/s]\u001b[A\n",
      "21it [00:14,  1.40it/s]\u001b[A\n",
      "22it [00:15,  1.40it/s]\u001b[A\n",
      "23it [00:16,  1.41it/s]\u001b[A\n",
      "24it [00:17,  1.41it/s]\u001b[A\n",
      "25it [00:17,  1.42it/s]\u001b[A\n",
      "26it [00:18,  1.42it/s]\u001b[A\n",
      "27it [00:19,  1.41it/s]\u001b[A\n",
      "28it [00:19,  1.41it/s]\u001b[A\n",
      "29it [00:20,  1.42it/s]\u001b[A\n",
      " 31%|███       | 31/100 [11:40<25:45, 22.39s/it]"
     ]
    },
    {
     "name": "stdout",
     "output_type": "stream",
     "text": [
      "\n",
      "Validate: Average loss: 0.4910, Average Metric: 1.9094\n",
      "\n"
     ]
    },
    {
     "name": "stderr",
     "output_type": "stream",
     "text": [
      "\n",
      "0it [00:00, ?it/s]\u001b[A\n",
      "1it [00:00,  1.40it/s]\u001b[A"
     ]
    },
    {
     "name": "stdout",
     "output_type": "stream",
     "text": [
      "Train Epoch: 31 [0/57 (0%)]\tLoss: 0.891565\n"
     ]
    },
    {
     "name": "stderr",
     "output_type": "stream",
     "text": [
      "\n",
      "2it [00:01,  1.35it/s]\u001b[A\n",
      "3it [00:02,  1.37it/s]\u001b[A\n",
      "4it [00:02,  1.38it/s]\u001b[A\n",
      "5it [00:03,  1.39it/s]\u001b[A\n",
      "6it [00:04,  1.41it/s]\u001b[A\n",
      "7it [00:05,  1.41it/s]\u001b[A\n",
      "8it [00:05,  1.42it/s]\u001b[A\n",
      "9it [00:06,  1.42it/s]\u001b[A\n",
      "10it [00:07,  1.42it/s]\u001b[A\n",
      "11it [00:07,  1.38it/s]\u001b[A\n",
      "12it [00:08,  1.39it/s]\u001b[A\n",
      "13it [00:09,  1.41it/s]\u001b[A\n",
      "14it [00:09,  1.41it/s]\u001b[A\n",
      "15it [00:10,  1.41it/s]\u001b[A\n",
      "16it [00:11,  1.40it/s]\u001b[A\n",
      "17it [00:12,  1.41it/s]\u001b[A\n",
      "18it [00:12,  1.41it/s]\u001b[A\n",
      "19it [00:13,  1.40it/s]\u001b[A\n",
      "20it [00:14,  1.40it/s]\u001b[A\n",
      "21it [00:15,  1.39it/s]\u001b[A\n",
      "22it [00:15,  1.37it/s]\u001b[A\n",
      "23it [00:16,  1.37it/s]\u001b[A\n",
      "24it [00:17,  1.38it/s]\u001b[A\n",
      "25it [00:17,  1.37it/s]\u001b[A\n",
      "26it [00:18,  1.38it/s]\u001b[A\n",
      "27it [00:19,  1.38it/s]\u001b[A\n",
      "28it [00:20,  1.38it/s]\u001b[A\n",
      "29it [00:20,  1.41it/s]\u001b[A\n",
      " 32%|███▏      | 32/100 [12:03<25:23, 22.40s/it]"
     ]
    },
    {
     "name": "stdout",
     "output_type": "stream",
     "text": [
      "\n",
      "Validate: Average loss: 0.5100, Average Metric: 1.9058\n",
      "\n"
     ]
    },
    {
     "name": "stderr",
     "output_type": "stream",
     "text": [
      "\n",
      "0it [00:00, ?it/s]\u001b[A\n",
      "1it [00:00,  1.37it/s]\u001b[A"
     ]
    },
    {
     "name": "stdout",
     "output_type": "stream",
     "text": [
      "Train Epoch: 32 [0/57 (0%)]\tLoss: 0.419705\n"
     ]
    },
    {
     "name": "stderr",
     "output_type": "stream",
     "text": [
      "\n",
      "2it [00:01,  1.35it/s]\u001b[A\n",
      "3it [00:02,  1.35it/s]\u001b[A\n",
      "4it [00:02,  1.36it/s]\u001b[A\n",
      "5it [00:03,  1.37it/s]\u001b[A\n",
      "6it [00:04,  1.39it/s]\u001b[A\n",
      "7it [00:05,  1.40it/s]\u001b[A\n",
      "8it [00:05,  1.41it/s]\u001b[A\n",
      "9it [00:06,  1.41it/s]\u001b[A\n",
      "10it [00:07,  1.41it/s]\u001b[A\n",
      "11it [00:07,  1.41it/s]\u001b[A\n",
      "12it [00:08,  1.40it/s]\u001b[A\n",
      "13it [00:09,  1.38it/s]\u001b[A\n",
      "14it [00:10,  1.39it/s]\u001b[A\n",
      "15it [00:10,  1.40it/s]\u001b[A\n",
      "16it [00:11,  1.41it/s]\u001b[A\n",
      "17it [00:12,  1.41it/s]\u001b[A\n",
      "18it [00:12,  1.41it/s]\u001b[A\n",
      "19it [00:13,  1.41it/s]\u001b[A\n",
      "20it [00:14,  1.41it/s]\u001b[A\n",
      "21it [00:15,  1.38it/s]\u001b[A\n",
      "22it [00:15,  1.38it/s]\u001b[A\n",
      "23it [00:16,  1.38it/s]\u001b[A\n",
      "24it [00:17,  1.39it/s]\u001b[A\n",
      "25it [00:17,  1.39it/s]\u001b[A\n",
      "26it [00:18,  1.41it/s]\u001b[A\n",
      "27it [00:19,  1.41it/s]\u001b[A\n",
      "28it [00:20,  1.40it/s]\u001b[A\n",
      "29it [00:20,  1.41it/s]\u001b[A\n",
      " 33%|███▎      | 33/100 [12:25<25:01, 22.41s/it]"
     ]
    },
    {
     "name": "stdout",
     "output_type": "stream",
     "text": [
      "\n",
      "Validate: Average loss: 0.5151, Average Metric: 1.9064\n",
      "\n"
     ]
    },
    {
     "name": "stderr",
     "output_type": "stream",
     "text": [
      "\n",
      "0it [00:00, ?it/s]\u001b[A\n",
      "1it [00:00,  1.33it/s]\u001b[A"
     ]
    },
    {
     "name": "stdout",
     "output_type": "stream",
     "text": [
      "Train Epoch: 33 [0/57 (0%)]\tLoss: 0.529051\n"
     ]
    },
    {
     "name": "stderr",
     "output_type": "stream",
     "text": [
      "\n",
      "2it [00:01,  1.34it/s]\u001b[A\n",
      "3it [00:02,  1.34it/s]\u001b[A\n",
      "4it [00:03,  1.33it/s]\u001b[A\n",
      "5it [00:03,  1.34it/s]\u001b[A\n",
      "6it [00:04,  1.37it/s]\u001b[A\n",
      "7it [00:05,  1.39it/s]\u001b[A\n",
      "8it [00:05,  1.39it/s]\u001b[A\n",
      "9it [00:06,  1.40it/s]\u001b[A\n",
      "10it [00:07,  1.40it/s]\u001b[A\n",
      "11it [00:07,  1.41it/s]\u001b[A\n",
      "12it [00:08,  1.41it/s]\u001b[A\n",
      "13it [00:09,  1.39it/s]\u001b[A\n",
      "14it [00:10,  1.39it/s]\u001b[A\n",
      "15it [00:10,  1.39it/s]\u001b[A\n",
      "16it [00:11,  1.39it/s]\u001b[A\n",
      "17it [00:12,  1.40it/s]\u001b[A\n",
      "18it [00:12,  1.40it/s]\u001b[A\n",
      "19it [00:13,  1.40it/s]\u001b[A\n",
      "20it [00:14,  1.40it/s]\u001b[A\n",
      "21it [00:15,  1.39it/s]\u001b[A\n",
      "22it [00:15,  1.40it/s]\u001b[A\n",
      "23it [00:16,  1.40it/s]\u001b[A\n",
      "24it [00:17,  1.38it/s]\u001b[A\n",
      "25it [00:18,  1.38it/s]\u001b[A\n",
      "26it [00:18,  1.39it/s]\u001b[A\n",
      "27it [00:19,  1.39it/s]\u001b[A\n",
      "28it [00:20,  1.40it/s]\u001b[A\n",
      "29it [00:20,  1.41it/s]\u001b[A\n",
      " 34%|███▍      | 34/100 [12:48<24:43, 22.48s/it]"
     ]
    },
    {
     "name": "stdout",
     "output_type": "stream",
     "text": [
      "\n",
      "Validate: Average loss: 0.5106, Average Metric: 1.9079\n",
      "\n"
     ]
    },
    {
     "name": "stderr",
     "output_type": "stream",
     "text": [
      "\n",
      "0it [00:00, ?it/s]\u001b[A\n",
      "1it [00:00,  1.38it/s]\u001b[A"
     ]
    },
    {
     "name": "stdout",
     "output_type": "stream",
     "text": [
      "Train Epoch: 34 [0/57 (0%)]\tLoss: 0.886401\n"
     ]
    },
    {
     "name": "stderr",
     "output_type": "stream",
     "text": [
      "\n",
      "2it [00:01,  1.37it/s]\u001b[A\n",
      "3it [00:02,  1.33it/s]\u001b[A\n",
      "4it [00:02,  1.36it/s]\u001b[A\n",
      "5it [00:03,  1.38it/s]\u001b[A\n",
      "6it [00:04,  1.38it/s]\u001b[A\n",
      "7it [00:05,  1.40it/s]\u001b[A\n",
      "8it [00:05,  1.41it/s]\u001b[A\n",
      "9it [00:06,  1.40it/s]\u001b[A\n",
      "10it [00:07,  1.41it/s]\u001b[A\n",
      "11it [00:07,  1.40it/s]\u001b[A\n",
      "12it [00:08,  1.41it/s]\u001b[A\n",
      "13it [00:09,  1.40it/s]\u001b[A\n",
      "14it [00:10,  1.41it/s]\u001b[A\n",
      "15it [00:10,  1.40it/s]\u001b[A\n",
      "16it [00:11,  1.40it/s]\u001b[A\n",
      "17it [00:12,  1.41it/s]\u001b[A\n",
      "18it [00:12,  1.41it/s]\u001b[A\n",
      "19it [00:13,  1.41it/s]\u001b[A\n",
      "20it [00:14,  1.41it/s]\u001b[A\n",
      "21it [00:15,  1.41it/s]\u001b[A\n",
      "22it [00:15,  1.41it/s]\u001b[A\n",
      "23it [00:16,  1.41it/s]\u001b[A\n",
      "24it [00:17,  1.40it/s]\u001b[A\n",
      "25it [00:17,  1.40it/s]\u001b[A\n",
      "26it [00:18,  1.40it/s]\u001b[A\n",
      "27it [00:19,  1.40it/s]\u001b[A\n",
      "28it [00:20,  1.36it/s]\u001b[A\n",
      "29it [00:20,  1.41it/s]\u001b[A\n",
      " 35%|███▌      | 35/100 [13:10<24:22, 22.50s/it]"
     ]
    },
    {
     "name": "stdout",
     "output_type": "stream",
     "text": [
      "\n",
      "Validate: Average loss: 0.5080, Average Metric: 1.9099\n",
      "\n"
     ]
    },
    {
     "name": "stderr",
     "output_type": "stream",
     "text": [
      "\n",
      "0it [00:00, ?it/s]\u001b[A\n",
      "1it [00:00,  1.32it/s]\u001b[A"
     ]
    },
    {
     "name": "stdout",
     "output_type": "stream",
     "text": [
      "Train Epoch: 35 [0/57 (0%)]\tLoss: 0.439871\n"
     ]
    },
    {
     "name": "stderr",
     "output_type": "stream",
     "text": [
      "\n",
      "2it [00:01,  1.34it/s]\u001b[A\n",
      "3it [00:02,  1.34it/s]\u001b[A\n",
      "4it [00:02,  1.36it/s]\u001b[A\n",
      "5it [00:03,  1.38it/s]\u001b[A\n",
      "6it [00:04,  1.36it/s]\u001b[A\n",
      "7it [00:05,  1.38it/s]\u001b[A\n",
      "8it [00:05,  1.40it/s]\u001b[A\n",
      "9it [00:06,  1.40it/s]\u001b[A\n",
      "10it [00:07,  1.40it/s]\u001b[A\n",
      "11it [00:07,  1.40it/s]\u001b[A\n",
      "12it [00:08,  1.40it/s]\u001b[A\n",
      "13it [00:09,  1.40it/s]\u001b[A\n",
      "14it [00:10,  1.40it/s]\u001b[A\n",
      "15it [00:10,  1.40it/s]\u001b[A\n",
      "16it [00:11,  1.40it/s]\u001b[A\n",
      "17it [00:12,  1.40it/s]\u001b[A\n",
      "18it [00:12,  1.40it/s]\u001b[A\n",
      "19it [00:13,  1.39it/s]\u001b[A\n",
      "20it [00:14,  1.40it/s]\u001b[A\n",
      "21it [00:15,  1.40it/s]\u001b[A\n",
      "22it [00:15,  1.41it/s]\u001b[A\n",
      "23it [00:16,  1.42it/s]\u001b[A\n",
      "24it [00:17,  1.41it/s]\u001b[A\n",
      "25it [00:17,  1.41it/s]\u001b[A\n",
      "26it [00:18,  1.40it/s]\u001b[A\n",
      "27it [00:19,  1.40it/s]\u001b[A\n",
      "28it [00:20,  1.41it/s]\u001b[A\n",
      "29it [00:20,  1.41it/s]\u001b[A\n",
      " 36%|███▌      | 36/100 [13:33<23:59, 22.49s/it]"
     ]
    },
    {
     "name": "stdout",
     "output_type": "stream",
     "text": [
      "\n",
      "Validate: Average loss: 0.4683, Average Metric: 1.9093\n",
      "\n"
     ]
    },
    {
     "name": "stderr",
     "output_type": "stream",
     "text": [
      "\n",
      "0it [00:00, ?it/s]\u001b[A\n",
      "1it [00:00,  1.33it/s]\u001b[A"
     ]
    },
    {
     "name": "stdout",
     "output_type": "stream",
     "text": [
      "Train Epoch: 36 [0/57 (0%)]\tLoss: 0.506855\n"
     ]
    },
    {
     "name": "stderr",
     "output_type": "stream",
     "text": [
      "\n",
      "2it [00:01,  1.33it/s]\u001b[A\n",
      "3it [00:02,  1.33it/s]\u001b[A\n",
      "4it [00:02,  1.35it/s]\u001b[A\n",
      "5it [00:03,  1.37it/s]\u001b[A\n",
      "6it [00:04,  1.37it/s]\u001b[A\n",
      "7it [00:05,  1.35it/s]\u001b[A\n",
      "8it [00:05,  1.38it/s]\u001b[A\n",
      "9it [00:06,  1.39it/s]\u001b[A\n",
      "10it [00:07,  1.40it/s]\u001b[A\n",
      "11it [00:07,  1.40it/s]\u001b[A\n",
      "12it [00:08,  1.41it/s]\u001b[A\n",
      "13it [00:09,  1.40it/s]\u001b[A\n",
      "14it [00:10,  1.39it/s]\u001b[A\n",
      "15it [00:10,  1.39it/s]\u001b[A\n",
      "16it [00:11,  1.40it/s]\u001b[A\n",
      "17it [00:12,  1.38it/s]\u001b[A\n",
      "18it [00:13,  1.39it/s]\u001b[A\n",
      "19it [00:13,  1.40it/s]\u001b[A\n",
      "20it [00:14,  1.39it/s]\u001b[A\n",
      "21it [00:15,  1.39it/s]\u001b[A\n",
      "22it [00:15,  1.40it/s]\u001b[A\n",
      "23it [00:16,  1.38it/s]\u001b[A\n",
      "24it [00:17,  1.39it/s]\u001b[A\n",
      "25it [00:18,  1.39it/s]\u001b[A\n",
      "26it [00:18,  1.40it/s]\u001b[A\n",
      "27it [00:19,  1.39it/s]\u001b[A\n",
      "28it [00:20,  1.40it/s]\u001b[A\n",
      "29it [00:20,  1.40it/s]\u001b[A\n",
      " 37%|███▋      | 37/100 [13:55<23:37, 22.50s/it]"
     ]
    },
    {
     "name": "stdout",
     "output_type": "stream",
     "text": [
      "\n",
      "Validate: Average loss: 0.5245, Average Metric: 1.8990\n",
      "\n"
     ]
    },
    {
     "name": "stderr",
     "output_type": "stream",
     "text": [
      "\n",
      "0it [00:00, ?it/s]\u001b[A\n",
      "1it [00:00,  1.40it/s]\u001b[A"
     ]
    },
    {
     "name": "stdout",
     "output_type": "stream",
     "text": [
      "Train Epoch: 37 [0/57 (0%)]\tLoss: 0.304505\n"
     ]
    },
    {
     "name": "stderr",
     "output_type": "stream",
     "text": [
      "\n",
      "2it [00:01,  1.41it/s]\u001b[A\n",
      "3it [00:02,  1.40it/s]\u001b[A\n",
      "4it [00:02,  1.41it/s]\u001b[A\n",
      "5it [00:03,  1.41it/s]\u001b[A\n",
      "6it [00:04,  1.41it/s]\u001b[A\n",
      "7it [00:04,  1.41it/s]\u001b[A\n",
      "8it [00:05,  1.39it/s]\u001b[A\n",
      "9it [00:06,  1.38it/s]\u001b[A\n",
      "10it [00:07,  1.37it/s]\u001b[A\n",
      "11it [00:07,  1.37it/s]\u001b[A\n",
      "12it [00:08,  1.39it/s]\u001b[A\n",
      "13it [00:09,  1.40it/s]\u001b[A\n",
      "14it [00:10,  1.39it/s]\u001b[A\n",
      "15it [00:10,  1.40it/s]\u001b[A\n",
      "16it [00:11,  1.40it/s]\u001b[A\n",
      "17it [00:12,  1.39it/s]\u001b[A\n",
      "18it [00:12,  1.39it/s]\u001b[A\n",
      "19it [00:13,  1.40it/s]\u001b[A\n",
      "20it [00:14,  1.39it/s]\u001b[A\n",
      "21it [00:15,  1.39it/s]\u001b[A\n",
      "22it [00:15,  1.38it/s]\u001b[A\n",
      "23it [00:16,  1.39it/s]\u001b[A\n",
      "24it [00:17,  1.37it/s]\u001b[A\n",
      "25it [00:17,  1.38it/s]\u001b[A\n",
      "26it [00:18,  1.39it/s]\u001b[A\n",
      "27it [00:19,  1.40it/s]\u001b[A\n",
      "28it [00:20,  1.37it/s]\u001b[A\n",
      "29it [00:20,  1.41it/s]\u001b[A\n",
      " 38%|███▊      | 38/100 [14:18<23:15, 22.50s/it]"
     ]
    },
    {
     "name": "stdout",
     "output_type": "stream",
     "text": [
      "\n",
      "Validate: Average loss: 0.4671, Average Metric: 1.9061\n",
      "\n"
     ]
    },
    {
     "name": "stderr",
     "output_type": "stream",
     "text": [
      "\n",
      "0it [00:00, ?it/s]\u001b[A\n",
      "1it [00:00,  1.38it/s]\u001b[A"
     ]
    },
    {
     "name": "stdout",
     "output_type": "stream",
     "text": [
      "Train Epoch: 38 [0/57 (0%)]\tLoss: 0.270723\n"
     ]
    },
    {
     "name": "stderr",
     "output_type": "stream",
     "text": [
      "\n",
      "2it [00:01,  1.38it/s]\u001b[A\n",
      "3it [00:02,  1.38it/s]\u001b[A\n",
      "4it [00:02,  1.39it/s]\u001b[A\n",
      "5it [00:03,  1.40it/s]\u001b[A\n",
      "6it [00:04,  1.40it/s]\u001b[A\n",
      "7it [00:05,  1.40it/s]\u001b[A\n",
      "8it [00:05,  1.41it/s]\u001b[A\n",
      "9it [00:06,  1.40it/s]\u001b[A\n",
      "10it [00:07,  1.39it/s]\u001b[A\n",
      "11it [00:07,  1.39it/s]\u001b[A\n",
      "12it [00:08,  1.40it/s]\u001b[A\n",
      "13it [00:09,  1.40it/s]\u001b[A\n",
      "14it [00:10,  1.37it/s]\u001b[A\n",
      "15it [00:10,  1.39it/s]\u001b[A\n",
      "16it [00:11,  1.40it/s]\u001b[A\n",
      "17it [00:12,  1.41it/s]\u001b[A\n",
      "18it [00:12,  1.41it/s]\u001b[A\n",
      "19it [00:13,  1.37it/s]\u001b[A\n",
      "20it [00:14,  1.37it/s]\u001b[A\n",
      "21it [00:15,  1.37it/s]\u001b[A\n",
      "22it [00:15,  1.38it/s]\u001b[A\n",
      "23it [00:16,  1.39it/s]\u001b[A\n",
      "24it [00:17,  1.39it/s]\u001b[A\n",
      "25it [00:17,  1.39it/s]\u001b[A\n",
      "26it [00:18,  1.40it/s]\u001b[A\n",
      "27it [00:19,  1.40it/s]\u001b[A\n",
      "28it [00:20,  1.40it/s]\u001b[A\n",
      "29it [00:20,  1.41it/s]\u001b[A\n",
      " 39%|███▉      | 39/100 [14:41<22:54, 22.53s/it]"
     ]
    },
    {
     "name": "stdout",
     "output_type": "stream",
     "text": [
      "\n",
      "Validate: Average loss: 0.4509, Average Metric: 1.9102\n",
      "\n"
     ]
    },
    {
     "name": "stderr",
     "output_type": "stream",
     "text": [
      "\n",
      "0it [00:00, ?it/s]\u001b[A\n",
      "1it [00:00,  1.29it/s]\u001b[A"
     ]
    },
    {
     "name": "stdout",
     "output_type": "stream",
     "text": [
      "Train Epoch: 39 [0/57 (0%)]\tLoss: 0.370594\n"
     ]
    },
    {
     "name": "stderr",
     "output_type": "stream",
     "text": [
      "\n",
      "2it [00:01,  1.32it/s]\u001b[A\n",
      "3it [00:02,  1.33it/s]\u001b[A\n",
      "4it [00:02,  1.35it/s]\u001b[A\n",
      "5it [00:03,  1.36it/s]\u001b[A\n",
      "6it [00:04,  1.37it/s]\u001b[A\n",
      "7it [00:05,  1.38it/s]\u001b[A\n",
      "8it [00:05,  1.38it/s]\u001b[A\n",
      "9it [00:06,  1.39it/s]\u001b[A\n",
      "10it [00:07,  1.38it/s]\u001b[A\n",
      "11it [00:08,  1.39it/s]\u001b[A\n",
      "12it [00:08,  1.40it/s]\u001b[A\n",
      "13it [00:09,  1.39it/s]\u001b[A\n",
      "14it [00:10,  1.39it/s]\u001b[A\n",
      "15it [00:10,  1.38it/s]\u001b[A\n",
      "16it [00:11,  1.38it/s]\u001b[A\n",
      "17it [00:12,  1.38it/s]\u001b[A\n",
      "18it [00:13,  1.39it/s]\u001b[A\n",
      "19it [00:13,  1.40it/s]\u001b[A\n",
      "20it [00:14,  1.41it/s]\u001b[A\n",
      "21it [00:15,  1.41it/s]\u001b[A\n",
      "22it [00:15,  1.40it/s]\u001b[A\n",
      "23it [00:16,  1.40it/s]\u001b[A\n",
      "24it [00:17,  1.40it/s]\u001b[A\n",
      "25it [00:18,  1.41it/s]\u001b[A\n",
      "26it [00:18,  1.40it/s]\u001b[A\n",
      "27it [00:19,  1.37it/s]\u001b[A\n",
      "28it [00:20,  1.39it/s]\u001b[A\n",
      "29it [00:20,  1.40it/s]\u001b[A\n",
      " 40%|████      | 40/100 [15:03<22:30, 22.51s/it]"
     ]
    },
    {
     "name": "stdout",
     "output_type": "stream",
     "text": [
      "\n",
      "Validate: Average loss: 0.4701, Average Metric: 1.9085\n",
      "\n"
     ]
    },
    {
     "name": "stderr",
     "output_type": "stream",
     "text": [
      "\n",
      "0it [00:00, ?it/s]\u001b[A\n",
      "1it [00:00,  1.35it/s]\u001b[A"
     ]
    },
    {
     "name": "stdout",
     "output_type": "stream",
     "text": [
      "Train Epoch: 40 [0/57 (0%)]\tLoss: 0.281830\n"
     ]
    },
    {
     "name": "stderr",
     "output_type": "stream",
     "text": [
      "\n",
      "2it [00:01,  1.29it/s]\u001b[A\n",
      "3it [00:02,  1.34it/s]\u001b[A\n",
      "4it [00:02,  1.37it/s]\u001b[A\n",
      "5it [00:03,  1.38it/s]\u001b[A\n",
      "6it [00:04,  1.38it/s]\u001b[A\n",
      "7it [00:05,  1.38it/s]\u001b[A\n",
      "8it [00:05,  1.35it/s]\u001b[A\n",
      "9it [00:06,  1.38it/s]\u001b[A\n",
      "10it [00:07,  1.39it/s]\u001b[A\n",
      "11it [00:07,  1.40it/s]\u001b[A\n",
      "12it [00:08,  1.41it/s]\u001b[A\n",
      "13it [00:09,  1.41it/s]\u001b[A\n",
      "14it [00:10,  1.42it/s]\u001b[A\n",
      "15it [00:10,  1.42it/s]\u001b[A\n",
      "16it [00:11,  1.43it/s]\u001b[A\n",
      "17it [00:12,  1.41it/s]\u001b[A\n",
      "18it [00:12,  1.41it/s]\u001b[A\n",
      "19it [00:13,  1.39it/s]\u001b[A\n",
      "20it [00:14,  1.38it/s]\u001b[A\n",
      "21it [00:15,  1.37it/s]\u001b[A\n",
      "22it [00:15,  1.37it/s]\u001b[A\n",
      "23it [00:16,  1.38it/s]\u001b[A\n",
      "24it [00:17,  1.38it/s]\u001b[A\n",
      "25it [00:18,  1.38it/s]\u001b[A\n",
      "26it [00:18,  1.39it/s]\u001b[A\n",
      "27it [00:19,  1.39it/s]\u001b[A\n",
      "28it [00:20,  1.40it/s]\u001b[A\n",
      "29it [00:20,  1.40it/s]\u001b[A\n",
      " 41%|████      | 41/100 [15:26<22:09, 22.53s/it]"
     ]
    },
    {
     "name": "stdout",
     "output_type": "stream",
     "text": [
      "\n",
      "Validate: Average loss: 0.5629, Average Metric: 1.8984\n",
      "\n"
     ]
    },
    {
     "name": "stderr",
     "output_type": "stream",
     "text": [
      "\n",
      "0it [00:00, ?it/s]\u001b[A\n",
      "1it [00:00,  1.37it/s]\u001b[A"
     ]
    },
    {
     "name": "stdout",
     "output_type": "stream",
     "text": [
      "Train Epoch: 41 [0/57 (0%)]\tLoss: 0.420741\n"
     ]
    },
    {
     "name": "stderr",
     "output_type": "stream",
     "text": [
      "\n",
      "2it [00:01,  1.40it/s]\u001b[A\n",
      "3it [00:02,  1.40it/s]\u001b[A\n",
      "4it [00:02,  1.41it/s]\u001b[A\n",
      "5it [00:03,  1.41it/s]\u001b[A\n",
      "6it [00:04,  1.40it/s]\u001b[A\n",
      "7it [00:05,  1.37it/s]\u001b[A\n",
      "8it [00:05,  1.37it/s]\u001b[A\n",
      "9it [00:06,  1.35it/s]\u001b[A\n",
      "10it [00:07,  1.37it/s]\u001b[A\n",
      "11it [00:07,  1.38it/s]\u001b[A\n",
      "12it [00:08,  1.32it/s]\u001b[A\n",
      "13it [00:09,  1.34it/s]\u001b[A\n",
      "14it [00:10,  1.33it/s]\u001b[A\n",
      "15it [00:10,  1.36it/s]\u001b[A\n",
      "16it [00:11,  1.37it/s]\u001b[A\n",
      "17it [00:12,  1.39it/s]\u001b[A\n",
      "18it [00:13,  1.40it/s]\u001b[A\n",
      "19it [00:13,  1.40it/s]\u001b[A\n",
      "20it [00:14,  1.40it/s]\u001b[A\n",
      "21it [00:15,  1.41it/s]\u001b[A\n",
      "22it [00:15,  1.41it/s]\u001b[A\n",
      "23it [00:16,  1.39it/s]\u001b[A\n",
      "24it [00:17,  1.40it/s]\u001b[A\n",
      "25it [00:18,  1.36it/s]\u001b[A\n",
      "26it [00:18,  1.38it/s]\u001b[A\n",
      "27it [00:19,  1.39it/s]\u001b[A\n",
      "28it [00:20,  1.39it/s]\u001b[A\n",
      "29it [00:20,  1.40it/s]\u001b[A\n",
      " 42%|████▏     | 42/100 [15:48<21:47, 22.54s/it]"
     ]
    },
    {
     "name": "stdout",
     "output_type": "stream",
     "text": [
      "\n",
      "Validate: Average loss: 0.4187, Average Metric: 1.9070\n",
      "\n"
     ]
    },
    {
     "name": "stderr",
     "output_type": "stream",
     "text": [
      "\n",
      "0it [00:00, ?it/s]\u001b[A\n",
      "1it [00:00,  1.36it/s]\u001b[A"
     ]
    },
    {
     "name": "stdout",
     "output_type": "stream",
     "text": [
      "Train Epoch: 42 [0/57 (0%)]\tLoss: 0.288480\n"
     ]
    },
    {
     "name": "stderr",
     "output_type": "stream",
     "text": [
      "\n",
      "2it [00:01,  1.36it/s]\u001b[A\n",
      "3it [00:02,  1.33it/s]\u001b[A\n",
      "4it [00:02,  1.36it/s]\u001b[A\n",
      "5it [00:03,  1.37it/s]\u001b[A\n",
      "6it [00:04,  1.39it/s]\u001b[A\n",
      "7it [00:05,  1.39it/s]\u001b[A\n",
      "8it [00:05,  1.40it/s]\u001b[A\n",
      "9it [00:06,  1.39it/s]\u001b[A\n",
      "10it [00:07,  1.39it/s]\u001b[A\n",
      "11it [00:07,  1.39it/s]\u001b[A\n",
      "12it [00:08,  1.40it/s]\u001b[A\n",
      "13it [00:09,  1.41it/s]\u001b[A\n",
      "14it [00:10,  1.41it/s]\u001b[A\n",
      "15it [00:10,  1.41it/s]\u001b[A\n",
      "16it [00:11,  1.41it/s]\u001b[A\n",
      "17it [00:12,  1.40it/s]\u001b[A\n",
      "18it [00:12,  1.40it/s]\u001b[A\n",
      "19it [00:13,  1.39it/s]\u001b[A\n",
      "20it [00:14,  1.39it/s]\u001b[A\n",
      "21it [00:15,  1.40it/s]\u001b[A\n",
      "22it [00:15,  1.39it/s]\u001b[A\n",
      "23it [00:16,  1.35it/s]\u001b[A\n",
      "24it [00:17,  1.35it/s]\u001b[A\n",
      "25it [00:18,  1.37it/s]\u001b[A\n",
      "26it [00:18,  1.38it/s]\u001b[A\n",
      "27it [00:19,  1.39it/s]\u001b[A\n",
      "28it [00:20,  1.39it/s]\u001b[A\n",
      "29it [00:20,  1.40it/s]\u001b[A\n",
      " 43%|████▎     | 43/100 [16:11<21:27, 22.58s/it]"
     ]
    },
    {
     "name": "stdout",
     "output_type": "stream",
     "text": [
      "\n",
      "Validate: Average loss: 0.4283, Average Metric: 1.9098\n",
      "\n"
     ]
    },
    {
     "name": "stderr",
     "output_type": "stream",
     "text": [
      "\n",
      "0it [00:00, ?it/s]\u001b[A\n",
      "1it [00:00,  1.32it/s]\u001b[A"
     ]
    },
    {
     "name": "stdout",
     "output_type": "stream",
     "text": [
      "Train Epoch: 43 [0/57 (0%)]\tLoss: 0.345972\n"
     ]
    },
    {
     "name": "stderr",
     "output_type": "stream",
     "text": [
      "\n",
      "2it [00:01,  1.36it/s]\u001b[A\n",
      "3it [00:02,  1.36it/s]\u001b[A\n",
      "4it [00:02,  1.39it/s]\u001b[A\n",
      "5it [00:03,  1.39it/s]\u001b[A\n",
      "6it [00:04,  1.38it/s]\u001b[A\n",
      "7it [00:05,  1.39it/s]\u001b[A\n",
      "8it [00:05,  1.40it/s]\u001b[A\n",
      "9it [00:06,  1.42it/s]\u001b[A\n",
      "10it [00:07,  1.42it/s]\u001b[A\n",
      "11it [00:07,  1.42it/s]\u001b[A\n",
      "12it [00:08,  1.42it/s]\u001b[A\n",
      "13it [00:09,  1.41it/s]\u001b[A\n",
      "14it [00:10,  1.39it/s]\u001b[A\n",
      "15it [00:10,  1.40it/s]\u001b[A\n",
      "16it [00:11,  1.41it/s]\u001b[A\n",
      "17it [00:12,  1.41it/s]\u001b[A\n",
      "18it [00:12,  1.41it/s]\u001b[A\n",
      "19it [00:13,  1.39it/s]\u001b[A\n",
      "20it [00:14,  1.39it/s]\u001b[A\n",
      "21it [00:15,  1.39it/s]\u001b[A\n",
      "22it [00:15,  1.40it/s]\u001b[A\n",
      "23it [00:16,  1.40it/s]\u001b[A\n",
      "24it [00:17,  1.38it/s]\u001b[A\n",
      "25it [00:17,  1.39it/s]\u001b[A\n",
      "26it [00:18,  1.40it/s]\u001b[A\n",
      "27it [00:19,  1.40it/s]\u001b[A\n",
      "28it [00:20,  1.40it/s]\u001b[A\n",
      "29it [00:20,  1.41it/s]\u001b[A\n",
      " 44%|████▍     | 44/100 [16:33<21:04, 22.57s/it]"
     ]
    },
    {
     "name": "stdout",
     "output_type": "stream",
     "text": [
      "\n",
      "Validate: Average loss: 0.4353, Average Metric: 1.9108\n",
      "\n"
     ]
    },
    {
     "name": "stderr",
     "output_type": "stream",
     "text": [
      "\n",
      "0it [00:00, ?it/s]\u001b[A\n",
      "1it [00:00,  1.34it/s]\u001b[A"
     ]
    },
    {
     "name": "stdout",
     "output_type": "stream",
     "text": [
      "Train Epoch: 44 [0/57 (0%)]\tLoss: 0.295374\n"
     ]
    },
    {
     "name": "stderr",
     "output_type": "stream",
     "text": [
      "\n",
      "2it [00:01,  1.34it/s]\u001b[A\n",
      "3it [00:02,  1.35it/s]\u001b[A\n",
      "4it [00:02,  1.38it/s]\u001b[A\n",
      "5it [00:03,  1.37it/s]\u001b[A\n",
      "6it [00:04,  1.39it/s]\u001b[A\n",
      "7it [00:05,  1.40it/s]\u001b[A\n",
      "8it [00:05,  1.40it/s]\u001b[A\n",
      "9it [00:06,  1.40it/s]\u001b[A\n",
      "10it [00:07,  1.41it/s]\u001b[A\n",
      "11it [00:07,  1.40it/s]\u001b[A\n",
      "12it [00:08,  1.39it/s]\u001b[A\n",
      "13it [00:09,  1.37it/s]\u001b[A\n",
      "14it [00:10,  1.38it/s]\u001b[A\n",
      "15it [00:10,  1.39it/s]\u001b[A\n",
      "16it [00:11,  1.39it/s]\u001b[A\n",
      "17it [00:12,  1.39it/s]\u001b[A\n",
      "18it [00:12,  1.39it/s]\u001b[A\n",
      "19it [00:13,  1.40it/s]\u001b[A\n",
      "20it [00:14,  1.40it/s]\u001b[A\n",
      "21it [00:15,  1.41it/s]\u001b[A\n",
      "22it [00:15,  1.40it/s]\u001b[A\n",
      "23it [00:16,  1.40it/s]\u001b[A\n",
      "24it [00:17,  1.41it/s]\u001b[A\n",
      "25it [00:17,  1.39it/s]\u001b[A\n",
      "26it [00:18,  1.40it/s]\u001b[A\n",
      "27it [00:19,  1.40it/s]\u001b[A\n",
      "28it [00:20,  1.41it/s]\u001b[A\n",
      "29it [00:20,  1.41it/s]\u001b[A\n",
      " 45%|████▌     | 45/100 [16:56<20:39, 22.53s/it]"
     ]
    },
    {
     "name": "stdout",
     "output_type": "stream",
     "text": [
      "\n",
      "Validate: Average loss: 0.4773, Average Metric: 1.9064\n",
      "\n"
     ]
    },
    {
     "name": "stderr",
     "output_type": "stream",
     "text": [
      "\n",
      "0it [00:00, ?it/s]\u001b[A\n",
      "1it [00:00,  1.40it/s]\u001b[A"
     ]
    },
    {
     "name": "stdout",
     "output_type": "stream",
     "text": [
      "Train Epoch: 45 [0/57 (0%)]\tLoss: 0.399135\n"
     ]
    },
    {
     "name": "stderr",
     "output_type": "stream",
     "text": [
      "\n",
      "2it [00:01,  1.39it/s]\u001b[A\n",
      "3it [00:02,  1.40it/s]\u001b[A\n",
      "4it [00:02,  1.38it/s]\u001b[A\n",
      "5it [00:03,  1.39it/s]\u001b[A\n",
      "6it [00:04,  1.40it/s]\u001b[A\n",
      "7it [00:05,  1.41it/s]\u001b[A\n",
      "8it [00:05,  1.41it/s]\u001b[A\n",
      "9it [00:06,  1.41it/s]\u001b[A\n",
      "10it [00:07,  1.39it/s]\u001b[A\n",
      "11it [00:07,  1.40it/s]\u001b[A\n",
      "12it [00:08,  1.39it/s]\u001b[A\n",
      "13it [00:09,  1.39it/s]\u001b[A\n",
      "14it [00:10,  1.39it/s]\u001b[A\n",
      "15it [00:10,  1.38it/s]\u001b[A\n",
      "16it [00:11,  1.37it/s]\u001b[A\n",
      "17it [00:12,  1.36it/s]\u001b[A\n",
      "18it [00:12,  1.38it/s]\u001b[A\n",
      "19it [00:13,  1.39it/s]\u001b[A\n",
      "20it [00:14,  1.40it/s]\u001b[A\n",
      "21it [00:15,  1.40it/s]\u001b[A\n",
      "22it [00:15,  1.40it/s]\u001b[A\n",
      "23it [00:16,  1.38it/s]\u001b[A\n",
      "24it [00:17,  1.38it/s]\u001b[A\n",
      "25it [00:17,  1.38it/s]\u001b[A\n",
      "26it [00:18,  1.38it/s]\u001b[A\n",
      "27it [00:19,  1.39it/s]\u001b[A\n",
      "28it [00:20,  1.40it/s]\u001b[A\n",
      "29it [00:20,  1.41it/s]\u001b[A\n",
      " 46%|████▌     | 46/100 [17:18<20:15, 22.51s/it]"
     ]
    },
    {
     "name": "stdout",
     "output_type": "stream",
     "text": [
      "\n",
      "Validate: Average loss: 0.4936, Average Metric: 1.9101\n",
      "\n"
     ]
    },
    {
     "name": "stderr",
     "output_type": "stream",
     "text": [
      "\n",
      "0it [00:00, ?it/s]\u001b[A\n",
      "1it [00:00,  1.40it/s]\u001b[A"
     ]
    },
    {
     "name": "stdout",
     "output_type": "stream",
     "text": [
      "Train Epoch: 46 [0/57 (0%)]\tLoss: 0.312266\n"
     ]
    },
    {
     "name": "stderr",
     "output_type": "stream",
     "text": [
      "\n",
      "2it [00:01,  1.39it/s]\u001b[A\n",
      "3it [00:02,  1.39it/s]\u001b[A\n",
      "4it [00:02,  1.40it/s]\u001b[A\n",
      "5it [00:03,  1.40it/s]\u001b[A\n",
      "6it [00:04,  1.41it/s]\u001b[A\n",
      "7it [00:05,  1.39it/s]\u001b[A\n",
      "8it [00:05,  1.40it/s]\u001b[A\n",
      "9it [00:06,  1.39it/s]\u001b[A\n",
      "10it [00:07,  1.39it/s]\u001b[A\n",
      "11it [00:07,  1.39it/s]\u001b[A\n",
      "12it [00:08,  1.40it/s]\u001b[A\n",
      "13it [00:09,  1.41it/s]\u001b[A\n",
      "14it [00:09,  1.41it/s]\u001b[A\n",
      "15it [00:10,  1.41it/s]\u001b[A\n",
      "16it [00:11,  1.41it/s]\u001b[A\n",
      "17it [00:12,  1.40it/s]\u001b[A\n",
      "18it [00:12,  1.40it/s]\u001b[A\n",
      "19it [00:13,  1.39it/s]\u001b[A\n",
      "20it [00:14,  1.40it/s]\u001b[A\n",
      "21it [00:14,  1.40it/s]\u001b[A\n",
      "22it [00:15,  1.41it/s]\u001b[A\n",
      "23it [00:16,  1.41it/s]\u001b[A\n",
      "24it [00:17,  1.39it/s]\u001b[A\n",
      "25it [00:17,  1.39it/s]\u001b[A\n",
      "26it [00:18,  1.39it/s]\u001b[A\n",
      "27it [00:19,  1.36it/s]\u001b[A\n",
      "28it [00:20,  1.37it/s]\u001b[A\n",
      "29it [00:20,  1.41it/s]\u001b[A\n",
      " 47%|████▋     | 47/100 [17:41<19:49, 22.45s/it]"
     ]
    },
    {
     "name": "stdout",
     "output_type": "stream",
     "text": [
      "\n",
      "Validate: Average loss: 0.4375, Average Metric: 1.9053\n",
      "\n"
     ]
    },
    {
     "name": "stderr",
     "output_type": "stream",
     "text": [
      "\n",
      "0it [00:00, ?it/s]\u001b[A\n",
      "1it [00:00,  1.39it/s]\u001b[A"
     ]
    },
    {
     "name": "stdout",
     "output_type": "stream",
     "text": [
      "Train Epoch: 47 [0/57 (0%)]\tLoss: 1.036002\n"
     ]
    },
    {
     "name": "stderr",
     "output_type": "stream",
     "text": [
      "\n",
      "2it [00:01,  1.40it/s]\u001b[A\n",
      "3it [00:02,  1.41it/s]\u001b[A\n",
      "4it [00:02,  1.41it/s]\u001b[A\n",
      "5it [00:03,  1.41it/s]\u001b[A\n",
      "6it [00:04,  1.37it/s]\u001b[A\n",
      "7it [00:05,  1.37it/s]\u001b[A\n",
      "8it [00:05,  1.37it/s]\u001b[A\n",
      "9it [00:06,  1.38it/s]\u001b[A\n",
      "10it [00:07,  1.39it/s]\u001b[A\n",
      "11it [00:07,  1.39it/s]\u001b[A\n",
      "12it [00:08,  1.39it/s]\u001b[A\n",
      "13it [00:09,  1.40it/s]\u001b[A\n",
      "14it [00:10,  1.36it/s]\u001b[A\n",
      "15it [00:10,  1.37it/s]\u001b[A\n",
      "16it [00:11,  1.38it/s]\u001b[A\n",
      "17it [00:12,  1.38it/s]\u001b[A\n",
      "18it [00:13,  1.37it/s]\u001b[A\n",
      "19it [00:13,  1.36it/s]\u001b[A\n",
      "20it [00:14,  1.37it/s]\u001b[A\n",
      "21it [00:15,  1.38it/s]\u001b[A\n",
      "22it [00:15,  1.39it/s]\u001b[A\n",
      "23it [00:16,  1.40it/s]\u001b[A\n",
      "24it [00:17,  1.40it/s]\u001b[A\n",
      "25it [00:18,  1.41it/s]\u001b[A\n",
      "26it [00:18,  1.41it/s]\u001b[A\n",
      "27it [00:19,  1.42it/s]\u001b[A\n",
      "28it [00:20,  1.39it/s]\u001b[A\n",
      "29it [00:20,  1.41it/s]\u001b[A\n",
      " 48%|████▊     | 48/100 [18:03<19:28, 22.47s/it]"
     ]
    },
    {
     "name": "stdout",
     "output_type": "stream",
     "text": [
      "\n",
      "Validate: Average loss: 0.4018, Average Metric: 1.9084\n",
      "\n"
     ]
    },
    {
     "name": "stderr",
     "output_type": "stream",
     "text": [
      "\n",
      "0it [00:00, ?it/s]\u001b[A\n",
      "1it [00:00,  1.38it/s]\u001b[A"
     ]
    },
    {
     "name": "stdout",
     "output_type": "stream",
     "text": [
      "Train Epoch: 48 [0/57 (0%)]\tLoss: 0.281247\n"
     ]
    },
    {
     "name": "stderr",
     "output_type": "stream",
     "text": [
      "\n",
      "2it [00:01,  1.41it/s]\u001b[A\n",
      "3it [00:02,  1.40it/s]\u001b[A\n",
      "4it [00:02,  1.40it/s]\u001b[A\n",
      "5it [00:03,  1.40it/s]\u001b[A\n",
      "6it [00:04,  1.40it/s]\u001b[A\n",
      "7it [00:05,  1.40it/s]\u001b[A\n",
      "8it [00:05,  1.40it/s]\u001b[A\n",
      "9it [00:06,  1.38it/s]\u001b[A\n",
      "10it [00:07,  1.35it/s]\u001b[A\n",
      "11it [00:07,  1.37it/s]\u001b[A\n",
      "12it [00:08,  1.39it/s]\u001b[A\n",
      "13it [00:09,  1.39it/s]\u001b[A\n",
      "14it [00:10,  1.39it/s]\u001b[A\n",
      "15it [00:10,  1.33it/s]\u001b[A\n",
      "16it [00:11,  1.35it/s]\u001b[A\n",
      "17it [00:12,  1.36it/s]\u001b[A\n",
      "18it [00:13,  1.37it/s]\u001b[A\n",
      "19it [00:13,  1.38it/s]\u001b[A\n",
      "20it [00:14,  1.40it/s]\u001b[A\n",
      "21it [00:15,  1.40it/s]\u001b[A\n",
      "22it [00:15,  1.41it/s]\u001b[A\n",
      "23it [00:16,  1.41it/s]\u001b[A\n",
      "24it [00:17,  1.40it/s]\u001b[A\n",
      "25it [00:18,  1.40it/s]\u001b[A\n",
      "26it [00:18,  1.40it/s]\u001b[A\n",
      "27it [00:19,  1.40it/s]\u001b[A\n",
      "28it [00:20,  1.41it/s]\u001b[A\n",
      "29it [00:20,  1.41it/s]\u001b[A\n",
      " 49%|████▉     | 49/100 [18:25<19:05, 22.46s/it]"
     ]
    },
    {
     "name": "stdout",
     "output_type": "stream",
     "text": [
      "\n",
      "Validate: Average loss: 0.3951, Average Metric: 1.9067\n",
      "\n"
     ]
    },
    {
     "name": "stderr",
     "output_type": "stream",
     "text": [
      "\n",
      "0it [00:00, ?it/s]\u001b[A\n",
      "1it [00:00,  1.40it/s]\u001b[A"
     ]
    },
    {
     "name": "stdout",
     "output_type": "stream",
     "text": [
      "Train Epoch: 49 [0/57 (0%)]\tLoss: 0.705656\n"
     ]
    },
    {
     "name": "stderr",
     "output_type": "stream",
     "text": [
      "\n",
      "2it [00:01,  1.41it/s]\u001b[A\n",
      "3it [00:02,  1.41it/s]\u001b[A\n",
      "4it [00:02,  1.38it/s]\u001b[A\n",
      "5it [00:03,  1.39it/s]\u001b[A\n",
      "6it [00:04,  1.39it/s]\u001b[A\n",
      "7it [00:05,  1.40it/s]\u001b[A\n",
      "8it [00:05,  1.40it/s]\u001b[A\n",
      "9it [00:06,  1.41it/s]\u001b[A\n",
      "10it [00:07,  1.42it/s]\u001b[A\n",
      "11it [00:07,  1.41it/s]\u001b[A\n",
      "12it [00:08,  1.41it/s]\u001b[A\n",
      "13it [00:09,  1.42it/s]\u001b[A\n",
      "14it [00:09,  1.42it/s]\u001b[A\n",
      "15it [00:10,  1.41it/s]\u001b[A\n",
      "16it [00:11,  1.41it/s]\u001b[A\n",
      "17it [00:12,  1.41it/s]\u001b[A\n",
      "18it [00:12,  1.39it/s]\u001b[A\n",
      "19it [00:13,  1.35it/s]\u001b[A\n",
      "20it [00:14,  1.35it/s]\u001b[A\n",
      "21it [00:15,  1.35it/s]\u001b[A\n",
      "22it [00:15,  1.36it/s]\u001b[A\n",
      "23it [00:16,  1.37it/s]\u001b[A\n",
      "24it [00:17,  1.38it/s]\u001b[A\n",
      "25it [00:17,  1.39it/s]\u001b[A\n",
      "26it [00:18,  1.40it/s]\u001b[A\n",
      "27it [00:19,  1.40it/s]\u001b[A\n",
      "28it [00:20,  1.40it/s]\u001b[A\n",
      "29it [00:20,  1.41it/s]\u001b[A\n",
      " 50%|█████     | 50/100 [18:48<18:41, 22.42s/it]"
     ]
    },
    {
     "name": "stdout",
     "output_type": "stream",
     "text": [
      "\n",
      "Validate: Average loss: 0.4214, Average Metric: 1.9078\n",
      "\n"
     ]
    },
    {
     "name": "stderr",
     "output_type": "stream",
     "text": [
      "\n",
      "0it [00:00, ?it/s]\u001b[A\n",
      "1it [00:00,  1.39it/s]\u001b[A"
     ]
    },
    {
     "name": "stdout",
     "output_type": "stream",
     "text": [
      "Train Epoch: 50 [0/57 (0%)]\tLoss: 0.393559\n"
     ]
    },
    {
     "name": "stderr",
     "output_type": "stream",
     "text": [
      "\n",
      "2it [00:01,  1.41it/s]\u001b[A\n",
      "3it [00:02,  1.38it/s]\u001b[A\n",
      "4it [00:02,  1.40it/s]\u001b[A\n",
      "5it [00:03,  1.41it/s]\u001b[A\n",
      "6it [00:04,  1.41it/s]\u001b[A\n",
      "7it [00:04,  1.41it/s]\u001b[A\n",
      "8it [00:05,  1.41it/s]\u001b[A\n",
      "9it [00:06,  1.41it/s]\u001b[A\n",
      "10it [00:07,  1.41it/s]\u001b[A\n",
      "11it [00:07,  1.39it/s]\u001b[A\n",
      "12it [00:08,  1.38it/s]\u001b[A\n",
      "13it [00:09,  1.36it/s]\u001b[A\n",
      "14it [00:10,  1.38it/s]\u001b[A\n",
      "15it [00:10,  1.38it/s]\u001b[A\n",
      "16it [00:11,  1.35it/s]\u001b[A\n",
      "17it [00:12,  1.37it/s]\u001b[A\n",
      "18it [00:12,  1.38it/s]\u001b[A\n",
      "19it [00:13,  1.37it/s]\u001b[A\n",
      "20it [00:14,  1.37it/s]\u001b[A\n",
      "21it [00:15,  1.38it/s]\u001b[A\n",
      "22it [00:15,  1.38it/s]\u001b[A\n",
      "23it [00:16,  1.39it/s]\u001b[A\n",
      "24it [00:17,  1.40it/s]\u001b[A\n",
      "25it [00:17,  1.40it/s]\u001b[A\n",
      "26it [00:18,  1.41it/s]\u001b[A\n",
      "27it [00:19,  1.41it/s]\u001b[A\n",
      "28it [00:20,  1.41it/s]\u001b[A\n",
      "29it [00:20,  1.41it/s]\u001b[A\n",
      " 51%|█████     | 51/100 [19:10<18:20, 22.45s/it]"
     ]
    },
    {
     "name": "stdout",
     "output_type": "stream",
     "text": [
      "\n",
      "Validate: Average loss: 0.4456, Average Metric: 1.9063\n",
      "\n"
     ]
    },
    {
     "name": "stderr",
     "output_type": "stream",
     "text": [
      "\n",
      "0it [00:00, ?it/s]\u001b[A\n",
      "1it [00:00,  1.40it/s]\u001b[A"
     ]
    },
    {
     "name": "stdout",
     "output_type": "stream",
     "text": [
      "Train Epoch: 51 [0/57 (0%)]\tLoss: 0.247764\n"
     ]
    },
    {
     "name": "stderr",
     "output_type": "stream",
     "text": [
      "\n",
      "2it [00:01,  1.37it/s]\u001b[A\n",
      "3it [00:02,  1.38it/s]\u001b[A\n",
      "4it [00:02,  1.39it/s]\u001b[A\n",
      "5it [00:03,  1.40it/s]\u001b[A\n",
      "6it [00:04,  1.40it/s]\u001b[A\n",
      "7it [00:05,  1.40it/s]\u001b[A\n",
      "8it [00:05,  1.38it/s]\u001b[A\n",
      "9it [00:06,  1.39it/s]\u001b[A\n",
      "10it [00:07,  1.39it/s]\u001b[A\n",
      "11it [00:07,  1.35it/s]\u001b[A\n",
      "12it [00:08,  1.36it/s]\u001b[A\n",
      "13it [00:09,  1.37it/s]\u001b[A\n",
      "14it [00:10,  1.39it/s]\u001b[A\n",
      "15it [00:10,  1.39it/s]\u001b[A\n",
      "16it [00:11,  1.40it/s]\u001b[A\n",
      "17it [00:12,  1.39it/s]\u001b[A\n",
      "18it [00:12,  1.40it/s]\u001b[A\n",
      "19it [00:13,  1.40it/s]\u001b[A\n",
      "20it [00:14,  1.41it/s]\u001b[A\n",
      "21it [00:15,  1.41it/s]\u001b[A\n",
      "22it [00:15,  1.39it/s]\u001b[A\n",
      "23it [00:16,  1.37it/s]\u001b[A\n",
      "24it [00:17,  1.38it/s]\u001b[A\n",
      "25it [00:18,  1.38it/s]\u001b[A\n",
      "26it [00:18,  1.39it/s]\u001b[A\n",
      "27it [00:19,  1.39it/s]\u001b[A\n",
      "28it [00:20,  1.40it/s]\u001b[A\n",
      "29it [00:20,  1.41it/s]\u001b[A\n",
      " 52%|█████▏    | 52/100 [19:33<17:57, 22.45s/it]"
     ]
    },
    {
     "name": "stdout",
     "output_type": "stream",
     "text": [
      "\n",
      "Validate: Average loss: 0.4081, Average Metric: 1.9092\n",
      "\n"
     ]
    },
    {
     "name": "stderr",
     "output_type": "stream",
     "text": [
      "\n",
      "0it [00:00, ?it/s]\u001b[A\n",
      "1it [00:00,  1.41it/s]\u001b[A"
     ]
    },
    {
     "name": "stdout",
     "output_type": "stream",
     "text": [
      "Train Epoch: 52 [0/57 (0%)]\tLoss: 0.585529\n"
     ]
    },
    {
     "name": "stderr",
     "output_type": "stream",
     "text": [
      "\n",
      "2it [00:01,  1.42it/s]\u001b[A\n",
      "3it [00:02,  1.39it/s]\u001b[A\n",
      "4it [00:02,  1.40it/s]\u001b[A\n",
      "5it [00:03,  1.38it/s]\u001b[A\n",
      "6it [00:04,  1.38it/s]\u001b[A\n",
      "7it [00:05,  1.39it/s]\u001b[A\n",
      "8it [00:05,  1.40it/s]\u001b[A\n",
      "9it [00:06,  1.40it/s]\u001b[A\n",
      "10it [00:07,  1.41it/s]\u001b[A\n",
      "11it [00:07,  1.41it/s]\u001b[A\n",
      "12it [00:08,  1.40it/s]\u001b[A\n",
      "13it [00:09,  1.38it/s]\u001b[A\n",
      "14it [00:10,  1.38it/s]\u001b[A\n",
      "15it [00:10,  1.39it/s]\u001b[A\n",
      "16it [00:11,  1.40it/s]\u001b[A\n",
      "17it [00:12,  1.41it/s]\u001b[A\n",
      "18it [00:12,  1.42it/s]\u001b[A\n",
      "19it [00:13,  1.41it/s]\u001b[A\n",
      "20it [00:14,  1.41it/s]\u001b[A\n",
      "21it [00:15,  1.40it/s]\u001b[A\n",
      "22it [00:15,  1.41it/s]\u001b[A\n",
      "23it [00:16,  1.41it/s]\u001b[A\n",
      "24it [00:17,  1.42it/s]\u001b[A\n",
      "25it [00:17,  1.42it/s]\u001b[A\n",
      "26it [00:18,  1.42it/s]\u001b[A\n",
      "27it [00:19,  1.41it/s]\u001b[A\n",
      "28it [00:19,  1.40it/s]\u001b[A\n",
      "29it [00:20,  1.42it/s]\u001b[A\n",
      " 53%|█████▎    | 53/100 [19:55<17:32, 22.38s/it]"
     ]
    },
    {
     "name": "stdout",
     "output_type": "stream",
     "text": [
      "\n",
      "Validate: Average loss: 0.3983, Average Metric: 1.9098\n",
      "\n"
     ]
    },
    {
     "name": "stderr",
     "output_type": "stream",
     "text": [
      "\n",
      "0it [00:00, ?it/s]\u001b[A\n",
      "1it [00:00,  1.41it/s]\u001b[A"
     ]
    },
    {
     "name": "stdout",
     "output_type": "stream",
     "text": [
      "Train Epoch: 53 [0/57 (0%)]\tLoss: 0.427577\n"
     ]
    },
    {
     "name": "stderr",
     "output_type": "stream",
     "text": [
      "\n",
      "2it [00:01,  1.42it/s]\u001b[A\n",
      "3it [00:02,  1.38it/s]\u001b[A\n",
      "4it [00:02,  1.38it/s]\u001b[A\n",
      "5it [00:03,  1.35it/s]\u001b[A\n",
      "6it [00:04,  1.37it/s]\u001b[A\n",
      "7it [00:05,  1.36it/s]\u001b[A\n",
      "8it [00:05,  1.37it/s]\u001b[A\n",
      "9it [00:06,  1.32it/s]\u001b[A\n",
      "10it [00:07,  1.33it/s]\u001b[A\n",
      "11it [00:08,  1.32it/s]\u001b[A\n",
      "12it [00:08,  1.34it/s]\u001b[A\n",
      "13it [00:09,  1.35it/s]\u001b[A\n",
      "14it [00:10,  1.36it/s]\u001b[A\n",
      "15it [00:11,  1.38it/s]\u001b[A\n",
      "16it [00:11,  1.39it/s]\u001b[A\n",
      "17it [00:12,  1.39it/s]\u001b[A\n",
      "18it [00:13,  1.40it/s]\u001b[A\n",
      "19it [00:13,  1.41it/s]\u001b[A\n",
      "20it [00:14,  1.41it/s]\u001b[A\n",
      "21it [00:15,  1.40it/s]\u001b[A\n",
      "22it [00:15,  1.40it/s]\u001b[A\n",
      "23it [00:16,  1.40it/s]\u001b[A\n",
      "24it [00:17,  1.38it/s]\u001b[A\n",
      "25it [00:18,  1.37it/s]\u001b[A\n",
      "26it [00:18,  1.38it/s]\u001b[A\n",
      "27it [00:19,  1.40it/s]\u001b[A\n",
      "28it [00:20,  1.40it/s]\u001b[A\n",
      "29it [00:20,  1.40it/s]\u001b[A\n",
      " 54%|█████▍    | 54/100 [20:18<17:12, 22.46s/it]"
     ]
    },
    {
     "name": "stdout",
     "output_type": "stream",
     "text": [
      "\n",
      "Validate: Average loss: 0.4974, Average Metric: 1.9079\n",
      "\n"
     ]
    },
    {
     "name": "stderr",
     "output_type": "stream",
     "text": [
      "\n",
      "0it [00:00, ?it/s]\u001b[A\n",
      "1it [00:00,  1.37it/s]\u001b[A"
     ]
    },
    {
     "name": "stdout",
     "output_type": "stream",
     "text": [
      "Train Epoch: 54 [0/57 (0%)]\tLoss: 0.289336\n"
     ]
    },
    {
     "name": "stderr",
     "output_type": "stream",
     "text": [
      "\n",
      "2it [00:01,  1.39it/s]\u001b[A\n",
      "3it [00:02,  1.39it/s]\u001b[A\n",
      "4it [00:02,  1.38it/s]\u001b[A\n",
      "5it [00:03,  1.38it/s]\u001b[A\n",
      "6it [00:04,  1.38it/s]\u001b[A\n",
      "7it [00:05,  1.40it/s]\u001b[A\n",
      "8it [00:05,  1.40it/s]\u001b[A\n",
      "9it [00:06,  1.40it/s]\u001b[A\n",
      "10it [00:07,  1.41it/s]\u001b[A\n",
      "11it [00:07,  1.42it/s]\u001b[A\n",
      "12it [00:08,  1.42it/s]\u001b[A\n",
      "13it [00:09,  1.42it/s]\u001b[A\n",
      "14it [00:09,  1.41it/s]\u001b[A\n",
      "15it [00:10,  1.36it/s]\u001b[A\n",
      "16it [00:11,  1.38it/s]\u001b[A\n",
      "17it [00:12,  1.40it/s]\u001b[A\n",
      "18it [00:12,  1.40it/s]\u001b[A\n",
      "19it [00:13,  1.40it/s]\u001b[A\n",
      "20it [00:14,  1.39it/s]\u001b[A\n",
      "21it [00:15,  1.40it/s]\u001b[A\n",
      "22it [00:15,  1.39it/s]\u001b[A\n",
      "23it [00:16,  1.40it/s]\u001b[A\n",
      "24it [00:17,  1.41it/s]\u001b[A\n",
      "25it [00:17,  1.41it/s]\u001b[A\n",
      "26it [00:18,  1.42it/s]\u001b[A\n",
      "27it [00:19,  1.42it/s]\u001b[A\n",
      "28it [00:19,  1.42it/s]\u001b[A\n",
      "29it [00:20,  1.42it/s]\u001b[A\n",
      " 55%|█████▌    | 55/100 [20:40<16:48, 22.42s/it]"
     ]
    },
    {
     "name": "stdout",
     "output_type": "stream",
     "text": [
      "\n",
      "Validate: Average loss: 0.4362, Average Metric: 1.9085\n",
      "\n"
     ]
    },
    {
     "name": "stderr",
     "output_type": "stream",
     "text": [
      "\n",
      "0it [00:00, ?it/s]\u001b[A\n",
      "1it [00:00,  1.41it/s]\u001b[A"
     ]
    },
    {
     "name": "stdout",
     "output_type": "stream",
     "text": [
      "Train Epoch: 55 [0/57 (0%)]\tLoss: 1.131633\n"
     ]
    },
    {
     "name": "stderr",
     "output_type": "stream",
     "text": [
      "\n",
      "2it [00:01,  1.41it/s]\u001b[A\n",
      "3it [00:02,  1.40it/s]\u001b[A\n",
      "4it [00:02,  1.40it/s]\u001b[A\n",
      "5it [00:03,  1.40it/s]\u001b[A\n",
      "6it [00:04,  1.38it/s]\u001b[A\n",
      "7it [00:05,  1.38it/s]\u001b[A\n",
      "8it [00:05,  1.37it/s]\u001b[A\n",
      "9it [00:06,  1.38it/s]\u001b[A\n",
      "10it [00:07,  1.38it/s]\u001b[A\n",
      "11it [00:07,  1.39it/s]\u001b[A\n",
      "12it [00:08,  1.40it/s]\u001b[A\n",
      "13it [00:09,  1.39it/s]\u001b[A\n",
      "14it [00:10,  1.40it/s]\u001b[A\n",
      "15it [00:10,  1.40it/s]\u001b[A\n",
      "16it [00:11,  1.41it/s]\u001b[A\n",
      "17it [00:12,  1.41it/s]\u001b[A\n",
      "18it [00:12,  1.41it/s]\u001b[A\n",
      "19it [00:13,  1.41it/s]\u001b[A\n",
      "20it [00:14,  1.40it/s]\u001b[A\n",
      "21it [00:15,  1.40it/s]\u001b[A\n",
      "22it [00:15,  1.40it/s]\u001b[A\n",
      "23it [00:16,  1.40it/s]\u001b[A\n",
      "24it [00:17,  1.40it/s]\u001b[A\n",
      "25it [00:17,  1.40it/s]\u001b[A\n",
      "26it [00:18,  1.38it/s]\u001b[A\n",
      "27it [00:19,  1.38it/s]\u001b[A\n",
      "28it [00:20,  1.39it/s]\u001b[A\n",
      "29it [00:20,  1.41it/s]\u001b[A\n",
      " 56%|█████▌    | 56/100 [21:02<16:26, 22.41s/it]"
     ]
    },
    {
     "name": "stdout",
     "output_type": "stream",
     "text": [
      "\n",
      "Validate: Average loss: 0.4088, Average Metric: 1.9127\n",
      "\n"
     ]
    },
    {
     "name": "stderr",
     "output_type": "stream",
     "text": [
      "\n",
      "0it [00:00, ?it/s]\u001b[A\n",
      "1it [00:00,  1.40it/s]\u001b[A"
     ]
    },
    {
     "name": "stdout",
     "output_type": "stream",
     "text": [
      "Train Epoch: 56 [0/57 (0%)]\tLoss: 0.328887\n"
     ]
    },
    {
     "name": "stderr",
     "output_type": "stream",
     "text": [
      "\n",
      "2it [00:01,  1.42it/s]\u001b[A\n",
      "3it [00:02,  1.36it/s]\u001b[A\n",
      "4it [00:02,  1.39it/s]\u001b[A\n",
      "5it [00:03,  1.41it/s]\u001b[A\n",
      "6it [00:04,  1.41it/s]\u001b[A\n",
      "7it [00:04,  1.41it/s]\u001b[A\n",
      "8it [00:05,  1.40it/s]\u001b[A\n",
      "9it [00:06,  1.42it/s]\u001b[A\n",
      "10it [00:07,  1.41it/s]\u001b[A\n",
      "11it [00:07,  1.40it/s]\u001b[A\n",
      "12it [00:08,  1.40it/s]\u001b[A\n",
      "13it [00:09,  1.41it/s]\u001b[A\n",
      "14it [00:09,  1.41it/s]\u001b[A\n",
      "15it [00:10,  1.40it/s]\u001b[A\n",
      "16it [00:11,  1.40it/s]\u001b[A\n",
      "17it [00:12,  1.38it/s]\u001b[A\n",
      "18it [00:12,  1.38it/s]\u001b[A\n",
      "19it [00:13,  1.40it/s]\u001b[A\n",
      "20it [00:14,  1.41it/s]\u001b[A\n",
      "21it [00:14,  1.40it/s]\u001b[A\n",
      "22it [00:15,  1.40it/s]\u001b[A\n",
      "23it [00:16,  1.40it/s]\u001b[A\n",
      "24it [00:17,  1.40it/s]\u001b[A\n",
      "25it [00:17,  1.40it/s]\u001b[A\n",
      "26it [00:18,  1.40it/s]\u001b[A\n",
      "27it [00:19,  1.41it/s]\u001b[A\n",
      "28it [00:19,  1.41it/s]\u001b[A\n",
      "29it [00:20,  1.42it/s]\u001b[A\n",
      " 57%|█████▋    | 57/100 [21:25<16:02, 22.37s/it]"
     ]
    },
    {
     "name": "stdout",
     "output_type": "stream",
     "text": [
      "\n",
      "Validate: Average loss: 0.4375, Average Metric: 1.9044\n",
      "\n"
     ]
    },
    {
     "name": "stderr",
     "output_type": "stream",
     "text": [
      "\n",
      "0it [00:00, ?it/s]\u001b[A\n",
      "1it [00:00,  1.33it/s]\u001b[A"
     ]
    },
    {
     "name": "stdout",
     "output_type": "stream",
     "text": [
      "Train Epoch: 57 [0/57 (0%)]\tLoss: 0.306098\n"
     ]
    },
    {
     "name": "stderr",
     "output_type": "stream",
     "text": [
      "\n",
      "2it [00:01,  1.37it/s]\u001b[A\n",
      "3it [00:02,  1.38it/s]\u001b[A\n",
      "4it [00:02,  1.37it/s]\u001b[A\n",
      "5it [00:03,  1.35it/s]\u001b[A\n",
      "6it [00:04,  1.37it/s]\u001b[A\n",
      "7it [00:05,  1.37it/s]\u001b[A\n",
      "8it [00:05,  1.36it/s]\u001b[A\n",
      "9it [00:06,  1.37it/s]\u001b[A\n",
      "10it [00:07,  1.37it/s]\u001b[A\n",
      "11it [00:08,  1.38it/s]\u001b[A\n",
      "12it [00:08,  1.38it/s]\u001b[A\n",
      "13it [00:09,  1.39it/s]\u001b[A\n",
      "14it [00:10,  1.39it/s]\u001b[A\n",
      "15it [00:10,  1.39it/s]\u001b[A\n",
      "16it [00:11,  1.40it/s]\u001b[A\n",
      "17it [00:12,  1.41it/s]\u001b[A\n",
      "18it [00:13,  1.42it/s]\u001b[A\n",
      "19it [00:13,  1.41it/s]\u001b[A\n",
      "20it [00:14,  1.42it/s]\u001b[A\n",
      "21it [00:15,  1.42it/s]\u001b[A\n",
      "22it [00:15,  1.42it/s]\u001b[A\n",
      "23it [00:16,  1.38it/s]\u001b[A\n",
      "24it [00:17,  1.40it/s]\u001b[A\n",
      "25it [00:17,  1.40it/s]\u001b[A\n",
      "26it [00:18,  1.40it/s]\u001b[A\n",
      "27it [00:19,  1.39it/s]\u001b[A\n",
      "28it [00:20,  1.36it/s]\u001b[A\n",
      "29it [00:20,  1.40it/s]\u001b[A\n",
      " 58%|█████▊    | 58/100 [21:47<15:41, 22.42s/it]"
     ]
    },
    {
     "name": "stdout",
     "output_type": "stream",
     "text": [
      "\n",
      "Validate: Average loss: 0.3960, Average Metric: 1.9043\n",
      "\n"
     ]
    },
    {
     "name": "stderr",
     "output_type": "stream",
     "text": [
      "\n",
      "0it [00:00, ?it/s]\u001b[A\n",
      "1it [00:00,  1.40it/s]\u001b[A"
     ]
    },
    {
     "name": "stdout",
     "output_type": "stream",
     "text": [
      "Train Epoch: 58 [0/57 (0%)]\tLoss: 0.728187\n"
     ]
    },
    {
     "name": "stderr",
     "output_type": "stream",
     "text": [
      "\n",
      "2it [00:01,  1.41it/s]\u001b[A\n",
      "3it [00:02,  1.39it/s]\u001b[A\n",
      "4it [00:02,  1.41it/s]\u001b[A\n",
      "5it [00:03,  1.41it/s]\u001b[A\n",
      "6it [00:04,  1.41it/s]\u001b[A\n",
      "7it [00:04,  1.41it/s]\u001b[A\n",
      "8it [00:05,  1.42it/s]\u001b[A\n",
      "9it [00:06,  1.40it/s]\u001b[A\n",
      "10it [00:07,  1.40it/s]\u001b[A\n",
      "11it [00:07,  1.41it/s]\u001b[A\n",
      "12it [00:08,  1.41it/s]\u001b[A\n",
      "13it [00:09,  1.39it/s]\u001b[A\n",
      "14it [00:09,  1.40it/s]\u001b[A\n",
      "15it [00:10,  1.41it/s]\u001b[A\n",
      "16it [00:11,  1.41it/s]\u001b[A\n",
      "17it [00:12,  1.40it/s]\u001b[A\n",
      "18it [00:12,  1.40it/s]\u001b[A\n",
      "19it [00:13,  1.36it/s]\u001b[A\n",
      "20it [00:14,  1.33it/s]\u001b[A\n",
      "21it [00:15,  1.34it/s]\u001b[A\n",
      "22it [00:15,  1.36it/s]\u001b[A\n",
      "23it [00:16,  1.37it/s]\u001b[A\n",
      "24it [00:17,  1.36it/s]\u001b[A\n",
      "25it [00:17,  1.38it/s]\u001b[A\n",
      "26it [00:18,  1.39it/s]\u001b[A\n",
      "27it [00:19,  1.39it/s]\u001b[A\n",
      "28it [00:20,  1.40it/s]\u001b[A\n",
      "29it [00:20,  1.41it/s]\u001b[A\n",
      " 59%|█████▉    | 59/100 [22:10<15:19, 22.43s/it]"
     ]
    },
    {
     "name": "stdout",
     "output_type": "stream",
     "text": [
      "\n",
      "Validate: Average loss: 0.3695, Average Metric: 1.9079\n",
      "\n"
     ]
    },
    {
     "name": "stderr",
     "output_type": "stream",
     "text": [
      "\n",
      "0it [00:00, ?it/s]\u001b[A\n",
      "1it [00:00,  1.37it/s]\u001b[A"
     ]
    },
    {
     "name": "stdout",
     "output_type": "stream",
     "text": [
      "Train Epoch: 59 [0/57 (0%)]\tLoss: 0.452231\n"
     ]
    },
    {
     "name": "stderr",
     "output_type": "stream",
     "text": [
      "\n",
      "2it [00:01,  1.30it/s]\u001b[A\n",
      "3it [00:02,  1.35it/s]\u001b[A\n",
      "4it [00:02,  1.38it/s]\u001b[A\n",
      "5it [00:03,  1.39it/s]\u001b[A\n",
      "6it [00:04,  1.40it/s]\u001b[A\n",
      "7it [00:05,  1.40it/s]\u001b[A\n",
      "8it [00:05,  1.39it/s]\u001b[A\n",
      "9it [00:06,  1.40it/s]\u001b[A\n",
      "10it [00:07,  1.38it/s]\u001b[A\n",
      "11it [00:07,  1.39it/s]\u001b[A\n",
      "12it [00:08,  1.39it/s]\u001b[A\n",
      "13it [00:09,  1.37it/s]\u001b[A\n",
      "14it [00:10,  1.38it/s]\u001b[A\n",
      "15it [00:10,  1.39it/s]\u001b[A\n",
      "16it [00:11,  1.39it/s]\u001b[A\n",
      "17it [00:12,  1.40it/s]\u001b[A\n",
      "18it [00:12,  1.40it/s]\u001b[A\n",
      "19it [00:13,  1.40it/s]\u001b[A\n",
      "20it [00:14,  1.40it/s]\u001b[A\n",
      "21it [00:15,  1.40it/s]\u001b[A\n",
      "22it [00:15,  1.40it/s]\u001b[A\n",
      "23it [00:16,  1.40it/s]\u001b[A\n",
      "24it [00:17,  1.40it/s]\u001b[A\n",
      "25it [00:18,  1.39it/s]\u001b[A\n",
      "26it [00:18,  1.38it/s]\u001b[A\n",
      "27it [00:19,  1.39it/s]\u001b[A\n",
      "28it [00:20,  1.40it/s]\u001b[A\n",
      "29it [00:20,  1.41it/s]\u001b[A\n",
      " 60%|██████    | 60/100 [22:32<14:57, 22.44s/it]"
     ]
    },
    {
     "name": "stdout",
     "output_type": "stream",
     "text": [
      "\n",
      "Validate: Average loss: 0.3721, Average Metric: 1.9092\n",
      "\n"
     ]
    },
    {
     "name": "stderr",
     "output_type": "stream",
     "text": [
      "\n",
      "0it [00:00, ?it/s]\u001b[A\n",
      "1it [00:00,  1.31it/s]\u001b[A"
     ]
    },
    {
     "name": "stdout",
     "output_type": "stream",
     "text": [
      "Train Epoch: 60 [0/57 (0%)]\tLoss: 0.328679\n"
     ]
    },
    {
     "name": "stderr",
     "output_type": "stream",
     "text": [
      "\n",
      "2it [00:01,  1.36it/s]\u001b[A\n",
      "3it [00:02,  1.38it/s]\u001b[A\n",
      "4it [00:02,  1.40it/s]\u001b[A\n",
      "5it [00:03,  1.40it/s]\u001b[A\n",
      "6it [00:04,  1.41it/s]\u001b[A\n",
      "7it [00:05,  1.40it/s]\u001b[A\n",
      "8it [00:05,  1.36it/s]\u001b[A\n",
      "9it [00:06,  1.36it/s]\u001b[A\n",
      "10it [00:07,  1.36it/s]\u001b[A\n",
      "11it [00:07,  1.37it/s]\u001b[A\n",
      "12it [00:08,  1.39it/s]\u001b[A\n",
      "13it [00:09,  1.39it/s]\u001b[A\n",
      "14it [00:10,  1.40it/s]\u001b[A\n",
      "15it [00:10,  1.41it/s]\u001b[A\n",
      "16it [00:11,  1.41it/s]\u001b[A\n",
      "17it [00:12,  1.41it/s]\u001b[A\n",
      "18it [00:12,  1.41it/s]\u001b[A\n",
      "19it [00:13,  1.41it/s]\u001b[A\n",
      "20it [00:14,  1.42it/s]\u001b[A\n",
      "21it [00:15,  1.40it/s]\u001b[A\n",
      "22it [00:15,  1.40it/s]\u001b[A\n",
      "23it [00:16,  1.41it/s]\u001b[A\n",
      "24it [00:17,  1.41it/s]\u001b[A\n",
      "25it [00:17,  1.41it/s]\u001b[A\n",
      "26it [00:18,  1.42it/s]\u001b[A\n",
      "27it [00:19,  1.41it/s]\u001b[A\n",
      "28it [00:20,  1.40it/s]\u001b[A\n",
      "29it [00:20,  1.41it/s]\u001b[A\n",
      " 61%|██████    | 61/100 [22:55<14:37, 22.50s/it]"
     ]
    },
    {
     "name": "stdout",
     "output_type": "stream",
     "text": [
      "\n",
      "Validate: Average loss: 0.3489, Average Metric: 1.9074\n",
      "\n"
     ]
    },
    {
     "name": "stderr",
     "output_type": "stream",
     "text": [
      "\n",
      "0it [00:00, ?it/s]\u001b[A\n",
      "1it [00:00,  1.34it/s]\u001b[A"
     ]
    },
    {
     "name": "stdout",
     "output_type": "stream",
     "text": [
      "Train Epoch: 61 [0/57 (0%)]\tLoss: 0.361502\n"
     ]
    },
    {
     "name": "stderr",
     "output_type": "stream",
     "text": [
      "\n",
      "2it [00:01,  1.35it/s]\u001b[A\n",
      "3it [00:02,  1.36it/s]\u001b[A\n",
      "4it [00:02,  1.37it/s]\u001b[A\n",
      "5it [00:03,  1.37it/s]\u001b[A\n",
      "6it [00:04,  1.36it/s]\u001b[A\n",
      "7it [00:05,  1.37it/s]\u001b[A\n",
      "8it [00:05,  1.38it/s]\u001b[A\n",
      "9it [00:06,  1.36it/s]\u001b[A\n",
      "10it [00:07,  1.37it/s]\u001b[A\n",
      "11it [00:08,  1.38it/s]\u001b[A\n",
      "12it [00:08,  1.37it/s]\u001b[A\n",
      "13it [00:09,  1.39it/s]\u001b[A\n",
      "14it [00:10,  1.39it/s]\u001b[A\n",
      "15it [00:10,  1.39it/s]\u001b[A\n",
      "16it [00:11,  1.40it/s]\u001b[A\n",
      "17it [00:12,  1.40it/s]\u001b[A\n",
      "18it [00:13,  1.41it/s]\u001b[A\n",
      "19it [00:13,  1.39it/s]\u001b[A\n",
      "20it [00:14,  1.39it/s]\u001b[A\n",
      "21it [00:15,  1.40it/s]\u001b[A\n",
      "22it [00:15,  1.40it/s]\u001b[A\n",
      "23it [00:16,  1.39it/s]\u001b[A\n",
      "24it [00:17,  1.40it/s]\u001b[A\n",
      "25it [00:18,  1.40it/s]\u001b[A\n",
      "26it [00:18,  1.40it/s]\u001b[A\n",
      "27it [00:19,  1.40it/s]\u001b[A\n",
      "28it [00:20,  1.41it/s]\u001b[A\n",
      "29it [00:20,  1.41it/s]\u001b[A\n",
      " 62%|██████▏   | 62/100 [23:17<14:14, 22.49s/it]"
     ]
    },
    {
     "name": "stdout",
     "output_type": "stream",
     "text": [
      "\n",
      "Validate: Average loss: 0.3869, Average Metric: 1.9096\n",
      "\n"
     ]
    },
    {
     "name": "stderr",
     "output_type": "stream",
     "text": [
      "\n",
      "0it [00:00, ?it/s]\u001b[A\n",
      "1it [00:00,  1.39it/s]\u001b[A"
     ]
    },
    {
     "name": "stdout",
     "output_type": "stream",
     "text": [
      "Train Epoch: 62 [0/57 (0%)]\tLoss: 0.628988\n"
     ]
    },
    {
     "name": "stderr",
     "output_type": "stream",
     "text": [
      "\n",
      "2it [00:01,  1.41it/s]\u001b[A\n",
      "3it [00:02,  1.37it/s]\u001b[A\n",
      "4it [00:02,  1.38it/s]\u001b[A\n",
      "5it [00:03,  1.40it/s]\u001b[A\n",
      "6it [00:04,  1.41it/s]\u001b[A\n",
      "7it [00:05,  1.41it/s]\u001b[A\n",
      "8it [00:05,  1.42it/s]\u001b[A\n",
      "9it [00:06,  1.40it/s]\u001b[A\n",
      "10it [00:07,  1.41it/s]\u001b[A\n",
      "11it [00:07,  1.40it/s]\u001b[A\n",
      "12it [00:08,  1.40it/s]\u001b[A\n",
      "13it [00:09,  1.40it/s]\u001b[A\n",
      "14it [00:10,  1.40it/s]\u001b[A\n",
      "15it [00:10,  1.40it/s]\u001b[A\n",
      "16it [00:11,  1.40it/s]\u001b[A\n",
      "17it [00:12,  1.40it/s]\u001b[A\n",
      "18it [00:12,  1.38it/s]\u001b[A\n",
      "19it [00:13,  1.38it/s]\u001b[A\n",
      "20it [00:14,  1.39it/s]\u001b[A\n",
      "21it [00:15,  1.39it/s]\u001b[A\n",
      "22it [00:15,  1.39it/s]\u001b[A\n",
      "23it [00:16,  1.33it/s]\u001b[A\n",
      "24it [00:17,  1.35it/s]\u001b[A\n",
      "25it [00:18,  1.36it/s]\u001b[A\n",
      "26it [00:18,  1.37it/s]\u001b[A\n",
      "27it [00:19,  1.38it/s]\u001b[A\n",
      "28it [00:20,  1.39it/s]\u001b[A\n",
      "29it [00:20,  1.41it/s]\u001b[A\n",
      " 63%|██████▎   | 63/100 [23:40<13:52, 22.49s/it]"
     ]
    },
    {
     "name": "stdout",
     "output_type": "stream",
     "text": [
      "\n",
      "Validate: Average loss: 0.3526, Average Metric: 1.9086\n",
      "\n"
     ]
    },
    {
     "name": "stderr",
     "output_type": "stream",
     "text": [
      "\n",
      "0it [00:00, ?it/s]\u001b[A\n",
      "1it [00:00,  1.33it/s]\u001b[A"
     ]
    },
    {
     "name": "stdout",
     "output_type": "stream",
     "text": [
      "Train Epoch: 63 [0/57 (0%)]\tLoss: 0.222659\n"
     ]
    },
    {
     "name": "stderr",
     "output_type": "stream",
     "text": [
      "\n",
      "2it [00:01,  1.35it/s]\u001b[A\n",
      "3it [00:02,  1.35it/s]\u001b[A\n",
      "4it [00:02,  1.37it/s]\u001b[A\n",
      "5it [00:03,  1.38it/s]\u001b[A\n",
      "6it [00:04,  1.33it/s]\u001b[A\n",
      "7it [00:05,  1.35it/s]\u001b[A\n",
      "8it [00:05,  1.37it/s]\u001b[A\n",
      "9it [00:06,  1.38it/s]\u001b[A\n",
      "10it [00:07,  1.39it/s]\u001b[A\n",
      "11it [00:08,  1.40it/s]\u001b[A\n",
      "12it [00:08,  1.40it/s]\u001b[A\n",
      "13it [00:09,  1.41it/s]\u001b[A\n",
      "14it [00:10,  1.39it/s]\u001b[A\n",
      "15it [00:10,  1.39it/s]\u001b[A\n",
      "16it [00:11,  1.40it/s]\u001b[A\n",
      "17it [00:12,  1.40it/s]\u001b[A\n",
      "18it [00:13,  1.41it/s]\u001b[A\n",
      "19it [00:13,  1.41it/s]\u001b[A\n",
      "20it [00:14,  1.42it/s]\u001b[A\n",
      "21it [00:15,  1.41it/s]\u001b[A\n",
      "22it [00:15,  1.41it/s]\u001b[A\n",
      "23it [00:16,  1.41it/s]\u001b[A\n",
      "24it [00:17,  1.42it/s]\u001b[A\n",
      "25it [00:17,  1.42it/s]\u001b[A\n",
      "26it [00:18,  1.41it/s]\u001b[A\n",
      "27it [00:19,  1.41it/s]\u001b[A\n",
      "28it [00:20,  1.41it/s]\u001b[A\n",
      "29it [00:20,  1.41it/s]\u001b[A\n",
      " 64%|██████▍   | 64/100 [24:02<13:30, 22.51s/it]"
     ]
    },
    {
     "name": "stdout",
     "output_type": "stream",
     "text": [
      "\n",
      "Validate: Average loss: 0.3724, Average Metric: 1.9110\n",
      "\n"
     ]
    },
    {
     "name": "stderr",
     "output_type": "stream",
     "text": [
      "\n",
      "0it [00:00, ?it/s]\u001b[A\n",
      "1it [00:00,  1.33it/s]\u001b[A"
     ]
    },
    {
     "name": "stdout",
     "output_type": "stream",
     "text": [
      "Train Epoch: 64 [0/57 (0%)]\tLoss: 0.363947\n"
     ]
    },
    {
     "name": "stderr",
     "output_type": "stream",
     "text": [
      "\n",
      "2it [00:01,  1.35it/s]\u001b[A\n",
      "3it [00:02,  1.35it/s]\u001b[A\n",
      "4it [00:02,  1.38it/s]\u001b[A\n",
      "5it [00:03,  1.37it/s]\u001b[A\n",
      "6it [00:04,  1.38it/s]\u001b[A\n",
      "7it [00:05,  1.39it/s]\u001b[A\n",
      "8it [00:05,  1.40it/s]\u001b[A\n",
      "9it [00:06,  1.40it/s]\u001b[A\n",
      "10it [00:07,  1.34it/s]\u001b[A\n",
      "11it [00:08,  1.34it/s]\u001b[A\n",
      "12it [00:08,  1.36it/s]\u001b[A\n",
      "13it [00:09,  1.38it/s]\u001b[A\n",
      "14it [00:10,  1.39it/s]\u001b[A\n",
      "15it [00:10,  1.40it/s]\u001b[A\n",
      "16it [00:11,  1.40it/s]\u001b[A\n",
      "17it [00:12,  1.40it/s]\u001b[A\n",
      "18it [00:13,  1.38it/s]\u001b[A\n",
      "19it [00:13,  1.38it/s]\u001b[A\n",
      "20it [00:14,  1.37it/s]\u001b[A\n",
      "21it [00:15,  1.38it/s]\u001b[A\n",
      "22it [00:15,  1.37it/s]\u001b[A\n",
      "23it [00:16,  1.39it/s]\u001b[A\n",
      "24it [00:17,  1.38it/s]\u001b[A\n",
      "25it [00:18,  1.36it/s]\u001b[A\n",
      "26it [00:18,  1.38it/s]\u001b[A\n",
      "27it [00:19,  1.38it/s]\u001b[A\n",
      "28it [00:20,  1.39it/s]\u001b[A\n",
      "29it [00:20,  1.40it/s]\u001b[A\n",
      " 65%|██████▌   | 65/100 [24:25<13:10, 22.60s/it]"
     ]
    },
    {
     "name": "stdout",
     "output_type": "stream",
     "text": [
      "\n",
      "Validate: Average loss: 0.3904, Average Metric: 1.9105\n",
      "\n"
     ]
    },
    {
     "name": "stderr",
     "output_type": "stream",
     "text": [
      "\n",
      "0it [00:00, ?it/s]\u001b[A\n",
      "1it [00:00,  1.34it/s]\u001b[A"
     ]
    },
    {
     "name": "stdout",
     "output_type": "stream",
     "text": [
      "Train Epoch: 65 [0/57 (0%)]\tLoss: 0.446635\n"
     ]
    },
    {
     "name": "stderr",
     "output_type": "stream",
     "text": [
      "\n",
      "2it [00:01,  1.36it/s]\u001b[A\n",
      "3it [00:02,  1.37it/s]\u001b[A\n",
      "4it [00:02,  1.39it/s]\u001b[A\n",
      "5it [00:03,  1.40it/s]\u001b[A\n",
      "6it [00:04,  1.39it/s]\u001b[A\n",
      "7it [00:05,  1.36it/s]\u001b[A\n",
      "8it [00:05,  1.38it/s]\u001b[A\n",
      "9it [00:06,  1.39it/s]\u001b[A\n",
      "10it [00:07,  1.40it/s]\u001b[A\n",
      "11it [00:07,  1.41it/s]\u001b[A\n",
      "12it [00:08,  1.41it/s]\u001b[A\n",
      "13it [00:09,  1.41it/s]\u001b[A\n",
      "14it [00:10,  1.41it/s]\u001b[A\n",
      "15it [00:10,  1.41it/s]\u001b[A\n",
      "16it [00:11,  1.39it/s]\u001b[A\n",
      "17it [00:12,  1.40it/s]\u001b[A\n",
      "18it [00:12,  1.41it/s]\u001b[A\n",
      "19it [00:13,  1.41it/s]\u001b[A\n",
      "20it [00:14,  1.41it/s]\u001b[A\n",
      "21it [00:15,  1.41it/s]\u001b[A\n",
      "22it [00:15,  1.41it/s]\u001b[A\n",
      "23it [00:16,  1.41it/s]\u001b[A\n",
      "24it [00:17,  1.41it/s]\u001b[A\n",
      "25it [00:17,  1.40it/s]\u001b[A\n",
      "26it [00:18,  1.39it/s]\u001b[A\n",
      "27it [00:19,  1.39it/s]\u001b[A\n",
      "28it [00:20,  1.39it/s]\u001b[A\n",
      "29it [00:20,  1.41it/s]\u001b[A\n",
      " 66%|██████▌   | 66/100 [24:47<12:46, 22.53s/it]"
     ]
    },
    {
     "name": "stdout",
     "output_type": "stream",
     "text": [
      "\n",
      "Validate: Average loss: 0.3505, Average Metric: 1.9108\n",
      "\n"
     ]
    },
    {
     "name": "stderr",
     "output_type": "stream",
     "text": [
      "\n",
      "0it [00:00, ?it/s]\u001b[A\n",
      "1it [00:00,  1.39it/s]\u001b[A"
     ]
    },
    {
     "name": "stdout",
     "output_type": "stream",
     "text": [
      "Train Epoch: 66 [0/57 (0%)]\tLoss: 0.464955\n"
     ]
    },
    {
     "name": "stderr",
     "output_type": "stream",
     "text": [
      "\n",
      "2it [00:01,  1.39it/s]\u001b[A\n",
      "3it [00:02,  1.39it/s]\u001b[A\n",
      "4it [00:02,  1.39it/s]\u001b[A\n",
      "5it [00:03,  1.39it/s]\u001b[A\n",
      "6it [00:04,  1.39it/s]\u001b[A\n",
      "7it [00:05,  1.36it/s]\u001b[A\n",
      "8it [00:05,  1.38it/s]\u001b[A\n",
      "9it [00:06,  1.38it/s]\u001b[A\n",
      "10it [00:07,  1.39it/s]\u001b[A\n",
      "11it [00:07,  1.38it/s]\u001b[A\n",
      "12it [00:08,  1.39it/s]\u001b[A\n",
      "13it [00:09,  1.39it/s]\u001b[A\n",
      "14it [00:10,  1.39it/s]\u001b[A\n",
      "15it [00:10,  1.40it/s]\u001b[A\n",
      "16it [00:11,  1.41it/s]\u001b[A\n",
      "17it [00:12,  1.41it/s]\u001b[A\n",
      "18it [00:12,  1.41it/s]\u001b[A\n",
      "19it [00:13,  1.41it/s]\u001b[A\n",
      "20it [00:14,  1.40it/s]\u001b[A\n",
      "21it [00:15,  1.41it/s]\u001b[A\n",
      "22it [00:15,  1.41it/s]\u001b[A\n",
      "23it [00:16,  1.42it/s]\u001b[A\n",
      "24it [00:17,  1.42it/s]\u001b[A\n",
      "25it [00:17,  1.41it/s]\u001b[A\n",
      "26it [00:18,  1.42it/s]\u001b[A\n",
      "27it [00:19,  1.40it/s]\u001b[A\n",
      "28it [00:20,  1.40it/s]\u001b[A\n",
      "29it [00:20,  1.42it/s]\u001b[A\n",
      " 67%|██████▋   | 67/100 [25:10<12:20, 22.45s/it]"
     ]
    },
    {
     "name": "stdout",
     "output_type": "stream",
     "text": [
      "\n",
      "Validate: Average loss: 0.3690, Average Metric: 1.9081\n",
      "\n"
     ]
    },
    {
     "name": "stderr",
     "output_type": "stream",
     "text": [
      "\n",
      "0it [00:00, ?it/s]\u001b[A\n",
      "1it [00:00,  1.39it/s]\u001b[A"
     ]
    },
    {
     "name": "stdout",
     "output_type": "stream",
     "text": [
      "Train Epoch: 67 [0/57 (0%)]\tLoss: 0.230192\n"
     ]
    },
    {
     "name": "stderr",
     "output_type": "stream",
     "text": [
      "\n",
      "2it [00:01,  1.40it/s]\u001b[A\n",
      "3it [00:02,  1.40it/s]\u001b[A\n",
      "4it [00:02,  1.41it/s]\u001b[A\n",
      "5it [00:03,  1.41it/s]\u001b[A\n",
      "6it [00:04,  1.41it/s]\u001b[A\n",
      "7it [00:04,  1.41it/s]\u001b[A\n",
      "8it [00:05,  1.42it/s]\u001b[A\n",
      "9it [00:06,  1.42it/s]\u001b[A\n",
      "10it [00:07,  1.40it/s]\u001b[A\n",
      "11it [00:07,  1.41it/s]\u001b[A\n",
      "12it [00:08,  1.41it/s]\u001b[A\n",
      "13it [00:09,  1.42it/s]\u001b[A\n",
      "14it [00:09,  1.42it/s]\u001b[A\n",
      "15it [00:10,  1.41it/s]\u001b[A\n",
      "16it [00:11,  1.41it/s]\u001b[A\n",
      "17it [00:12,  1.42it/s]\u001b[A\n",
      "18it [00:12,  1.39it/s]\u001b[A\n",
      "19it [00:13,  1.40it/s]\u001b[A\n",
      "20it [00:14,  1.40it/s]\u001b[A\n",
      "21it [00:14,  1.41it/s]\u001b[A\n",
      "22it [00:15,  1.40it/s]\u001b[A\n",
      "23it [00:16,  1.40it/s]\u001b[A\n",
      "24it [00:17,  1.40it/s]\u001b[A\n",
      "25it [00:17,  1.40it/s]\u001b[A\n",
      "26it [00:18,  1.41it/s]\u001b[A\n",
      "27it [00:19,  1.41it/s]\u001b[A\n",
      "28it [00:19,  1.42it/s]\u001b[A\n",
      "29it [00:20,  1.43it/s]\u001b[A\n",
      " 68%|██████▊   | 68/100 [25:32<11:55, 22.36s/it]"
     ]
    },
    {
     "name": "stdout",
     "output_type": "stream",
     "text": [
      "\n",
      "Validate: Average loss: 0.4162, Average Metric: 1.9128\n",
      "\n"
     ]
    },
    {
     "name": "stderr",
     "output_type": "stream",
     "text": [
      "\n",
      "0it [00:00, ?it/s]\u001b[A\n",
      "1it [00:00,  1.35it/s]\u001b[A"
     ]
    },
    {
     "name": "stdout",
     "output_type": "stream",
     "text": [
      "Train Epoch: 68 [0/57 (0%)]\tLoss: 0.343216\n"
     ]
    },
    {
     "name": "stderr",
     "output_type": "stream",
     "text": [
      "\n",
      "2it [00:01,  1.36it/s]\u001b[A\n",
      "3it [00:02,  1.38it/s]\u001b[A\n",
      "4it [00:02,  1.39it/s]\u001b[A\n",
      "5it [00:03,  1.40it/s]\u001b[A\n",
      "6it [00:04,  1.41it/s]\u001b[A\n",
      "7it [00:05,  1.41it/s]\u001b[A\n",
      "8it [00:05,  1.41it/s]\u001b[A\n",
      "9it [00:06,  1.39it/s]\u001b[A\n",
      "10it [00:07,  1.40it/s]\u001b[A\n",
      "11it [00:07,  1.40it/s]\u001b[A\n",
      "12it [00:08,  1.41it/s]\u001b[A\n",
      "13it [00:09,  1.42it/s]\u001b[A\n",
      "14it [00:09,  1.42it/s]\u001b[A\n",
      "15it [00:10,  1.42it/s]\u001b[A\n",
      "16it [00:11,  1.42it/s]\u001b[A\n",
      "17it [00:12,  1.41it/s]\u001b[A\n",
      "18it [00:12,  1.42it/s]\u001b[A\n",
      "19it [00:13,  1.41it/s]\u001b[A\n",
      "20it [00:14,  1.40it/s]\u001b[A\n",
      "21it [00:14,  1.40it/s]\u001b[A\n",
      "22it [00:15,  1.41it/s]\u001b[A\n",
      "23it [00:16,  1.41it/s]\u001b[A\n",
      "24it [00:17,  1.42it/s]\u001b[A\n",
      "25it [00:17,  1.42it/s]\u001b[A\n",
      "26it [00:18,  1.41it/s]\u001b[A\n",
      "27it [00:19,  1.40it/s]\u001b[A\n",
      "28it [00:19,  1.41it/s]\u001b[A\n",
      "29it [00:20,  1.42it/s]\u001b[A\n",
      " 69%|██████▉   | 69/100 [25:54<11:31, 22.32s/it]"
     ]
    },
    {
     "name": "stdout",
     "output_type": "stream",
     "text": [
      "\n",
      "Validate: Average loss: 0.3922, Average Metric: 1.9065\n",
      "\n"
     ]
    },
    {
     "name": "stderr",
     "output_type": "stream",
     "text": [
      "\n",
      "0it [00:00, ?it/s]\u001b[A\n",
      "1it [00:00,  1.40it/s]\u001b[A"
     ]
    },
    {
     "name": "stdout",
     "output_type": "stream",
     "text": [
      "Train Epoch: 69 [0/57 (0%)]\tLoss: 0.339472\n"
     ]
    },
    {
     "name": "stderr",
     "output_type": "stream",
     "text": [
      "\n",
      "2it [00:01,  1.41it/s]\u001b[A\n",
      "3it [00:02,  1.41it/s]\u001b[A\n",
      "4it [00:02,  1.42it/s]\u001b[A\n",
      "5it [00:03,  1.42it/s]\u001b[A\n",
      "6it [00:04,  1.41it/s]\u001b[A\n",
      "7it [00:04,  1.41it/s]\u001b[A\n",
      "8it [00:05,  1.41it/s]\u001b[A\n",
      "9it [00:06,  1.41it/s]\u001b[A\n",
      "10it [00:07,  1.41it/s]\u001b[A\n",
      "11it [00:07,  1.40it/s]\u001b[A\n",
      "12it [00:08,  1.42it/s]\u001b[A\n",
      "13it [00:09,  1.42it/s]\u001b[A\n",
      "14it [00:09,  1.42it/s]\u001b[A\n",
      "15it [00:10,  1.42it/s]\u001b[A\n",
      "16it [00:11,  1.41it/s]\u001b[A\n",
      "17it [00:12,  1.41it/s]\u001b[A\n",
      "18it [00:12,  1.41it/s]\u001b[A\n",
      "19it [00:13,  1.41it/s]\u001b[A\n",
      "20it [00:14,  1.40it/s]\u001b[A\n",
      "21it [00:14,  1.40it/s]\u001b[A\n",
      "22it [00:15,  1.41it/s]\u001b[A\n",
      "23it [00:16,  1.41it/s]\u001b[A\n",
      "24it [00:17,  1.41it/s]\u001b[A\n",
      "25it [00:17,  1.41it/s]\u001b[A\n",
      "26it [00:18,  1.37it/s]\u001b[A\n",
      "27it [00:19,  1.38it/s]\u001b[A\n",
      "28it [00:19,  1.39it/s]\u001b[A\n",
      "29it [00:20,  1.42it/s]\u001b[A\n",
      " 70%|███████   | 70/100 [26:16<11:08, 22.28s/it]"
     ]
    },
    {
     "name": "stdout",
     "output_type": "stream",
     "text": [
      "\n",
      "Validate: Average loss: 0.3508, Average Metric: 1.9090\n",
      "\n"
     ]
    },
    {
     "name": "stderr",
     "output_type": "stream",
     "text": [
      "\n",
      "0it [00:00, ?it/s]\u001b[A\n",
      "1it [00:00,  1.41it/s]\u001b[A"
     ]
    },
    {
     "name": "stdout",
     "output_type": "stream",
     "text": [
      "Train Epoch: 70 [0/57 (0%)]\tLoss: 0.202866\n"
     ]
    },
    {
     "name": "stderr",
     "output_type": "stream",
     "text": [
      "\n",
      "2it [00:01,  1.41it/s]\u001b[A\n",
      "3it [00:02,  1.39it/s]\u001b[A\n",
      "4it [00:02,  1.39it/s]\u001b[A\n",
      "5it [00:03,  1.40it/s]\u001b[A\n",
      "6it [00:04,  1.40it/s]\u001b[A\n",
      "7it [00:04,  1.41it/s]\u001b[A\n",
      "8it [00:05,  1.42it/s]\u001b[A\n",
      "9it [00:06,  1.40it/s]\u001b[A\n",
      "10it [00:07,  1.39it/s]\u001b[A\n",
      "11it [00:07,  1.34it/s]\u001b[A\n",
      "12it [00:08,  1.36it/s]\u001b[A\n",
      "13it [00:09,  1.38it/s]\u001b[A\n",
      "14it [00:10,  1.39it/s]\u001b[A\n",
      "15it [00:10,  1.39it/s]\u001b[A\n",
      "16it [00:11,  1.40it/s]\u001b[A\n",
      "17it [00:12,  1.36it/s]\u001b[A\n",
      "18it [00:12,  1.38it/s]\u001b[A\n",
      "19it [00:13,  1.39it/s]\u001b[A\n",
      "20it [00:14,  1.39it/s]\u001b[A\n",
      "21it [00:15,  1.40it/s]\u001b[A\n",
      "22it [00:15,  1.40it/s]\u001b[A\n",
      "23it [00:16,  1.41it/s]\u001b[A\n",
      "24it [00:17,  1.41it/s]\u001b[A\n",
      "25it [00:17,  1.41it/s]\u001b[A\n",
      "26it [00:18,  1.42it/s]\u001b[A\n",
      "27it [00:19,  1.42it/s]\u001b[A\n",
      "28it [00:20,  1.42it/s]\u001b[A\n",
      "29it [00:20,  1.42it/s]\u001b[A\n",
      " 71%|███████   | 71/100 [26:39<10:46, 22.28s/it]"
     ]
    },
    {
     "name": "stdout",
     "output_type": "stream",
     "text": [
      "\n",
      "Validate: Average loss: 0.3484, Average Metric: 1.9101\n",
      "\n"
     ]
    },
    {
     "name": "stderr",
     "output_type": "stream",
     "text": [
      "\n",
      "0it [00:00, ?it/s]\u001b[A\n",
      "1it [00:00,  1.40it/s]\u001b[A"
     ]
    },
    {
     "name": "stdout",
     "output_type": "stream",
     "text": [
      "Train Epoch: 71 [0/57 (0%)]\tLoss: 0.179228\n"
     ]
    },
    {
     "name": "stderr",
     "output_type": "stream",
     "text": [
      "\n",
      "2it [00:01,  1.38it/s]\u001b[A\n",
      "3it [00:02,  1.40it/s]\u001b[A\n",
      "4it [00:02,  1.40it/s]\u001b[A\n",
      "5it [00:03,  1.40it/s]\u001b[A\n",
      "6it [00:04,  1.40it/s]\u001b[A\n",
      "7it [00:04,  1.41it/s]\u001b[A\n",
      "8it [00:05,  1.36it/s]\u001b[A\n",
      "9it [00:06,  1.38it/s]\u001b[A\n",
      "10it [00:07,  1.39it/s]\u001b[A\n",
      "11it [00:07,  1.40it/s]\u001b[A\n",
      "12it [00:08,  1.41it/s]\u001b[A\n",
      "13it [00:09,  1.41it/s]\u001b[A\n",
      "14it [00:10,  1.42it/s]\u001b[A\n",
      "15it [00:10,  1.38it/s]\u001b[A\n",
      "16it [00:11,  1.39it/s]\u001b[A\n",
      "17it [00:12,  1.41it/s]\u001b[A\n",
      "18it [00:12,  1.40it/s]\u001b[A\n",
      "19it [00:13,  1.41it/s]\u001b[A\n",
      "20it [00:14,  1.40it/s]\u001b[A\n",
      "21it [00:15,  1.41it/s]\u001b[A\n",
      "22it [00:15,  1.35it/s]\u001b[A\n",
      "23it [00:16,  1.36it/s]\u001b[A\n",
      "24it [00:17,  1.37it/s]\u001b[A\n",
      "25it [00:17,  1.38it/s]\u001b[A\n",
      "26it [00:18,  1.39it/s]\u001b[A\n",
      "27it [00:19,  1.39it/s]\u001b[A\n",
      "28it [00:20,  1.40it/s]\u001b[A\n",
      "29it [00:20,  1.41it/s]\u001b[A\n",
      " 72%|███████▏  | 72/100 [27:01<10:24, 22.31s/it]"
     ]
    },
    {
     "name": "stdout",
     "output_type": "stream",
     "text": [
      "\n",
      "Validate: Average loss: 0.3417, Average Metric: 1.9082\n",
      "\n"
     ]
    },
    {
     "name": "stderr",
     "output_type": "stream",
     "text": [
      "\n",
      "0it [00:00, ?it/s]\u001b[A\n",
      "1it [00:00,  1.36it/s]\u001b[A"
     ]
    },
    {
     "name": "stdout",
     "output_type": "stream",
     "text": [
      "Train Epoch: 72 [0/57 (0%)]\tLoss: 0.207977\n"
     ]
    },
    {
     "name": "stderr",
     "output_type": "stream",
     "text": [
      "\n",
      "2it [00:01,  1.37it/s]\u001b[A\n",
      "3it [00:02,  1.39it/s]\u001b[A\n",
      "4it [00:02,  1.40it/s]\u001b[A\n",
      "5it [00:03,  1.40it/s]\u001b[A\n",
      "6it [00:04,  1.41it/s]\u001b[A\n",
      "7it [00:04,  1.41it/s]\u001b[A\n",
      "8it [00:05,  1.40it/s]\u001b[A\n",
      "9it [00:06,  1.39it/s]\u001b[A\n",
      "10it [00:07,  1.39it/s]\u001b[A\n",
      "11it [00:07,  1.40it/s]\u001b[A\n",
      "12it [00:08,  1.40it/s]\u001b[A\n",
      "13it [00:09,  1.39it/s]\u001b[A\n",
      "14it [00:10,  1.40it/s]\u001b[A\n",
      "15it [00:10,  1.36it/s]\u001b[A\n",
      "16it [00:11,  1.38it/s]\u001b[A\n",
      "17it [00:12,  1.35it/s]\u001b[A\n",
      "18it [00:13,  1.37it/s]\u001b[A\n",
      "19it [00:13,  1.38it/s]\u001b[A\n",
      "20it [00:14,  1.39it/s]\u001b[A\n",
      "21it [00:15,  1.39it/s]\u001b[A\n",
      "22it [00:15,  1.39it/s]\u001b[A\n",
      "23it [00:16,  1.40it/s]\u001b[A\n",
      "24it [00:17,  1.40it/s]\u001b[A\n",
      "25it [00:17,  1.40it/s]\u001b[A\n",
      "26it [00:18,  1.41it/s]\u001b[A\n",
      "27it [00:19,  1.42it/s]\u001b[A\n",
      "28it [00:20,  1.42it/s]\u001b[A\n",
      "29it [00:20,  1.41it/s]\u001b[A\n",
      " 73%|███████▎  | 73/100 [27:23<10:02, 22.31s/it]"
     ]
    },
    {
     "name": "stdout",
     "output_type": "stream",
     "text": [
      "\n",
      "Validate: Average loss: 0.3363, Average Metric: 1.9094\n",
      "\n"
     ]
    },
    {
     "name": "stderr",
     "output_type": "stream",
     "text": [
      "\n",
      "0it [00:00, ?it/s]\u001b[A\n",
      "1it [00:00,  1.39it/s]\u001b[A"
     ]
    },
    {
     "name": "stdout",
     "output_type": "stream",
     "text": [
      "Train Epoch: 73 [0/57 (0%)]\tLoss: 0.218391\n"
     ]
    },
    {
     "name": "stderr",
     "output_type": "stream",
     "text": [
      "\n",
      "2it [00:01,  1.37it/s]\u001b[A\n",
      "3it [00:02,  1.38it/s]\u001b[A\n",
      "4it [00:02,  1.36it/s]\u001b[A\n",
      "5it [00:03,  1.36it/s]\u001b[A\n",
      "6it [00:04,  1.37it/s]\u001b[A\n",
      "7it [00:05,  1.37it/s]\u001b[A\n",
      "8it [00:05,  1.38it/s]\u001b[A\n",
      "9it [00:06,  1.36it/s]\u001b[A\n",
      "10it [00:07,  1.38it/s]\u001b[A\n",
      "11it [00:08,  1.35it/s]\u001b[A\n",
      "12it [00:08,  1.37it/s]\u001b[A\n",
      "13it [00:09,  1.39it/s]\u001b[A\n",
      "14it [00:10,  1.39it/s]\u001b[A\n",
      "15it [00:10,  1.39it/s]\u001b[A\n",
      "16it [00:11,  1.39it/s]\u001b[A\n",
      "17it [00:12,  1.39it/s]\u001b[A\n",
      "18it [00:13,  1.40it/s]\u001b[A\n",
      "19it [00:13,  1.40it/s]\u001b[A\n",
      "20it [00:14,  1.41it/s]\u001b[A\n",
      "21it [00:15,  1.41it/s]\u001b[A\n",
      "22it [00:15,  1.41it/s]\u001b[A\n",
      "23it [00:16,  1.41it/s]\u001b[A\n",
      "24it [00:17,  1.39it/s]\u001b[A\n",
      "25it [00:18,  1.40it/s]\u001b[A\n",
      "26it [00:18,  1.40it/s]\u001b[A\n",
      "27it [00:19,  1.41it/s]\u001b[A\n",
      "28it [00:20,  1.40it/s]\u001b[A\n",
      "29it [00:20,  1.41it/s]\u001b[A\n",
      " 74%|███████▍  | 74/100 [27:46<09:41, 22.35s/it]"
     ]
    },
    {
     "name": "stdout",
     "output_type": "stream",
     "text": [
      "\n",
      "Validate: Average loss: 0.3262, Average Metric: 1.9110\n",
      "\n"
     ]
    },
    {
     "name": "stderr",
     "output_type": "stream",
     "text": [
      "\n",
      "0it [00:00, ?it/s]\u001b[A\n",
      "1it [00:00,  1.36it/s]\u001b[A"
     ]
    },
    {
     "name": "stdout",
     "output_type": "stream",
     "text": [
      "Train Epoch: 74 [0/57 (0%)]\tLoss: 0.403878\n"
     ]
    },
    {
     "name": "stderr",
     "output_type": "stream",
     "text": [
      "\n",
      "2it [00:01,  1.38it/s]\u001b[A\n",
      "3it [00:02,  1.39it/s]\u001b[A\n",
      "4it [00:02,  1.40it/s]\u001b[A\n",
      "5it [00:03,  1.39it/s]\u001b[A\n",
      "6it [00:04,  1.37it/s]\u001b[A\n",
      "7it [00:05,  1.39it/s]\u001b[A\n",
      "8it [00:05,  1.39it/s]\u001b[A\n",
      "9it [00:06,  1.40it/s]\u001b[A\n",
      "10it [00:07,  1.40it/s]\u001b[A\n",
      "11it [00:07,  1.41it/s]\u001b[A\n",
      "12it [00:08,  1.41it/s]\u001b[A\n",
      "13it [00:09,  1.42it/s]\u001b[A\n",
      "14it [00:09,  1.43it/s]\u001b[A\n",
      "15it [00:10,  1.40it/s]\u001b[A\n",
      "16it [00:11,  1.42it/s]\u001b[A\n",
      "17it [00:12,  1.42it/s]\u001b[A\n",
      "18it [00:12,  1.42it/s]\u001b[A\n",
      "19it [00:13,  1.42it/s]\u001b[A\n",
      "20it [00:14,  1.42it/s]\u001b[A\n",
      "21it [00:14,  1.43it/s]\u001b[A\n",
      "22it [00:15,  1.42it/s]\u001b[A\n",
      "23it [00:16,  1.42it/s]\u001b[A\n",
      "24it [00:17,  1.42it/s]\u001b[A\n",
      "25it [00:17,  1.42it/s]\u001b[A\n",
      "26it [00:18,  1.42it/s]\u001b[A\n",
      "27it [00:19,  1.39it/s]\u001b[A\n",
      "28it [00:19,  1.36it/s]\u001b[A\n",
      "29it [00:20,  1.42it/s]\u001b[A\n",
      " 75%|███████▌  | 75/100 [28:08<09:17, 22.31s/it]"
     ]
    },
    {
     "name": "stdout",
     "output_type": "stream",
     "text": [
      "\n",
      "Validate: Average loss: 0.3103, Average Metric: 1.9099\n",
      "\n"
     ]
    },
    {
     "name": "stderr",
     "output_type": "stream",
     "text": [
      "\n",
      "0it [00:00, ?it/s]\u001b[A\n",
      "1it [00:00,  1.42it/s]\u001b[A"
     ]
    },
    {
     "name": "stdout",
     "output_type": "stream",
     "text": [
      "Train Epoch: 75 [0/57 (0%)]\tLoss: 0.339064\n"
     ]
    },
    {
     "name": "stderr",
     "output_type": "stream",
     "text": [
      "\n",
      "2it [00:01,  1.32it/s]\u001b[A\n",
      "3it [00:02,  1.36it/s]\u001b[A\n",
      "4it [00:02,  1.35it/s]\u001b[A\n",
      "5it [00:03,  1.37it/s]\u001b[A\n",
      "6it [00:04,  1.37it/s]\u001b[A\n",
      "7it [00:05,  1.38it/s]\u001b[A\n",
      "8it [00:05,  1.40it/s]\u001b[A\n",
      "9it [00:06,  1.40it/s]\u001b[A\n",
      "10it [00:07,  1.40it/s]\u001b[A\n",
      "11it [00:07,  1.40it/s]\u001b[A\n",
      "12it [00:08,  1.41it/s]\u001b[A\n",
      "13it [00:09,  1.41it/s]\u001b[A\n",
      "14it [00:10,  1.41it/s]\u001b[A\n",
      "15it [00:10,  1.40it/s]\u001b[A\n",
      "16it [00:11,  1.40it/s]\u001b[A\n",
      "17it [00:12,  1.40it/s]\u001b[A\n",
      "18it [00:12,  1.41it/s]\u001b[A\n",
      "19it [00:13,  1.41it/s]\u001b[A\n",
      "20it [00:14,  1.37it/s]\u001b[A\n",
      "21it [00:15,  1.38it/s]\u001b[A\n",
      "22it [00:15,  1.40it/s]\u001b[A\n",
      "23it [00:16,  1.40it/s]\u001b[A\n",
      "24it [00:17,  1.41it/s]\u001b[A\n",
      "25it [00:17,  1.40it/s]\u001b[A\n",
      "26it [00:18,  1.38it/s]\u001b[A\n",
      "27it [00:19,  1.39it/s]\u001b[A\n",
      "28it [00:20,  1.40it/s]\u001b[A\n",
      "29it [00:20,  1.41it/s]\u001b[A\n",
      " 76%|███████▌  | 76/100 [28:30<08:55, 22.32s/it]"
     ]
    },
    {
     "name": "stdout",
     "output_type": "stream",
     "text": [
      "\n",
      "Validate: Average loss: 0.3117, Average Metric: 1.9103\n",
      "\n"
     ]
    },
    {
     "name": "stderr",
     "output_type": "stream",
     "text": [
      "\n",
      "0it [00:00, ?it/s]\u001b[A\n",
      "1it [00:00,  1.41it/s]\u001b[A"
     ]
    },
    {
     "name": "stdout",
     "output_type": "stream",
     "text": [
      "Train Epoch: 76 [0/57 (0%)]\tLoss: 0.202670\n"
     ]
    },
    {
     "name": "stderr",
     "output_type": "stream",
     "text": [
      "\n",
      "2it [00:01,  1.41it/s]\u001b[A\n",
      "3it [00:02,  1.40it/s]\u001b[A\n",
      "4it [00:02,  1.41it/s]\u001b[A\n",
      "5it [00:03,  1.40it/s]\u001b[A\n",
      "6it [00:04,  1.41it/s]\u001b[A\n",
      "7it [00:04,  1.41it/s]\u001b[A\n",
      "8it [00:05,  1.39it/s]\u001b[A\n",
      "9it [00:06,  1.39it/s]\u001b[A\n",
      "10it [00:07,  1.38it/s]\u001b[A\n",
      "11it [00:07,  1.39it/s]\u001b[A\n",
      "12it [00:08,  1.39it/s]\u001b[A\n",
      "13it [00:09,  1.39it/s]\u001b[A\n",
      "14it [00:10,  1.40it/s]\u001b[A\n",
      "15it [00:10,  1.40it/s]\u001b[A\n",
      "16it [00:11,  1.41it/s]\u001b[A\n",
      "17it [00:12,  1.39it/s]\u001b[A\n",
      "18it [00:12,  1.39it/s]\u001b[A\n",
      "19it [00:13,  1.39it/s]\u001b[A\n",
      "20it [00:14,  1.39it/s]\u001b[A\n",
      "21it [00:15,  1.39it/s]\u001b[A\n",
      "22it [00:15,  1.39it/s]\u001b[A\n",
      "23it [00:16,  1.40it/s]\u001b[A\n",
      "24it [00:17,  1.41it/s]\u001b[A\n",
      "25it [00:17,  1.41it/s]\u001b[A\n",
      "26it [00:18,  1.40it/s]\u001b[A\n",
      "27it [00:19,  1.40it/s]\u001b[A\n",
      "28it [00:20,  1.40it/s]\u001b[A\n",
      "29it [00:20,  1.41it/s]\u001b[A\n",
      " 77%|███████▋  | 77/100 [28:53<08:33, 22.32s/it]"
     ]
    },
    {
     "name": "stdout",
     "output_type": "stream",
     "text": [
      "\n",
      "Validate: Average loss: 0.2968, Average Metric: 1.9098\n",
      "\n"
     ]
    },
    {
     "name": "stderr",
     "output_type": "stream",
     "text": [
      "\n",
      "0it [00:00, ?it/s]\u001b[A\n",
      "1it [00:00,  1.37it/s]\u001b[A"
     ]
    },
    {
     "name": "stdout",
     "output_type": "stream",
     "text": [
      "Train Epoch: 77 [0/57 (0%)]\tLoss: 0.176135\n"
     ]
    },
    {
     "name": "stderr",
     "output_type": "stream",
     "text": [
      "\n",
      "2it [00:01,  1.38it/s]\u001b[A\n",
      "3it [00:02,  1.38it/s]\u001b[A\n",
      "4it [00:02,  1.39it/s]\u001b[A\n",
      "5it [00:03,  1.40it/s]\u001b[A\n",
      "6it [00:04,  1.41it/s]\u001b[A\n",
      "7it [00:04,  1.41it/s]\u001b[A\n",
      "8it [00:05,  1.39it/s]\u001b[A\n",
      "9it [00:06,  1.40it/s]\u001b[A\n",
      "10it [00:07,  1.41it/s]\u001b[A\n",
      "11it [00:07,  1.40it/s]\u001b[A\n",
      "12it [00:08,  1.40it/s]\u001b[A\n",
      "13it [00:09,  1.39it/s]\u001b[A\n",
      "14it [00:10,  1.40it/s]\u001b[A\n",
      "15it [00:10,  1.41it/s]\u001b[A\n",
      "16it [00:11,  1.41it/s]\u001b[A\n",
      "17it [00:12,  1.42it/s]\u001b[A\n",
      "18it [00:12,  1.41it/s]\u001b[A\n",
      "19it [00:13,  1.41it/s]\u001b[A\n",
      "20it [00:14,  1.41it/s]\u001b[A\n",
      "21it [00:14,  1.40it/s]\u001b[A\n",
      "22it [00:15,  1.41it/s]\u001b[A\n",
      "23it [00:16,  1.42it/s]\u001b[A\n",
      "24it [00:17,  1.42it/s]\u001b[A\n",
      "25it [00:17,  1.41it/s]\u001b[A\n",
      "26it [00:18,  1.41it/s]\u001b[A\n",
      "27it [00:19,  1.41it/s]\u001b[A\n",
      "28it [00:19,  1.38it/s]\u001b[A\n",
      "29it [00:20,  1.42it/s]\u001b[A\n",
      " 78%|███████▊  | 78/100 [29:15<08:10, 22.31s/it]"
     ]
    },
    {
     "name": "stdout",
     "output_type": "stream",
     "text": [
      "\n",
      "Validate: Average loss: 0.3126, Average Metric: 1.9107\n",
      "\n"
     ]
    },
    {
     "name": "stderr",
     "output_type": "stream",
     "text": [
      "\n",
      "0it [00:00, ?it/s]\u001b[A\n",
      "1it [00:00,  1.38it/s]\u001b[A"
     ]
    },
    {
     "name": "stdout",
     "output_type": "stream",
     "text": [
      "Train Epoch: 78 [0/57 (0%)]\tLoss: 0.154830\n"
     ]
    },
    {
     "name": "stderr",
     "output_type": "stream",
     "text": [
      "\n",
      "2it [00:01,  1.40it/s]\u001b[A\n",
      "3it [00:02,  1.38it/s]\u001b[A\n",
      "4it [00:02,  1.40it/s]\u001b[A\n",
      "5it [00:03,  1.39it/s]\u001b[A\n",
      "6it [00:04,  1.39it/s]\u001b[A\n",
      "7it [00:05,  1.40it/s]\u001b[A\n",
      "8it [00:05,  1.41it/s]\u001b[A\n",
      "9it [00:06,  1.41it/s]\u001b[A\n",
      "10it [00:07,  1.42it/s]\u001b[A\n",
      "11it [00:07,  1.41it/s]\u001b[A\n",
      "12it [00:08,  1.40it/s]\u001b[A\n",
      "13it [00:09,  1.40it/s]\u001b[A\n",
      "14it [00:09,  1.40it/s]\u001b[A\n",
      "15it [00:10,  1.40it/s]\u001b[A\n",
      "16it [00:11,  1.40it/s]\u001b[A\n",
      "17it [00:12,  1.41it/s]\u001b[A\n",
      "18it [00:12,  1.41it/s]\u001b[A\n",
      "19it [00:13,  1.38it/s]\u001b[A\n",
      "20it [00:14,  1.38it/s]\u001b[A\n",
      "21it [00:15,  1.39it/s]\u001b[A\n",
      "22it [00:15,  1.39it/s]\u001b[A\n",
      "23it [00:16,  1.40it/s]\u001b[A\n",
      "24it [00:17,  1.41it/s]\u001b[A\n",
      "25it [00:17,  1.41it/s]\u001b[A\n",
      "26it [00:18,  1.41it/s]\u001b[A\n",
      "27it [00:19,  1.40it/s]\u001b[A\n",
      "28it [00:19,  1.40it/s]\u001b[A\n",
      "29it [00:20,  1.42it/s]\u001b[A\n",
      " 79%|███████▉  | 79/100 [29:37<07:48, 22.29s/it]"
     ]
    },
    {
     "name": "stdout",
     "output_type": "stream",
     "text": [
      "\n",
      "Validate: Average loss: 0.3061, Average Metric: 1.9107\n",
      "\n"
     ]
    },
    {
     "name": "stderr",
     "output_type": "stream",
     "text": [
      "\n",
      "0it [00:00, ?it/s]\u001b[A\n",
      "1it [00:00,  1.40it/s]\u001b[A"
     ]
    },
    {
     "name": "stdout",
     "output_type": "stream",
     "text": [
      "Train Epoch: 79 [0/57 (0%)]\tLoss: 0.176860\n"
     ]
    },
    {
     "name": "stderr",
     "output_type": "stream",
     "text": [
      "\n",
      "2it [00:01,  1.41it/s]\u001b[A\n",
      "3it [00:02,  1.40it/s]\u001b[A\n",
      "4it [00:02,  1.41it/s]\u001b[A\n",
      "5it [00:03,  1.42it/s]\u001b[A\n",
      "6it [00:04,  1.41it/s]\u001b[A\n",
      "7it [00:04,  1.41it/s]\u001b[A\n",
      "8it [00:05,  1.41it/s]\u001b[A\n",
      "9it [00:06,  1.41it/s]\u001b[A\n",
      "10it [00:07,  1.39it/s]\u001b[A\n",
      "11it [00:07,  1.39it/s]\u001b[A\n",
      "12it [00:08,  1.40it/s]\u001b[A\n",
      "13it [00:09,  1.40it/s]\u001b[A\n",
      "14it [00:09,  1.41it/s]\u001b[A\n",
      "15it [00:10,  1.41it/s]\u001b[A\n",
      "16it [00:11,  1.41it/s]\u001b[A\n",
      "17it [00:12,  1.41it/s]\u001b[A\n",
      "18it [00:12,  1.41it/s]\u001b[A\n",
      "19it [00:13,  1.41it/s]\u001b[A\n",
      "20it [00:14,  1.42it/s]\u001b[A\n",
      "21it [00:14,  1.42it/s]\u001b[A\n",
      "22it [00:15,  1.43it/s]\u001b[A\n",
      "23it [00:16,  1.42it/s]\u001b[A\n",
      "24it [00:17,  1.40it/s]\u001b[A\n",
      "25it [00:17,  1.40it/s]\u001b[A\n",
      "26it [00:18,  1.40it/s]\u001b[A\n",
      "27it [00:19,  1.40it/s]\u001b[A\n",
      "28it [00:19,  1.41it/s]\u001b[A\n",
      "29it [00:20,  1.42it/s]\u001b[A\n",
      " 80%|████████  | 80/100 [29:59<07:25, 22.28s/it]"
     ]
    },
    {
     "name": "stdout",
     "output_type": "stream",
     "text": [
      "\n",
      "Validate: Average loss: 0.3474, Average Metric: 1.9084\n",
      "\n"
     ]
    },
    {
     "name": "stderr",
     "output_type": "stream",
     "text": [
      "\n",
      "0it [00:00, ?it/s]\u001b[A\n",
      "1it [00:00,  1.34it/s]\u001b[A"
     ]
    },
    {
     "name": "stdout",
     "output_type": "stream",
     "text": [
      "Train Epoch: 80 [0/57 (0%)]\tLoss: 0.331508\n"
     ]
    },
    {
     "name": "stderr",
     "output_type": "stream",
     "text": [
      "\n",
      "2it [00:01,  1.37it/s]\u001b[A\n",
      "3it [00:02,  1.33it/s]\u001b[A\n",
      "4it [00:02,  1.34it/s]\u001b[A\n",
      "5it [00:03,  1.37it/s]\u001b[A\n",
      "6it [00:04,  1.39it/s]\u001b[A\n",
      "7it [00:05,  1.39it/s]\u001b[A\n",
      "8it [00:05,  1.40it/s]\u001b[A\n",
      "9it [00:06,  1.40it/s]\u001b[A\n",
      "10it [00:07,  1.41it/s]\u001b[A\n",
      "11it [00:07,  1.41it/s]\u001b[A\n",
      "12it [00:08,  1.42it/s]\u001b[A\n",
      "13it [00:09,  1.42it/s]\u001b[A\n",
      "14it [00:10,  1.41it/s]\u001b[A\n",
      "15it [00:10,  1.42it/s]\u001b[A\n",
      "16it [00:11,  1.42it/s]\u001b[A\n",
      "17it [00:12,  1.42it/s]\u001b[A\n",
      "18it [00:12,  1.42it/s]\u001b[A\n",
      "19it [00:13,  1.42it/s]\u001b[A\n",
      "20it [00:14,  1.38it/s]\u001b[A\n",
      "21it [00:15,  1.36it/s]\u001b[A\n",
      "22it [00:15,  1.37it/s]\u001b[A\n",
      "23it [00:16,  1.39it/s]\u001b[A\n",
      "24it [00:17,  1.39it/s]\u001b[A\n",
      "25it [00:17,  1.40it/s]\u001b[A\n",
      "26it [00:18,  1.41it/s]\u001b[A\n",
      "27it [00:19,  1.41it/s]\u001b[A\n",
      "28it [00:20,  1.40it/s]\u001b[A\n",
      "29it [00:20,  1.41it/s]\u001b[A\n",
      " 81%|████████  | 81/100 [30:22<07:04, 22.32s/it]"
     ]
    },
    {
     "name": "stdout",
     "output_type": "stream",
     "text": [
      "\n",
      "Validate: Average loss: 0.3181, Average Metric: 1.9095\n",
      "\n"
     ]
    },
    {
     "name": "stderr",
     "output_type": "stream",
     "text": [
      "\n",
      "0it [00:00, ?it/s]\u001b[A\n",
      "1it [00:00,  1.33it/s]\u001b[A"
     ]
    },
    {
     "name": "stdout",
     "output_type": "stream",
     "text": [
      "Train Epoch: 81 [0/57 (0%)]\tLoss: 0.196444\n"
     ]
    },
    {
     "name": "stderr",
     "output_type": "stream",
     "text": [
      "\n",
      "2it [00:01,  1.36it/s]\u001b[A\n",
      "3it [00:02,  1.37it/s]\u001b[A\n",
      "4it [00:02,  1.39it/s]\u001b[A\n",
      "5it [00:03,  1.39it/s]\u001b[A\n",
      "6it [00:04,  1.40it/s]\u001b[A\n",
      "7it [00:05,  1.40it/s]\u001b[A\n",
      "8it [00:05,  1.40it/s]\u001b[A\n",
      "9it [00:06,  1.41it/s]\u001b[A\n",
      "10it [00:07,  1.41it/s]\u001b[A\n",
      "11it [00:07,  1.40it/s]\u001b[A\n",
      "12it [00:08,  1.37it/s]\u001b[A\n",
      "13it [00:09,  1.38it/s]\u001b[A\n",
      "14it [00:10,  1.39it/s]\u001b[A\n",
      "15it [00:10,  1.39it/s]\u001b[A\n",
      "16it [00:11,  1.40it/s]\u001b[A\n",
      "17it [00:12,  1.40it/s]\u001b[A\n",
      "18it [00:12,  1.41it/s]\u001b[A\n",
      "19it [00:13,  1.42it/s]\u001b[A\n",
      "20it [00:14,  1.42it/s]\u001b[A\n",
      "21it [00:14,  1.42it/s]\u001b[A\n",
      "22it [00:15,  1.42it/s]\u001b[A\n",
      "23it [00:16,  1.42it/s]\u001b[A\n",
      "24it [00:17,  1.42it/s]\u001b[A\n",
      "25it [00:17,  1.42it/s]\u001b[A\n",
      "26it [00:18,  1.42it/s]\u001b[A\n",
      "27it [00:19,  1.41it/s]\u001b[A\n",
      "28it [00:19,  1.42it/s]\u001b[A\n",
      "29it [00:20,  1.42it/s]\u001b[A\n",
      " 82%|████████▏ | 82/100 [30:44<06:41, 22.32s/it]"
     ]
    },
    {
     "name": "stdout",
     "output_type": "stream",
     "text": [
      "\n",
      "Validate: Average loss: 0.3125, Average Metric: 1.9096\n",
      "\n"
     ]
    },
    {
     "name": "stderr",
     "output_type": "stream",
     "text": [
      "\n",
      "0it [00:00, ?it/s]\u001b[A\n",
      "1it [00:00,  1.39it/s]\u001b[A"
     ]
    },
    {
     "name": "stdout",
     "output_type": "stream",
     "text": [
      "Train Epoch: 82 [0/57 (0%)]\tLoss: 0.361444\n"
     ]
    },
    {
     "name": "stderr",
     "output_type": "stream",
     "text": [
      "\n",
      "2it [00:01,  1.40it/s]\u001b[A\n",
      "3it [00:02,  1.37it/s]\u001b[A\n",
      "4it [00:02,  1.40it/s]\u001b[A\n",
      "5it [00:03,  1.41it/s]\u001b[A\n",
      "6it [00:04,  1.41it/s]\u001b[A\n",
      "7it [00:04,  1.42it/s]\u001b[A\n",
      "8it [00:05,  1.42it/s]\u001b[A\n",
      "9it [00:06,  1.42it/s]\u001b[A\n",
      "10it [00:07,  1.42it/s]\u001b[A\n",
      "11it [00:07,  1.42it/s]\u001b[A\n",
      "12it [00:08,  1.41it/s]\u001b[A\n",
      "13it [00:09,  1.41it/s]\u001b[A\n",
      "14it [00:09,  1.41it/s]\u001b[A\n",
      "15it [00:10,  1.41it/s]\u001b[A\n",
      "16it [00:11,  1.39it/s]\u001b[A\n",
      "17it [00:12,  1.36it/s]\u001b[A\n",
      "18it [00:12,  1.36it/s]\u001b[A\n",
      "19it [00:13,  1.36it/s]\u001b[A\n",
      "20it [00:14,  1.37it/s]\u001b[A\n",
      "21it [00:15,  1.39it/s]\u001b[A\n",
      "22it [00:15,  1.37it/s]\u001b[A\n",
      "23it [00:16,  1.34it/s]\u001b[A\n",
      "24it [00:17,  1.36it/s]\u001b[A\n",
      "25it [00:17,  1.38it/s]\u001b[A\n",
      "26it [00:18,  1.39it/s]\u001b[A\n",
      "27it [00:19,  1.38it/s]\u001b[A\n",
      "28it [00:20,  1.39it/s]\u001b[A\n",
      "29it [00:20,  1.41it/s]\u001b[A\n",
      " 83%|████████▎ | 83/100 [31:06<06:20, 22.35s/it]"
     ]
    },
    {
     "name": "stdout",
     "output_type": "stream",
     "text": [
      "\n",
      "Validate: Average loss: 0.3060, Average Metric: 1.9096\n",
      "\n"
     ]
    },
    {
     "name": "stderr",
     "output_type": "stream",
     "text": [
      "\n",
      "0it [00:00, ?it/s]\u001b[A\n",
      "1it [00:00,  1.41it/s]\u001b[A"
     ]
    },
    {
     "name": "stdout",
     "output_type": "stream",
     "text": [
      "Train Epoch: 83 [0/57 (0%)]\tLoss: 0.188198\n"
     ]
    },
    {
     "name": "stderr",
     "output_type": "stream",
     "text": [
      "\n",
      "2it [00:01,  1.40it/s]\u001b[A\n",
      "3it [00:02,  1.39it/s]\u001b[A\n",
      "4it [00:02,  1.39it/s]\u001b[A\n",
      "5it [00:03,  1.39it/s]\u001b[A\n",
      "6it [00:04,  1.39it/s]\u001b[A\n",
      "7it [00:05,  1.40it/s]\u001b[A\n",
      "8it [00:05,  1.40it/s]\u001b[A\n",
      "9it [00:06,  1.41it/s]\u001b[A\n",
      "10it [00:07,  1.40it/s]\u001b[A\n",
      "11it [00:07,  1.38it/s]\u001b[A\n",
      "12it [00:08,  1.39it/s]\u001b[A\n",
      "13it [00:09,  1.39it/s]\u001b[A\n",
      "14it [00:10,  1.38it/s]\u001b[A\n",
      "15it [00:10,  1.39it/s]\u001b[A\n",
      "16it [00:11,  1.39it/s]\u001b[A\n",
      "17it [00:12,  1.40it/s]\u001b[A\n",
      "18it [00:12,  1.40it/s]\u001b[A\n",
      "19it [00:13,  1.40it/s]\u001b[A\n",
      "20it [00:14,  1.39it/s]\u001b[A\n",
      "21it [00:15,  1.40it/s]\u001b[A\n",
      "22it [00:15,  1.40it/s]\u001b[A\n",
      "23it [00:16,  1.41it/s]\u001b[A\n",
      "24it [00:17,  1.42it/s]\u001b[A\n",
      "25it [00:17,  1.38it/s]\u001b[A\n",
      "26it [00:18,  1.39it/s]\u001b[A\n",
      "27it [00:19,  1.40it/s]\u001b[A\n",
      "28it [00:20,  1.40it/s]\u001b[A\n",
      "29it [00:20,  1.41it/s]\u001b[A\n",
      " 84%|████████▍ | 84/100 [31:29<05:57, 22.35s/it]"
     ]
    },
    {
     "name": "stdout",
     "output_type": "stream",
     "text": [
      "\n",
      "Validate: Average loss: 0.3111, Average Metric: 1.9092\n",
      "\n"
     ]
    },
    {
     "name": "stderr",
     "output_type": "stream",
     "text": [
      "\n",
      "0it [00:00, ?it/s]\u001b[A\n",
      "1it [00:00,  1.29it/s]\u001b[A"
     ]
    },
    {
     "name": "stdout",
     "output_type": "stream",
     "text": [
      "Train Epoch: 84 [0/57 (0%)]\tLoss: 0.189443\n"
     ]
    },
    {
     "name": "stderr",
     "output_type": "stream",
     "text": [
      "\n",
      "2it [00:01,  1.32it/s]\u001b[A\n",
      "3it [00:02,  1.35it/s]\u001b[A\n",
      "4it [00:02,  1.35it/s]\u001b[A\n",
      "5it [00:03,  1.35it/s]\u001b[A\n",
      "6it [00:04,  1.37it/s]\u001b[A\n",
      "7it [00:05,  1.38it/s]\u001b[A\n",
      "8it [00:05,  1.38it/s]\u001b[A\n",
      "9it [00:06,  1.39it/s]\u001b[A\n",
      "10it [00:07,  1.39it/s]\u001b[A\n",
      "11it [00:08,  1.39it/s]\u001b[A\n",
      "12it [00:08,  1.38it/s]\u001b[A\n",
      "13it [00:09,  1.39it/s]\u001b[A\n",
      "14it [00:10,  1.40it/s]\u001b[A\n",
      "15it [00:10,  1.40it/s]\u001b[A\n",
      "16it [00:11,  1.40it/s]\u001b[A\n",
      "17it [00:12,  1.40it/s]\u001b[A\n",
      "18it [00:13,  1.40it/s]\u001b[A\n",
      "19it [00:13,  1.41it/s]\u001b[A\n",
      "20it [00:14,  1.41it/s]\u001b[A\n",
      "21it [00:15,  1.41it/s]\u001b[A\n",
      "22it [00:15,  1.41it/s]\u001b[A\n",
      "23it [00:16,  1.41it/s]\u001b[A\n",
      "24it [00:17,  1.41it/s]\u001b[A\n",
      "25it [00:18,  1.38it/s]\u001b[A\n",
      "26it [00:18,  1.39it/s]\u001b[A\n",
      "27it [00:19,  1.40it/s]\u001b[A\n",
      "28it [00:20,  1.41it/s]\u001b[A\n",
      "29it [00:20,  1.41it/s]\u001b[A\n",
      " 85%|████████▌ | 85/100 [31:51<05:35, 22.36s/it]"
     ]
    },
    {
     "name": "stdout",
     "output_type": "stream",
     "text": [
      "\n",
      "Validate: Average loss: 0.3068, Average Metric: 1.9085\n",
      "\n"
     ]
    },
    {
     "name": "stderr",
     "output_type": "stream",
     "text": [
      "\n",
      "0it [00:00, ?it/s]\u001b[A\n",
      "1it [00:00,  1.40it/s]\u001b[A"
     ]
    },
    {
     "name": "stdout",
     "output_type": "stream",
     "text": [
      "Train Epoch: 85 [0/57 (0%)]\tLoss: 0.387271\n"
     ]
    },
    {
     "name": "stderr",
     "output_type": "stream",
     "text": [
      "\n",
      "2it [00:01,  1.40it/s]\u001b[A\n",
      "3it [00:02,  1.40it/s]\u001b[A\n",
      "4it [00:02,  1.41it/s]\u001b[A\n",
      "5it [00:03,  1.41it/s]\u001b[A\n",
      "6it [00:04,  1.42it/s]\u001b[A\n",
      "7it [00:04,  1.42it/s]\u001b[A\n",
      "8it [00:05,  1.42it/s]\u001b[A\n",
      "9it [00:06,  1.42it/s]\u001b[A\n",
      "10it [00:07,  1.43it/s]\u001b[A\n",
      "11it [00:07,  1.43it/s]\u001b[A\n",
      "12it [00:08,  1.43it/s]\u001b[A\n",
      "13it [00:09,  1.42it/s]\u001b[A\n",
      "14it [00:09,  1.42it/s]\u001b[A\n",
      "15it [00:10,  1.42it/s]\u001b[A\n",
      "16it [00:11,  1.40it/s]\u001b[A\n",
      "17it [00:12,  1.40it/s]\u001b[A\n",
      "18it [00:12,  1.41it/s]\u001b[A\n",
      "19it [00:13,  1.42it/s]\u001b[A\n",
      "20it [00:14,  1.41it/s]\u001b[A\n",
      "21it [00:14,  1.40it/s]\u001b[A\n",
      "22it [00:15,  1.41it/s]\u001b[A\n",
      "23it [00:16,  1.41it/s]\u001b[A\n",
      "24it [00:16,  1.42it/s]\u001b[A\n",
      "25it [00:17,  1.42it/s]\u001b[A\n",
      "26it [00:18,  1.42it/s]\u001b[A\n",
      "27it [00:19,  1.42it/s]\u001b[A\n",
      "28it [00:19,  1.41it/s]\u001b[A\n",
      "29it [00:20,  1.43it/s]\u001b[A\n",
      " 86%|████████▌ | 86/100 [32:13<05:11, 22.28s/it]"
     ]
    },
    {
     "name": "stdout",
     "output_type": "stream",
     "text": [
      "\n",
      "Validate: Average loss: 0.3228, Average Metric: 1.9078\n",
      "\n"
     ]
    },
    {
     "name": "stderr",
     "output_type": "stream",
     "text": [
      "\n",
      "0it [00:00, ?it/s]\u001b[A\n",
      "1it [00:00,  1.39it/s]\u001b[A"
     ]
    },
    {
     "name": "stdout",
     "output_type": "stream",
     "text": [
      "Train Epoch: 86 [0/57 (0%)]\tLoss: 0.179161\n"
     ]
    },
    {
     "name": "stderr",
     "output_type": "stream",
     "text": [
      "\n",
      "2it [00:01,  1.39it/s]\u001b[A\n",
      "3it [00:02,  1.39it/s]\u001b[A\n",
      "4it [00:02,  1.40it/s]\u001b[A\n",
      "5it [00:03,  1.41it/s]\u001b[A\n",
      "6it [00:04,  1.41it/s]\u001b[A\n",
      "7it [00:05,  1.37it/s]\u001b[A\n",
      "8it [00:05,  1.39it/s]\u001b[A\n",
      "9it [00:06,  1.40it/s]\u001b[A\n",
      "10it [00:07,  1.41it/s]\u001b[A\n",
      "11it [00:07,  1.41it/s]\u001b[A\n",
      "12it [00:08,  1.41it/s]\u001b[A\n",
      "13it [00:09,  1.42it/s]\u001b[A\n",
      "14it [00:09,  1.42it/s]\u001b[A\n",
      "15it [00:10,  1.42it/s]\u001b[A\n",
      "16it [00:11,  1.42it/s]\u001b[A\n",
      "17it [00:12,  1.41it/s]\u001b[A\n",
      "18it [00:12,  1.41it/s]\u001b[A\n",
      "19it [00:13,  1.41it/s]\u001b[A\n",
      "20it [00:14,  1.40it/s]\u001b[A\n",
      "21it [00:14,  1.41it/s]\u001b[A\n",
      "22it [00:15,  1.42it/s]\u001b[A\n",
      "23it [00:16,  1.42it/s]\u001b[A\n",
      "24it [00:17,  1.42it/s]\u001b[A\n",
      "25it [00:17,  1.42it/s]\u001b[A\n",
      "26it [00:18,  1.42it/s]\u001b[A\n",
      "27it [00:19,  1.40it/s]\u001b[A\n",
      "28it [00:19,  1.41it/s]\u001b[A\n",
      "29it [00:20,  1.43it/s]\u001b[A\n",
      " 87%|████████▋ | 87/100 [32:35<04:49, 22.24s/it]"
     ]
    },
    {
     "name": "stdout",
     "output_type": "stream",
     "text": [
      "\n",
      "Validate: Average loss: 0.3961, Average Metric: 1.9127\n",
      "\n"
     ]
    },
    {
     "name": "stderr",
     "output_type": "stream",
     "text": [
      "\n",
      "0it [00:00, ?it/s]\u001b[A\n",
      "1it [00:00,  1.39it/s]\u001b[A"
     ]
    },
    {
     "name": "stdout",
     "output_type": "stream",
     "text": [
      "Train Epoch: 87 [0/57 (0%)]\tLoss: 0.244220\n"
     ]
    },
    {
     "name": "stderr",
     "output_type": "stream",
     "text": [
      "\n",
      "2it [00:01,  1.40it/s]\u001b[A\n",
      "3it [00:02,  1.40it/s]\u001b[A\n",
      "4it [00:02,  1.40it/s]\u001b[A\n",
      "5it [00:03,  1.40it/s]\u001b[A\n",
      "6it [00:04,  1.41it/s]\u001b[A\n",
      "7it [00:04,  1.40it/s]\u001b[A\n",
      "8it [00:05,  1.41it/s]\u001b[A\n",
      "9it [00:06,  1.40it/s]\u001b[A\n",
      "10it [00:07,  1.41it/s]\u001b[A\n",
      "11it [00:07,  1.40it/s]\u001b[A\n",
      "12it [00:08,  1.40it/s]\u001b[A\n",
      "13it [00:09,  1.41it/s]\u001b[A\n",
      "14it [00:09,  1.41it/s]\u001b[A\n",
      "15it [00:10,  1.42it/s]\u001b[A\n",
      "16it [00:11,  1.40it/s]\u001b[A\n",
      "17it [00:12,  1.38it/s]\u001b[A\n",
      "18it [00:12,  1.36it/s]\u001b[A\n",
      "19it [00:13,  1.37it/s]\u001b[A\n",
      "20it [00:14,  1.38it/s]\u001b[A\n",
      "21it [00:15,  1.39it/s]\u001b[A\n",
      "22it [00:15,  1.40it/s]\u001b[A\n",
      "23it [00:16,  1.41it/s]\u001b[A\n",
      "24it [00:17,  1.41it/s]\u001b[A\n",
      "25it [00:17,  1.40it/s]\u001b[A\n",
      "26it [00:18,  1.41it/s]\u001b[A\n",
      "27it [00:19,  1.41it/s]\u001b[A\n",
      "28it [00:19,  1.41it/s]\u001b[A\n",
      "29it [00:20,  1.42it/s]\u001b[A\n",
      " 88%|████████▊ | 88/100 [32:58<04:27, 22.27s/it]"
     ]
    },
    {
     "name": "stdout",
     "output_type": "stream",
     "text": [
      "\n",
      "Validate: Average loss: 0.4151, Average Metric: 1.9042\n",
      "\n"
     ]
    },
    {
     "name": "stderr",
     "output_type": "stream",
     "text": [
      "\n",
      "0it [00:00, ?it/s]\u001b[A\n",
      "1it [00:00,  1.39it/s]\u001b[A"
     ]
    },
    {
     "name": "stdout",
     "output_type": "stream",
     "text": [
      "Train Epoch: 88 [0/57 (0%)]\tLoss: 0.220974\n"
     ]
    },
    {
     "name": "stderr",
     "output_type": "stream",
     "text": [
      "\n",
      "2it [00:01,  1.40it/s]\u001b[A\n",
      "3it [00:02,  1.41it/s]\u001b[A\n",
      "4it [00:02,  1.41it/s]\u001b[A\n",
      "5it [00:03,  1.40it/s]\u001b[A\n",
      "6it [00:04,  1.41it/s]\u001b[A\n",
      "7it [00:04,  1.41it/s]\u001b[A\n",
      "8it [00:05,  1.41it/s]\u001b[A\n",
      "9it [00:06,  1.39it/s]\u001b[A\n",
      "10it [00:07,  1.41it/s]\u001b[A\n",
      "11it [00:07,  1.41it/s]\u001b[A\n",
      "12it [00:08,  1.42it/s]\u001b[A\n",
      "13it [00:09,  1.42it/s]\u001b[A\n",
      "14it [00:09,  1.42it/s]\u001b[A\n",
      "15it [00:10,  1.42it/s]\u001b[A\n",
      "16it [00:11,  1.42it/s]\u001b[A\n",
      "17it [00:12,  1.43it/s]\u001b[A\n",
      "18it [00:12,  1.43it/s]\u001b[A\n",
      "19it [00:13,  1.42it/s]\u001b[A\n",
      "20it [00:14,  1.42it/s]\u001b[A\n",
      "21it [00:14,  1.41it/s]\u001b[A\n",
      "22it [00:15,  1.41it/s]\u001b[A\n",
      "23it [00:16,  1.41it/s]\u001b[A\n",
      "24it [00:17,  1.39it/s]\u001b[A\n",
      "25it [00:17,  1.39it/s]\u001b[A\n",
      "26it [00:18,  1.40it/s]\u001b[A\n",
      "27it [00:19,  1.40it/s]\u001b[A\n",
      "28it [00:19,  1.41it/s]\u001b[A\n",
      "29it [00:20,  1.43it/s]\u001b[A\n",
      " 89%|████████▉ | 89/100 [33:20<04:04, 22.24s/it]"
     ]
    },
    {
     "name": "stdout",
     "output_type": "stream",
     "text": [
      "\n",
      "Validate: Average loss: 0.3366, Average Metric: 1.9100\n",
      "\n"
     ]
    },
    {
     "name": "stderr",
     "output_type": "stream",
     "text": [
      "\n",
      "0it [00:00, ?it/s]\u001b[A\n",
      "1it [00:00,  1.41it/s]\u001b[A"
     ]
    },
    {
     "name": "stdout",
     "output_type": "stream",
     "text": [
      "Train Epoch: 89 [0/57 (0%)]\tLoss: 0.275123\n"
     ]
    },
    {
     "name": "stderr",
     "output_type": "stream",
     "text": [
      "\n",
      "2it [00:01,  1.40it/s]\u001b[A\n",
      "3it [00:02,  1.41it/s]\u001b[A\n",
      "4it [00:02,  1.41it/s]\u001b[A\n",
      "5it [00:03,  1.41it/s]\u001b[A\n",
      "6it [00:04,  1.41it/s]\u001b[A\n",
      "7it [00:05,  1.39it/s]\u001b[A\n",
      "8it [00:05,  1.40it/s]\u001b[A\n",
      "9it [00:06,  1.41it/s]\u001b[A\n",
      "10it [00:07,  1.41it/s]\u001b[A\n",
      "11it [00:07,  1.42it/s]\u001b[A\n",
      "12it [00:08,  1.42it/s]\u001b[A\n",
      "13it [00:09,  1.37it/s]\u001b[A\n",
      "14it [00:09,  1.39it/s]\u001b[A\n",
      "15it [00:10,  1.40it/s]\u001b[A\n",
      "16it [00:11,  1.40it/s]\u001b[A\n",
      "17it [00:12,  1.41it/s]\u001b[A\n",
      "18it [00:12,  1.41it/s]\u001b[A\n",
      "19it [00:13,  1.37it/s]\u001b[A\n",
      "20it [00:14,  1.35it/s]\u001b[A\n",
      "21it [00:15,  1.37it/s]\u001b[A\n",
      "22it [00:15,  1.38it/s]\u001b[A\n",
      "23it [00:16,  1.38it/s]\u001b[A\n",
      "24it [00:17,  1.37it/s]\u001b[A\n",
      "25it [00:17,  1.38it/s]\u001b[A\n",
      "26it [00:18,  1.39it/s]\u001b[A\n",
      "27it [00:19,  1.39it/s]\u001b[A\n",
      "28it [00:20,  1.40it/s]\u001b[A\n",
      "29it [00:20,  1.41it/s]\u001b[A\n",
      " 90%|█████████ | 90/100 [33:42<03:42, 22.26s/it]"
     ]
    },
    {
     "name": "stdout",
     "output_type": "stream",
     "text": [
      "\n",
      "Validate: Average loss: 0.3016, Average Metric: 1.9111\n",
      "\n"
     ]
    },
    {
     "name": "stderr",
     "output_type": "stream",
     "text": [
      "\n",
      "0it [00:00, ?it/s]\u001b[A\n",
      "1it [00:00,  1.41it/s]\u001b[A"
     ]
    },
    {
     "name": "stdout",
     "output_type": "stream",
     "text": [
      "Train Epoch: 90 [0/57 (0%)]\tLoss: 0.174444\n"
     ]
    },
    {
     "name": "stderr",
     "output_type": "stream",
     "text": [
      "\n",
      "2it [00:01,  1.43it/s]\u001b[A\n",
      "3it [00:02,  1.41it/s]\u001b[A\n",
      "4it [00:02,  1.42it/s]\u001b[A\n",
      "5it [00:03,  1.41it/s]\u001b[A\n",
      "6it [00:04,  1.41it/s]\u001b[A\n",
      "7it [00:04,  1.41it/s]\u001b[A\n",
      "8it [00:05,  1.42it/s]\u001b[A\n",
      "9it [00:06,  1.42it/s]\u001b[A\n",
      "10it [00:07,  1.41it/s]\u001b[A\n",
      "11it [00:07,  1.40it/s]\u001b[A\n",
      "12it [00:08,  1.41it/s]\u001b[A\n",
      "13it [00:09,  1.41it/s]\u001b[A\n",
      "14it [00:09,  1.41it/s]\u001b[A\n",
      "15it [00:10,  1.41it/s]\u001b[A\n",
      "16it [00:11,  1.42it/s]\u001b[A\n",
      "17it [00:12,  1.41it/s]\u001b[A\n",
      "18it [00:12,  1.41it/s]\u001b[A\n",
      "19it [00:13,  1.42it/s]\u001b[A\n",
      "20it [00:14,  1.41it/s]\u001b[A\n",
      "21it [00:14,  1.40it/s]\u001b[A\n",
      "22it [00:15,  1.39it/s]\u001b[A\n",
      "23it [00:16,  1.39it/s]\u001b[A\n",
      "24it [00:17,  1.37it/s]\u001b[A\n",
      "25it [00:17,  1.38it/s]\u001b[A\n",
      "26it [00:18,  1.38it/s]\u001b[A\n",
      "27it [00:19,  1.40it/s]\u001b[A\n",
      "28it [00:19,  1.41it/s]\u001b[A\n",
      "29it [00:20,  1.42it/s]\u001b[A\n",
      " 91%|█████████ | 91/100 [34:05<03:20, 22.26s/it]"
     ]
    },
    {
     "name": "stdout",
     "output_type": "stream",
     "text": [
      "\n",
      "Validate: Average loss: 0.3323, Average Metric: 1.9052\n",
      "\n"
     ]
    },
    {
     "name": "stderr",
     "output_type": "stream",
     "text": [
      "\n",
      "0it [00:00, ?it/s]\u001b[A\n",
      "1it [00:00,  1.40it/s]\u001b[A"
     ]
    },
    {
     "name": "stdout",
     "output_type": "stream",
     "text": [
      "Train Epoch: 91 [0/57 (0%)]\tLoss: 0.229192\n"
     ]
    },
    {
     "name": "stderr",
     "output_type": "stream",
     "text": [
      "\n",
      "2it [00:01,  1.37it/s]\u001b[A\n",
      "3it [00:02,  1.39it/s]\u001b[A\n",
      "4it [00:02,  1.39it/s]\u001b[A\n",
      "5it [00:03,  1.40it/s]\u001b[A\n",
      "6it [00:04,  1.40it/s]\u001b[A\n",
      "7it [00:05,  1.40it/s]\u001b[A\n",
      "8it [00:05,  1.40it/s]\u001b[A\n",
      "9it [00:06,  1.41it/s]\u001b[A\n",
      "10it [00:07,  1.41it/s]\u001b[A\n",
      "11it [00:07,  1.41it/s]\u001b[A\n",
      "12it [00:08,  1.41it/s]\u001b[A\n",
      "13it [00:09,  1.40it/s]\u001b[A\n",
      "14it [00:09,  1.40it/s]\u001b[A\n",
      "15it [00:10,  1.40it/s]\u001b[A\n",
      "16it [00:11,  1.41it/s]\u001b[A\n",
      "17it [00:12,  1.41it/s]\u001b[A\n",
      "18it [00:12,  1.40it/s]\u001b[A\n",
      "19it [00:13,  1.41it/s]\u001b[A\n",
      "20it [00:14,  1.41it/s]\u001b[A\n",
      "21it [00:14,  1.41it/s]\u001b[A\n",
      "22it [00:15,  1.39it/s]\u001b[A\n",
      "23it [00:16,  1.40it/s]\u001b[A\n",
      "24it [00:17,  1.40it/s]\u001b[A\n",
      "25it [00:17,  1.40it/s]\u001b[A\n",
      "26it [00:18,  1.40it/s]\u001b[A\n",
      "27it [00:19,  1.41it/s]\u001b[A\n",
      "28it [00:19,  1.42it/s]\u001b[A\n",
      "29it [00:20,  1.42it/s]\u001b[A\n",
      " 92%|█████████▏| 92/100 [34:27<02:58, 22.26s/it]"
     ]
    },
    {
     "name": "stdout",
     "output_type": "stream",
     "text": [
      "\n",
      "Validate: Average loss: 0.3540, Average Metric: 1.9115\n",
      "\n"
     ]
    },
    {
     "name": "stderr",
     "output_type": "stream",
     "text": [
      "\n",
      "0it [00:00, ?it/s]\u001b[A\n",
      "1it [00:00,  1.41it/s]\u001b[A"
     ]
    },
    {
     "name": "stdout",
     "output_type": "stream",
     "text": [
      "Train Epoch: 92 [0/57 (0%)]\tLoss: 0.397549\n"
     ]
    },
    {
     "name": "stderr",
     "output_type": "stream",
     "text": [
      "\n",
      "2it [00:01,  1.40it/s]\u001b[A\n",
      "3it [00:02,  1.41it/s]\u001b[A\n",
      "4it [00:02,  1.43it/s]\u001b[A\n",
      "5it [00:03,  1.42it/s]\u001b[A\n",
      "6it [00:04,  1.42it/s]\u001b[A\n",
      "7it [00:04,  1.43it/s]\u001b[A\n",
      "8it [00:05,  1.43it/s]\u001b[A\n",
      "9it [00:06,  1.42it/s]\u001b[A\n",
      "10it [00:07,  1.43it/s]\u001b[A\n",
      "11it [00:07,  1.42it/s]\u001b[A\n",
      "12it [00:08,  1.42it/s]\u001b[A\n",
      "13it [00:09,  1.40it/s]\u001b[A\n",
      "14it [00:09,  1.41it/s]\u001b[A\n",
      "15it [00:10,  1.40it/s]\u001b[A\n",
      "16it [00:11,  1.41it/s]\u001b[A\n",
      "17it [00:12,  1.35it/s]\u001b[A\n",
      "18it [00:12,  1.33it/s]\u001b[A\n",
      "19it [00:13,  1.36it/s]\u001b[A\n",
      "20it [00:14,  1.37it/s]\u001b[A\n",
      "21it [00:15,  1.38it/s]\u001b[A\n",
      "22it [00:15,  1.39it/s]\u001b[A\n",
      "23it [00:16,  1.40it/s]\u001b[A\n",
      "24it [00:17,  1.40it/s]\u001b[A\n",
      "25it [00:17,  1.40it/s]\u001b[A\n",
      "26it [00:18,  1.38it/s]\u001b[A\n",
      "27it [00:19,  1.38it/s]\u001b[A\n",
      "28it [00:20,  1.38it/s]\u001b[A\n",
      "29it [00:20,  1.41it/s]\u001b[A\n",
      " 93%|█████████▎| 93/100 [34:49<02:35, 22.28s/it]"
     ]
    },
    {
     "name": "stdout",
     "output_type": "stream",
     "text": [
      "\n",
      "Validate: Average loss: 0.3449, Average Metric: 1.9087\n",
      "\n"
     ]
    },
    {
     "name": "stderr",
     "output_type": "stream",
     "text": [
      "\n",
      "0it [00:00, ?it/s]\u001b[A\n",
      "1it [00:00,  1.41it/s]\u001b[A"
     ]
    },
    {
     "name": "stdout",
     "output_type": "stream",
     "text": [
      "Train Epoch: 93 [0/57 (0%)]\tLoss: 0.184665\n"
     ]
    },
    {
     "name": "stderr",
     "output_type": "stream",
     "text": [
      "\n",
      "2it [00:01,  1.41it/s]\u001b[A\n",
      "3it [00:02,  1.41it/s]\u001b[A\n",
      "4it [00:02,  1.38it/s]\u001b[A\n",
      "5it [00:03,  1.38it/s]\u001b[A\n",
      "6it [00:04,  1.36it/s]\u001b[A\n",
      "7it [00:05,  1.37it/s]\u001b[A\n",
      "8it [00:05,  1.33it/s]\u001b[A\n",
      "9it [00:06,  1.36it/s]\u001b[A\n",
      "10it [00:07,  1.37it/s]\u001b[A\n",
      "11it [00:07,  1.39it/s]\u001b[A\n",
      "12it [00:08,  1.40it/s]\u001b[A\n",
      "13it [00:09,  1.40it/s]\u001b[A\n",
      "14it [00:10,  1.41it/s]\u001b[A\n",
      "15it [00:10,  1.41it/s]\u001b[A\n",
      "16it [00:11,  1.42it/s]\u001b[A\n",
      "17it [00:12,  1.41it/s]\u001b[A\n",
      "18it [00:12,  1.41it/s]\u001b[A\n",
      "19it [00:13,  1.40it/s]\u001b[A\n",
      "20it [00:14,  1.40it/s]\u001b[A\n",
      "21it [00:15,  1.41it/s]\u001b[A\n",
      "22it [00:15,  1.41it/s]\u001b[A\n",
      "23it [00:16,  1.42it/s]\u001b[A\n",
      "24it [00:17,  1.39it/s]\u001b[A\n",
      "25it [00:17,  1.39it/s]\u001b[A\n",
      "26it [00:18,  1.39it/s]\u001b[A\n",
      "27it [00:19,  1.39it/s]\u001b[A\n",
      "28it [00:20,  1.39it/s]\u001b[A\n",
      "29it [00:20,  1.41it/s]\u001b[A\n",
      " 94%|█████████▍| 94/100 [35:12<02:13, 22.32s/it]"
     ]
    },
    {
     "name": "stdout",
     "output_type": "stream",
     "text": [
      "\n",
      "Validate: Average loss: 0.3178, Average Metric: 1.9107\n",
      "\n"
     ]
    },
    {
     "name": "stderr",
     "output_type": "stream",
     "text": [
      "\n",
      "0it [00:00, ?it/s]\u001b[A\n",
      "1it [00:00,  1.39it/s]\u001b[A"
     ]
    },
    {
     "name": "stdout",
     "output_type": "stream",
     "text": [
      "Train Epoch: 94 [0/57 (0%)]\tLoss: 0.187564\n"
     ]
    },
    {
     "name": "stderr",
     "output_type": "stream",
     "text": [
      "\n",
      "2it [00:01,  1.42it/s]\u001b[A\n",
      "3it [00:02,  1.40it/s]\u001b[A\n",
      "4it [00:02,  1.39it/s]\u001b[A\n",
      "5it [00:03,  1.35it/s]\u001b[A\n",
      "6it [00:04,  1.35it/s]\u001b[A\n",
      "7it [00:05,  1.37it/s]\u001b[A\n",
      "8it [00:05,  1.38it/s]\u001b[A\n",
      "9it [00:06,  1.39it/s]\u001b[A\n",
      "10it [00:07,  1.39it/s]\u001b[A\n",
      "11it [00:07,  1.40it/s]\u001b[A\n",
      "12it [00:08,  1.40it/s]\u001b[A\n",
      "13it [00:09,  1.40it/s]\u001b[A\n",
      "14it [00:10,  1.41it/s]\u001b[A\n",
      "15it [00:10,  1.38it/s]\u001b[A\n",
      "16it [00:11,  1.39it/s]\u001b[A\n",
      "17it [00:12,  1.40it/s]\u001b[A\n",
      "18it [00:12,  1.40it/s]\u001b[A\n",
      "19it [00:13,  1.40it/s]\u001b[A\n",
      "20it [00:14,  1.40it/s]\u001b[A\n",
      "21it [00:15,  1.40it/s]\u001b[A\n",
      "22it [00:15,  1.41it/s]\u001b[A\n",
      "23it [00:16,  1.41it/s]\u001b[A\n",
      "24it [00:17,  1.41it/s]\u001b[A\n",
      "25it [00:17,  1.41it/s]\u001b[A\n",
      "26it [00:18,  1.41it/s]\u001b[A\n",
      "27it [00:19,  1.41it/s]\u001b[A\n",
      "28it [00:20,  1.41it/s]\u001b[A\n",
      "29it [00:20,  1.41it/s]\u001b[A\n",
      " 95%|█████████▌| 95/100 [35:34<01:51, 22.32s/it]"
     ]
    },
    {
     "name": "stdout",
     "output_type": "stream",
     "text": [
      "\n",
      "Validate: Average loss: 0.2826, Average Metric: 1.9111\n",
      "\n"
     ]
    },
    {
     "name": "stderr",
     "output_type": "stream",
     "text": [
      "\n",
      "0it [00:00, ?it/s]\u001b[A\n",
      "1it [00:00,  1.42it/s]\u001b[A"
     ]
    },
    {
     "name": "stdout",
     "output_type": "stream",
     "text": [
      "Train Epoch: 95 [0/57 (0%)]\tLoss: 0.142867\n"
     ]
    },
    {
     "name": "stderr",
     "output_type": "stream",
     "text": [
      "\n",
      "2it [00:01,  1.41it/s]\u001b[A\n",
      "3it [00:02,  1.41it/s]\u001b[A\n",
      "4it [00:02,  1.35it/s]\u001b[A\n",
      "5it [00:03,  1.37it/s]\u001b[A\n",
      "6it [00:04,  1.37it/s]\u001b[A\n",
      "7it [00:05,  1.38it/s]\u001b[A\n",
      "8it [00:05,  1.40it/s]\u001b[A\n",
      "9it [00:06,  1.40it/s]\u001b[A\n",
      "10it [00:07,  1.41it/s]\u001b[A\n",
      "11it [00:07,  1.40it/s]\u001b[A\n",
      "12it [00:08,  1.40it/s]\u001b[A\n",
      "13it [00:09,  1.41it/s]\u001b[A\n",
      "14it [00:10,  1.41it/s]\u001b[A\n",
      "15it [00:10,  1.40it/s]\u001b[A\n",
      "16it [00:11,  1.40it/s]\u001b[A\n",
      "17it [00:12,  1.40it/s]\u001b[A\n",
      "18it [00:12,  1.40it/s]\u001b[A\n",
      "19it [00:13,  1.41it/s]\u001b[A\n",
      "20it [00:14,  1.41it/s]\u001b[A\n",
      "21it [00:15,  1.41it/s]\u001b[A\n",
      "22it [00:15,  1.41it/s]\u001b[A\n",
      "23it [00:16,  1.41it/s]\u001b[A\n",
      "24it [00:17,  1.41it/s]\u001b[A\n",
      "25it [00:17,  1.41it/s]\u001b[A\n",
      "26it [00:18,  1.37it/s]\u001b[A\n",
      "27it [00:19,  1.39it/s]\u001b[A\n",
      "28it [00:20,  1.40it/s]\u001b[A\n",
      "29it [00:20,  1.42it/s]\u001b[A\n",
      " 96%|█████████▌| 96/100 [35:56<01:29, 22.33s/it]"
     ]
    },
    {
     "name": "stdout",
     "output_type": "stream",
     "text": [
      "\n",
      "Validate: Average loss: 0.3072, Average Metric: 1.9122\n",
      "\n"
     ]
    },
    {
     "name": "stderr",
     "output_type": "stream",
     "text": [
      "\n",
      "0it [00:00, ?it/s]\u001b[A\n",
      "1it [00:00,  1.40it/s]\u001b[A"
     ]
    },
    {
     "name": "stdout",
     "output_type": "stream",
     "text": [
      "Train Epoch: 96 [0/57 (0%)]\tLoss: 0.168783\n"
     ]
    },
    {
     "name": "stderr",
     "output_type": "stream",
     "text": [
      "\n",
      "2it [00:01,  1.40it/s]\u001b[A\n",
      "3it [00:02,  1.40it/s]\u001b[A\n",
      "4it [00:02,  1.40it/s]\u001b[A\n",
      "5it [00:03,  1.40it/s]\u001b[A\n",
      "6it [00:04,  1.41it/s]\u001b[A\n",
      "7it [00:04,  1.42it/s]\u001b[A\n",
      "8it [00:05,  1.42it/s]\u001b[A\n",
      "9it [00:06,  1.42it/s]\u001b[A\n",
      "10it [00:07,  1.42it/s]\u001b[A\n",
      "11it [00:07,  1.42it/s]\u001b[A\n",
      "12it [00:08,  1.42it/s]\u001b[A\n",
      "13it [00:09,  1.42it/s]\u001b[A\n",
      "14it [00:09,  1.42it/s]\u001b[A\n",
      "15it [00:10,  1.42it/s]\u001b[A\n",
      "16it [00:11,  1.42it/s]\u001b[A\n",
      "17it [00:12,  1.41it/s]\u001b[A\n",
      "18it [00:12,  1.42it/s]\u001b[A\n",
      "19it [00:13,  1.42it/s]\u001b[A\n",
      "20it [00:14,  1.42it/s]\u001b[A\n",
      "21it [00:14,  1.42it/s]\u001b[A\n",
      "22it [00:15,  1.42it/s]\u001b[A\n",
      "23it [00:16,  1.42it/s]\u001b[A\n",
      "24it [00:16,  1.42it/s]\u001b[A\n",
      "25it [00:17,  1.42it/s]\u001b[A\n",
      "26it [00:18,  1.42it/s]\u001b[A\n",
      "27it [00:19,  1.42it/s]\u001b[A\n",
      "28it [00:19,  1.42it/s]\u001b[A\n",
      "29it [00:20,  1.43it/s]\u001b[A\n",
      " 97%|█████████▋| 97/100 [36:18<01:06, 22.26s/it]"
     ]
    },
    {
     "name": "stdout",
     "output_type": "stream",
     "text": [
      "\n",
      "Validate: Average loss: 0.3761, Average Metric: 1.9064\n",
      "\n"
     ]
    },
    {
     "name": "stderr",
     "output_type": "stream",
     "text": [
      "\n",
      "0it [00:00, ?it/s]\u001b[A\n",
      "1it [00:00,  1.39it/s]\u001b[A"
     ]
    },
    {
     "name": "stdout",
     "output_type": "stream",
     "text": [
      "Train Epoch: 97 [0/57 (0%)]\tLoss: 0.284003\n"
     ]
    },
    {
     "name": "stderr",
     "output_type": "stream",
     "text": [
      "\n",
      "2it [00:01,  1.41it/s]\u001b[A\n",
      "3it [00:02,  1.41it/s]\u001b[A\n",
      "4it [00:02,  1.40it/s]\u001b[A\n",
      "5it [00:03,  1.40it/s]\u001b[A\n",
      "6it [00:04,  1.40it/s]\u001b[A\n",
      "7it [00:05,  1.39it/s]\u001b[A\n",
      "8it [00:05,  1.36it/s]\u001b[A\n",
      "9it [00:06,  1.37it/s]\u001b[A\n",
      "10it [00:07,  1.39it/s]\u001b[A\n",
      "11it [00:07,  1.40it/s]\u001b[A\n",
      "12it [00:08,  1.40it/s]\u001b[A\n",
      "13it [00:09,  1.41it/s]\u001b[A\n",
      "14it [00:10,  1.40it/s]\u001b[A\n",
      "15it [00:10,  1.41it/s]\u001b[A\n",
      "16it [00:11,  1.42it/s]\u001b[A\n",
      "17it [00:12,  1.42it/s]\u001b[A\n",
      "18it [00:12,  1.42it/s]\u001b[A\n",
      "19it [00:13,  1.42it/s]\u001b[A\n",
      "20it [00:14,  1.42it/s]\u001b[A\n",
      "21it [00:14,  1.42it/s]\u001b[A\n",
      "22it [00:15,  1.42it/s]\u001b[A\n",
      "23it [00:16,  1.42it/s]\u001b[A\n",
      "24it [00:17,  1.42it/s]\u001b[A\n",
      "25it [00:17,  1.42it/s]\u001b[A\n",
      "26it [00:18,  1.41it/s]\u001b[A\n",
      "27it [00:19,  1.42it/s]\u001b[A\n",
      "28it [00:19,  1.39it/s]\u001b[A\n",
      "29it [00:20,  1.42it/s]\u001b[A\n",
      " 98%|█████████▊| 98/100 [36:41<00:44, 22.27s/it]"
     ]
    },
    {
     "name": "stdout",
     "output_type": "stream",
     "text": [
      "\n",
      "Validate: Average loss: 0.3465, Average Metric: 1.9095\n",
      "\n"
     ]
    },
    {
     "name": "stderr",
     "output_type": "stream",
     "text": [
      "\n",
      "0it [00:00, ?it/s]\u001b[A\n",
      "1it [00:00,  1.30it/s]\u001b[A"
     ]
    },
    {
     "name": "stdout",
     "output_type": "stream",
     "text": [
      "Train Epoch: 98 [0/57 (0%)]\tLoss: 0.301097\n"
     ]
    },
    {
     "name": "stderr",
     "output_type": "stream",
     "text": [
      "\n",
      "2it [00:01,  1.37it/s]\u001b[A\n",
      "3it [00:02,  1.38it/s]\u001b[A\n",
      "4it [00:02,  1.39it/s]\u001b[A\n",
      "5it [00:03,  1.40it/s]\u001b[A\n",
      "6it [00:04,  1.41it/s]\u001b[A\n",
      "7it [00:05,  1.42it/s]\u001b[A\n",
      "8it [00:05,  1.42it/s]\u001b[A\n",
      "9it [00:06,  1.42it/s]\u001b[A\n",
      "10it [00:07,  1.43it/s]\u001b[A\n",
      "11it [00:07,  1.43it/s]\u001b[A\n",
      "12it [00:08,  1.40it/s]\u001b[A\n",
      "13it [00:09,  1.40it/s]\u001b[A\n",
      "14it [00:09,  1.40it/s]\u001b[A\n",
      "15it [00:10,  1.39it/s]\u001b[A\n",
      "16it [00:11,  1.39it/s]\u001b[A\n",
      "17it [00:12,  1.39it/s]\u001b[A\n",
      "18it [00:12,  1.40it/s]\u001b[A\n",
      "19it [00:13,  1.37it/s]\u001b[A\n",
      "20it [00:14,  1.39it/s]\u001b[A\n",
      "21it [00:15,  1.40it/s]\u001b[A\n",
      "22it [00:15,  1.41it/s]\u001b[A\n",
      "23it [00:16,  1.41it/s]\u001b[A\n",
      "24it [00:17,  1.41it/s]\u001b[A\n",
      "25it [00:17,  1.40it/s]\u001b[A\n",
      "26it [00:18,  1.41it/s]\u001b[A\n",
      "27it [00:19,  1.41it/s]\u001b[A\n",
      "28it [00:19,  1.41it/s]\u001b[A\n",
      "29it [00:20,  1.42it/s]\u001b[A\n",
      " 99%|█████████▉| 99/100 [37:03<00:22, 22.25s/it]"
     ]
    },
    {
     "name": "stdout",
     "output_type": "stream",
     "text": [
      "\n",
      "Validate: Average loss: 0.3113, Average Metric: 1.9108\n",
      "\n"
     ]
    },
    {
     "name": "stderr",
     "output_type": "stream",
     "text": [
      "\n",
      "0it [00:00, ?it/s]\u001b[A\n",
      "1it [00:00,  1.40it/s]\u001b[A"
     ]
    },
    {
     "name": "stdout",
     "output_type": "stream",
     "text": [
      "Train Epoch: 99 [0/57 (0%)]\tLoss: 0.213020\n"
     ]
    },
    {
     "name": "stderr",
     "output_type": "stream",
     "text": [
      "\n",
      "2it [00:01,  1.42it/s]\u001b[A\n",
      "3it [00:02,  1.41it/s]\u001b[A\n",
      "4it [00:02,  1.42it/s]\u001b[A\n",
      "5it [00:03,  1.41it/s]\u001b[A\n",
      "6it [00:04,  1.41it/s]\u001b[A\n",
      "7it [00:04,  1.41it/s]\u001b[A\n",
      "8it [00:05,  1.41it/s]\u001b[A\n",
      "9it [00:06,  1.41it/s]\u001b[A\n",
      "10it [00:07,  1.40it/s]\u001b[A\n",
      "11it [00:07,  1.40it/s]\u001b[A\n",
      "12it [00:08,  1.41it/s]\u001b[A\n",
      "13it [00:09,  1.41it/s]\u001b[A\n",
      "14it [00:09,  1.43it/s]\u001b[A\n",
      "15it [00:10,  1.42it/s]\u001b[A\n",
      "16it [00:11,  1.41it/s]\u001b[A\n",
      "17it [00:12,  1.41it/s]\u001b[A\n",
      "18it [00:12,  1.42it/s]\u001b[A\n",
      "19it [00:13,  1.42it/s]\u001b[A\n",
      "20it [00:14,  1.43it/s]\u001b[A\n",
      "21it [00:14,  1.43it/s]\u001b[A\n",
      "22it [00:15,  1.43it/s]\u001b[A\n",
      "23it [00:16,  1.42it/s]\u001b[A\n",
      "24it [00:16,  1.43it/s]\u001b[A\n",
      "25it [00:17,  1.42it/s]\u001b[A\n",
      "26it [00:18,  1.42it/s]\u001b[A\n",
      "27it [00:19,  1.42it/s]\u001b[A\n",
      "28it [00:19,  1.42it/s]\u001b[A\n",
      "29it [00:20,  1.43it/s]\u001b[A\n",
      "100%|██████████| 100/100 [37:25<00:00, 22.45s/it]"
     ]
    },
    {
     "name": "stdout",
     "output_type": "stream",
     "text": [
      "\n",
      "Validate: Average loss: 0.3201, Average Metric: 1.9123\n",
      "\n"
     ]
    },
    {
     "name": "stderr",
     "output_type": "stream",
     "text": [
      "\n"
     ]
    }
   ],
   "source": [
    "# during the training you can inspect the \n",
    "# predictions in the tensorboard\n",
    "n_epochs = 100\n",
    "for epoch in trange(n_epochs):\n",
    "    # train TODO: YOUR CODE HERE add save torch.save(net, \"model.pt\")\n",
    "    train(model, train_loader, loss_function, optimizer,\n",
    "                device, epoch, tb_logger=tb_logger)\n",
    "    step = (epoch +1) * len(train_loader.dataset)\n",
    "    # validate TODO: YOUR CODE HERE\n",
    "    validate(model, val_loader, loss_function,\n",
    "                   metric, step,\n",
    "                   tb_logger=tb_logger)\n",
    "    torch.save(model, \"DiceAug_model3_{}.pt\".format(epoch))"
   ]
  },
  {
   "cell_type": "code",
   "execution_count": 15,
   "id": "1ada9a41-9a1d-42a5-8c69-1404aa0d894a",
   "metadata": {},
   "outputs": [
    {
     "name": "stdout",
     "output_type": "stream",
     "text": [
      "\n",
      "Validate: Average loss: 0.0542, Average Metric: 0.0002\n",
      "\n"
     ]
    }
   ],
   "source": [
    "\n",
    "#model = model()\n",
    "#state = torch.load('./model.pt')\n",
    "#model.load_state_dict(state)\n",
    "\n",
    "model = torch.load('./model_99.pt')\n",
    "validate(model, test_loader, loss_function,\n",
    "                   metric, step,\n",
    "                   tb_logger=tb_logger)\n"
   ]
  },
  {
   "cell_type": "code",
   "execution_count": 16,
   "id": "c5869315-2cfe-430f-b3b2-6a8eb3b4bb30",
   "metadata": {},
   "outputs": [],
   "source": [
    "test_data = DrosoMicroCT('./Project5_Drosophila_microCT_segmentation/resize2/test')\n",
    "test_loader = DataLoader(test_data, batch_size=2)"
   ]
  },
  {
   "cell_type": "code",
   "execution_count": 19,
   "id": "c5aed783-692a-45fb-930d-091bb4027f22",
   "metadata": {},
   "outputs": [
    {
     "name": "stderr",
     "output_type": "stream",
     "text": [
      "WARNING: could not determine DPI\n"
     ]
    },
    {
     "data": {
      "text/plain": [
       "<Labels layer 'testlabel' at 0x7fd66431cfa0>"
      ]
     },
     "execution_count": 19,
     "metadata": {},
     "output_type": "execute_result"
    },
    {
     "name": "stderr",
     "output_type": "stream",
     "text": [
      "WARNING: QXcbConnection: XCB error: 3 (BadWindow), sequence: 8617, resource id: 16382384, major code: 40 (TranslateCoords), minor code: 0\n"
     ]
    }
   ],
   "source": [
    "testimage, testlabel=iter(test_loader).next()\n",
    "testimage = testimage.to(device)\n",
    "testlabel = testlabel.long()\n",
    "prediction = model(testimage)\n",
    "predictimage = torch.argmax(prediction, dim=1)\n",
    "predictimage=predictimage.to('cpu')\n",
    "predictimage=predictimage.detach().numpy()\n",
    "np.unique(predictimage)\n",
    "testimage = testimage.to('cpu')\n",
    "viewer = napari.view_image(testimage)\n",
    "viewer.add_labels(predictimage)\n",
    "viewer.add_labels(testlabel)\n"
   ]
  },
  {
   "cell_type": "code",
   "execution_count": null,
   "id": "cc70e8ac-8c72-47b5-8a23-faa897bec357",
   "metadata": {},
   "outputs": [],
   "source": []
  }
 ],
 "metadata": {
  "kernelspec": {
   "display_name": "DL for Image Analysis (PyTorch)",
   "language": "python",
   "name": "dl-pytorch"
  },
  "language_info": {
   "codemirror_mode": {
    "name": "ipython",
    "version": 3
   },
   "file_extension": ".py",
   "mimetype": "text/x-python",
   "name": "python",
   "nbconvert_exporter": "python",
   "pygments_lexer": "ipython3",
   "version": "3.8.12"
  }
 },
 "nbformat": 4,
 "nbformat_minor": 5
}
