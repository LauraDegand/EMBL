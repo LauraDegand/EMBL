{
 "cells": [
  {
   "cell_type": "code",
   "execution_count": 3,
   "id": "2942a59a-9693-4b7e-b6e0-daadae782196",
   "metadata": {},
   "outputs": [],
   "source": [
    "import os\n",
    "from glob import glob\n",
    "import numpy as np\n",
    "import matplotlib.pyplot as plt\n",
    "from imageio import imread\n",
    "from imageio import volread\n",
    "from skimage.transform import rescale\n",
    "from shutil import copyfile\n",
    "\n",
    "import tifffile\n",
    "from tqdm import tqdm\n",
    "import imageio "
   ]
  },
  {
   "cell_type": "code",
   "execution_count": 24,
   "id": "835eedb8-d5a2-4ade-b32e-87c7312348bf",
   "metadata": {},
   "outputs": [],
   "source": [
    "imgs_paths = glob('../dl-course-2022/Project5_Drosophila_microCT_segmentation/images/*.tif') ## browse every image paths names\n",
    "labels_paths = glob('../dl-course-2022/Project5_Drosophila_microCT_segmentation/labels/*.tif') ## browse every labels paths names"
   ]
  },
  {
   "cell_type": "markdown",
   "id": "99ef1715-50e6-4ba4-b5e1-fcb1ef240469",
   "metadata": {},
   "source": [
    "# Load every image\n"
   ]
  },
  {
   "cell_type": "code",
   "execution_count": 25,
   "id": "e57a9b3f-a81e-4459-9a17-bb431a0edf21",
   "metadata": {},
   "outputs": [
    {
     "name": "stderr",
     "output_type": "stream",
     "text": [
      "100%|██████████| 81/81 [00:48<00:00,  1.67it/s]\n"
     ]
    },
    {
     "name": "stdout",
     "output_type": "stream",
     "text": [
      "Number of images: 81\n"
     ]
    },
    {
     "name": "stderr",
     "output_type": "stream",
     "text": [
      "100%|██████████| 81/81 [00:48<00:00,  1.67it/s]"
     ]
    },
    {
     "name": "stdout",
     "output_type": "stream",
     "text": [
      "Number of labels: 81\n"
     ]
    },
    {
     "name": "stderr",
     "output_type": "stream",
     "text": [
      "\n"
     ]
    }
   ],
   "source": [
    "images=[]\n",
    "labels=[]\n",
    "\n",
    "for im_file in tqdm(imgs_paths):\n",
    "    images.append(imread(im_file))\n",
    "print('Number of images:' , len(images))\n",
    "\n",
    "for lbl_file in tqdm(labels_paths):\n",
    "    labels.append(imread(lbl_file))\n",
    "print('Number of labels:' , len(labels))"
   ]
  },
  {
   "cell_type": "code",
   "execution_count": 26,
   "id": "751d5eae-0bba-43ef-bdb2-c3b8ced879d5",
   "metadata": {},
   "outputs": [],
   "source": [
    "images = np.concatenate([im[None] for im in images], axis=0)\n",
    "labels = np.array(labels)"
   ]
  },
  {
   "cell_type": "markdown",
   "id": "e29cf7ab-1f4f-4067-b5f8-be423f90ca83",
   "metadata": {},
   "source": [
    "# Rescaled"
   ]
  },
  {
   "cell_type": "code",
   "execution_count": 45,
   "id": "abdf1d50-efb3-426d-bc0e-f151c2201c6a",
   "metadata": {},
   "outputs": [],
   "source": [
    "def to_target_shape(data , target_shape):\n",
    "    if data.shape == target_shape:\n",
    "        print('Yes')\n",
    "        return data\n",
    "    for dim , (sh , tsh) in enumerate(zip(data.shape , target_shape)):\n",
    "        if sh == tsh: # Already the target shape\n",
    "            continue \n",
    "        elif sh > tsh: # Need to crop data to obtain the tsh\n",
    "            crop_dim = tuple(slice(0, tsh) if i == dim else slice(None) for i in range(data.ndim))\n",
    "            data = data[crop_dim]\n",
    "        else: # Need to padd - data smaller than target shape\n",
    "            padd_value = tsh - sh\n",
    "            padding = [(0, padd_value) if i == dim else (0, 0) for i in range(data.ndim)]\n",
    "            data = np.pad(data , padding)\n",
    "    assert data.shape == target_shape\n",
    "    return data\n",
    "\n",
    "def rescale_volume(im_path , scale_factor , target_shape , im_output_folder , lbl_output_folder):\n",
    "    label_path = im_path.replace(\"images\" , \"labels\").replace(\"Rec\" , \"Rec_labels\")\n",
    "    volume = imageio.volread(im_path)\n",
    "    labels = imageio.volread(label_path)\n",
    "    if volume.shape != labels.shape:\n",
    "        return\n",
    "    volume = rescale(volume , scale=scale_factor , preserve_range=True)\n",
    "    labels = rescale(labels , scale=scale_factor , order=0 , preserve_range=True, anti_aliasing=False).astype(labels.dtype)\n",
    "    volume = to_target_shape(volume , target_shape)\n",
    "    labels = to_target_shape(labels , target_shape)\n",
    "    #save the new volume in the rescaled_folder:\n",
    "    im_name = os.path.split(im_path)[1]\n",
    "    imageio.volwrite(os.path.join(im_output_folder , im_name ) ,  volume)\n",
    "    lbl_name = os.path.split(label_path)[1]\n",
    "    imageio.volwrite(os.path.join(lbl_output_folder , lbl_name) ,  labels)\n",
    "             \n",
    "def rescaled_data(input_folder , dataset_folder):\n",
    "    output_folder = os.path.join(input_folder , 'rescaled')\n",
    "    im_resc_folder = os.path.join(output_folder , 'images')\n",
    "    labels_resc_folder = os.path.join(output_folder , 'labels')\n",
    "    os.makedirs(im_resc_folder , exist_ok=True)\n",
    "    os.makedirs(labels_resc_folder , exist_ok=True)\n",
    "    image_paths = glob(os.path.join(dataset_folder, \"images\", \"*.tif\"))\n",
    "    scale_factor = (1. / 8, 1. / 4, 1. / 4)\n",
    "    target_shape = (128,) * 3\n",
    "    for im_path in tqdm(image_paths):\n",
    "        rescale_volume(im_path , scale_factor , target_shape , im_resc_folder , labels_resc_folder)\n",
    "    return output_folder"
   ]
  },
  {
   "cell_type": "code",
   "execution_count": 46,
   "id": "2086ce83-148e-4c78-8dcb-05d2719bffc5",
   "metadata": {},
   "outputs": [
    {
     "name": "stderr",
     "output_type": "stream",
     "text": [
      "100%|██████████| 81/81 [26:58<00:00, 19.98s/it]\n"
     ]
    }
   ],
   "source": [
    "input_folder = os.getcwd()\n",
    "dataset_path = '../dl-course-2022/Project5_Drosophila_microCT_segmentation/'\n",
    "# Rescaled dataset\n",
    "output_folder = rescaled_data(input_folder , dataset_path)"
   ]
  },
  {
   "cell_type": "code",
   "execution_count": 44,
   "id": "845b8230-4578-4cf5-9b63-c51e5cf2fd09",
   "metadata": {},
   "outputs": [],
   "source": [
    "import shutil\n",
    "#shutil.rmtree(output_folder)"
   ]
  },
  {
   "cell_type": "markdown",
   "id": "162a3540-cbee-4070-bb4f-92e126ba40dd",
   "metadata": {},
   "source": [
    "# Make splits"
   ]
  },
  {
   "cell_type": "code",
   "execution_count": 48,
   "id": "ee9e49ea-e9eb-4af1-8992-32657b78ff3b",
   "metadata": {},
   "outputs": [],
   "source": [
    "# Make split\n",
    "def _make_split(output_folder):\n",
    "        image_paths = glob(os.path.join(output_folder , 'images', '*.tif'))\n",
    "        n_images = len(image_paths)\n",
    "        n_train = int(n_images * 0.7)\n",
    "        n_validation = int(n_images * 0.8)\n",
    "        \n",
    "        os.makedirs(os.path.join(output_folder , \"train\" , \"images\") , exist_ok=True)\n",
    "        os.makedirs(os.path.join(output_folder , \"train\" , \"labels\") , exist_ok=True)\n",
    "\n",
    "        os.makedirs(os.path.join(output_folder , \"validation\" , \"images\") , exist_ok=True)\n",
    "        os.makedirs(os.path.join(output_folder , \"validation\" , \"labels\") , exist_ok=True)\n",
    "\n",
    "        os.makedirs(os.path.join(output_folder , \"test\" , \"images\") , exist_ok=True)\n",
    "        os.makedirs(os.path.join(output_folder , \"test\" , \"labels\") , exist_ok=True)\n",
    "\n",
    "        for index , im_path in enumerate(image_paths):\n",
    "            lbl_path = im_path.replace(\"images\", \"labels\").replace(\"Rec.tif\", \"Rec_labels.tif\")\n",
    "            im_name = os.path.split(im_path)[1]\n",
    "            lbl_name = os.path.split(lbl_path)[1]\n",
    "\n",
    "            if index < n_train:\n",
    "                copyfile(im_path , os.path.join(output_folder ,\"train\", \"images\" , im_name))\n",
    "                copyfile(lbl_path , os.path.join(output_folder ,\"train\" , \"labels\" , lbl_name))\n",
    "\n",
    "            elif index < n_validation:\n",
    "                copyfile(im_path , os.path.join(output_folder , \"validation\" ,  \"images\" , im_name))\n",
    "                copyfile(lbl_path , os.path.join(output_folder ,\"validation\" , \"labels\" , lbl_name))\n",
    "\n",
    "            elif index < n_images:\n",
    "                copyfile(im_path , os.path.join(output_folder , \"test\" , \"images\" , im_name))\n",
    "                copyfile(lbl_path , os.path.join(output_folder ,\"test\" , \"labels\" , lbl_name))\n",
    "\n",
    "        \n",
    "\n",
    "_make_split(os.path.join(output_folder))"
   ]
  },
  {
   "cell_type": "code",
   "execution_count": null,
   "id": "80c61d4a-2966-4453-8530-5ffa0d98663e",
   "metadata": {},
   "outputs": [],
   "source": []
  }
 ],
 "metadata": {
  "kernelspec": {
   "display_name": "Python 3 (ipykernel)",
   "language": "python",
   "name": "python3"
  },
  "language_info": {
   "codemirror_mode": {
    "name": "ipython",
    "version": 3
   },
   "file_extension": ".py",
   "mimetype": "text/x-python",
   "name": "python",
   "nbconvert_exporter": "python",
   "pygments_lexer": "ipython3",
   "version": "3.9.6"
  }
 },
 "nbformat": 4,
 "nbformat_minor": 5
}
