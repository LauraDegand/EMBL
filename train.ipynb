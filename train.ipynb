{
 "cells": [
  {
   "cell_type": "code",
   "execution_count": 55,
   "id": "6edb38f9-ef25-450f-81a4-130b2d6d7099",
   "metadata": {},
   "outputs": [],
   "source": [
    "import os\n",
    "from glob import glob\n",
    "import torch\n",
    "import torch_em\n",
    "from torch_em.model import UNet3d\n",
    "#from torch_em.data.datasets import get_dsb_loader\n",
    "from torch.utils.data import Dataset, DataLoader\n",
    "import random"
   ]
  },
  {
   "cell_type": "code",
   "execution_count": 30,
   "id": "d34b5659-dae4-47ab-840b-4458d10f1319",
   "metadata": {},
   "outputs": [],
   "source": [
    "train_images = glob(os.path.join('./rescaled' , 'train' , 'images' , '*.tif'))\n",
    "train_labels = glob(os.path.join('./rescaled' , 'train' , 'labels' , '*.tif'))"
   ]
  },
  {
   "cell_type": "code",
   "execution_count": 15,
   "id": "cb6281d2-25a7-4002-ad79-4a965c2ace3f",
   "metadata": {},
   "outputs": [],
   "source": [
    "data = './rescaled/images'"
   ]
  },
  {
   "cell_type": "code",
   "execution_count": 19,
   "id": "1b05ac36-d875-40de-97ca-9b3aadefe787",
   "metadata": {},
   "outputs": [
    {
     "data": {
      "text/plain": [
       "17"
      ]
     },
     "execution_count": 19,
     "metadata": {},
     "output_type": "execute_result"
    }
   ],
   "source": [
    "len(data)"
   ]
  },
  {
   "cell_type": "code",
   "execution_count": 56,
   "id": "ba4e54c7-b351-4117-8c35-cfe9a987da48",
   "metadata": {},
   "outputs": [],
   "source": [
    "class Train_Dataset(Dataset):\n",
    "    def __init__(self, root_dir, transform=None):\n",
    "        self.root_dir = root_dir  # the directory with all the training samples\n",
    "        self.samples = os.listdir(root_dir) # list the samples\n",
    "        #self.transform = transform    # transformations to apply to both inputs and targets\n",
    "        \n",
    "    def __len__(self):\n",
    "        return len(self.samples)\n",
    "    \n",
    "    def __getitem__(self , idx):\n",
    "        \n",
    "\n",
    "        img_path = os.path.join(self.root_dir, self.samples[idx])\n",
    "        print(img_path)\n",
    "        '''\n",
    "        # we'll be using Pillow library for reading files\n",
    "        # since many torchvision transforms operate on PIL images \n",
    "        image = Image.open(img_path)\n",
    "        image = self.inp_transforms(image)\n",
    "        masks_dir = os.path.join(self.root_dir, self.samples[idx], 'masks')\n",
    "        # masks directory has multiple images - one mask per nucleus\n",
    "        masks_list = os.listdir(masks_dir)\n",
    "        # create an empty array\n",
    "        mask = torch.zeros_like(image)\n",
    "        # iterate through the images to sum them up to one mask\n",
    "        for mask_name in masks_list:\n",
    "            one_nuclei_mask = Image.open(os.path.join(masks_dir, mask_name))\n",
    "            # erode the image by one pixel\n",
    "            # TASK: guess why is this done?\n",
    "            one_nuclei_mask = binary_erosion(one_nuclei_mask)\n",
    "            one_nuclei_mask = self.mask_transforms(one_nuclei_mask)\n",
    "            # add this nucleus to the mask\n",
    "            mask += one_nuclei_mask\n",
    "        if self.transform is not None:\n",
    "            image, mask = self.transform([image, mask])\n",
    "        '''\n",
    "        return img_path\n",
    "        "
   ]
  },
  {
   "cell_type": "code",
   "execution_count": 52,
   "id": "40bd3e68-12da-48fb-82a1-c101703fddd2",
   "metadata": {},
   "outputs": [],
   "source": [
    "# in_channels = number of input channels -> Only 1\n",
    "# out_channels = number of segmentation mask -> 4 categories here to segmentate\n",
    "model = UNet3d(in_channels=1, out_channels=4)\n"
   ]
  },
  {
   "cell_type": "code",
   "execution_count": 62,
   "id": "2cc9ab76-914e-439f-b5f6-8bd98059ee42",
   "metadata": {},
   "outputs": [
    {
     "name": "stdout",
     "output_type": "stream",
     "text": [
      "./rescaled/train/images/OR_MF_29_Rec.tif\n"
     ]
    }
   ],
   "source": [
    "# training and validation data loader\n",
    "data_path = \"./rescaled/train/images\"  # the training data will be downloaded and saved here\n",
    "DataPath = Train_Dataset(data_path)\n",
    "#train_loader = DataLoader(data_path , batch_size=5 )\n",
    "img_path = Train_Dataset.__getitem__(DataPath , idx= random.randint(0, Train_Dataset.__len__(DataPath)))"
   ]
  },
  {
   "cell_type": "code",
   "execution_count": 60,
   "id": "6f897d28-e77f-4f49-b27a-a6bd4e8ae5a1",
   "metadata": {},
   "outputs": [
    {
     "data": {
      "text/plain": [
       "'./rescaled/train/images'"
      ]
     },
     "execution_count": 60,
     "metadata": {},
     "output_type": "execute_result"
    }
   ],
   "source": [
    "data_path"
   ]
  },
  {
   "cell_type": "code",
   "execution_count": null,
   "id": "271c8eea-e0bd-4669-a087-e6e228bc5872",
   "metadata": {},
   "outputs": [],
   "source": []
  }
 ],
 "metadata": {
  "kernelspec": {
   "display_name": "DL for Image Analysis (PyTorch)",
   "language": "python",
   "name": "dl-pytorch"
  },
  "language_info": {
   "codemirror_mode": {
    "name": "ipython",
    "version": 3
   },
   "file_extension": ".py",
   "mimetype": "text/x-python",
   "name": "python",
   "nbconvert_exporter": "python",
   "pygments_lexer": "ipython3",
   "version": "3.8.12"
  }
 },
 "nbformat": 4,
 "nbformat_minor": 5
}
